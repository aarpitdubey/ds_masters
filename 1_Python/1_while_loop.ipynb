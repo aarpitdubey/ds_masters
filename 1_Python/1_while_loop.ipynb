{
  "nbformat": 4,
  "nbformat_minor": 0,
  "metadata": {
    "colab": {
      "provenance": [],
      "authorship_tag": "ABX9TyODfsLSzPabmqsJizRxF1Xj",
      "include_colab_link": true
    },
    "kernelspec": {
      "name": "python3",
      "display_name": "Python 3"
    },
    "language_info": {
      "name": "python"
    }
  },
  "cells": [
    {
      "cell_type": "markdown",
      "metadata": {
        "id": "view-in-github",
        "colab_type": "text"
      },
      "source": [
        "<a href=\"https://colab.research.google.com/github/aarpitdubey/ml_masters/blob/main/1_Python/1_while_loop.ipynb\" target=\"_parent\"><img src=\"https://colab.research.google.com/assets/colab-badge.svg\" alt=\"Open In Colab\"/></a>"
      ]
    },
    {
      "cell_type": "code",
      "execution_count": 2,
      "metadata": {
        "colab": {
          "base_uri": "https://localhost:8080/"
        },
        "id": "1hzri_5pDyNz",
        "outputId": "4ec26af7-0619-467c-c05f-742a027a12de"
      },
      "outputs": [
        {
          "output_type": "stream",
          "name": "stdout",
          "text": [
            "This statement inside is valid statement if statement is inside elif block \n"
          ]
        }
      ],
      "source": [
        "a = 10\n",
        "b = 20\n",
        "\n",
        "if a==10 and b > 20:\n",
        "  print(\"This is the valid statement\")\n",
        "elif a == 10  and b <= 20:\n",
        "  print(\"This statement inside is valid statement if statement is inside elif block \")\n",
        "else:\n",
        "  print(\"Condition is not valid\")"
      ]
    },
    {
      "cell_type": "code",
      "source": [
        "a == 10 and b == 20"
      ],
      "metadata": {
        "colab": {
          "base_uri": "https://localhost:8080/"
        },
        "id": "QkzRm0OEF7mY",
        "outputId": "90d4ef3d-b265-434e-a80e-f20cc10014d0"
      },
      "execution_count": 3,
      "outputs": [
        {
          "output_type": "execute_result",
          "data": {
            "text/plain": [
              "True"
            ]
          },
          "metadata": {},
          "execution_count": 3
        }
      ]
    },
    {
      "cell_type": "code",
      "source": [
        "a == 10"
      ],
      "metadata": {
        "colab": {
          "base_uri": "https://localhost:8080/"
        },
        "id": "dNz378ZRdwng",
        "outputId": "4c2165a0-e9fa-49cf-ba4d-adb895d7a160"
      },
      "execution_count": 4,
      "outputs": [
        {
          "output_type": "execute_result",
          "data": {
            "text/plain": [
              "True"
            ]
          },
          "metadata": {},
          "execution_count": 4
        }
      ]
    },
    {
      "cell_type": "code",
      "source": [
        "b == 20"
      ],
      "metadata": {
        "colab": {
          "base_uri": "https://localhost:8080/"
        },
        "id": "Qt8_0liOdzwq",
        "outputId": "5ec5ff76-d685-4e87-d259-b549ce94f984"
      },
      "execution_count": 5,
      "outputs": [
        {
          "output_type": "execute_result",
          "data": {
            "text/plain": [
              "True"
            ]
          },
          "metadata": {},
          "execution_count": 5
        }
      ]
    },
    {
      "cell_type": "code",
      "source": [
        "a == 10 and b > 20"
      ],
      "metadata": {
        "id": "CJiVb7Y2gbYn",
        "outputId": "ef5afdd7-f388-42d1-ec42-cab9dcb256e3",
        "colab": {
          "base_uri": "https://localhost:8080/"
        }
      },
      "execution_count": 6,
      "outputs": [
        {
          "output_type": "execute_result",
          "data": {
            "text/plain": [
              "False"
            ]
          },
          "metadata": {},
          "execution_count": 6
        }
      ]
    },
    {
      "cell_type": "markdown",
      "source": [
        "**Task :**\n",
        "\n",
        "***Take a input from your keyword as your first name and then try tovalidare of write multiple condition by yourself***"
      ],
      "metadata": {
        "id": "mIOUNGgCgsRi"
      }
    },
    {
      "cell_type": "code",
      "source": [
        "firstname = input(\"Enter your first name : \").lower()\n",
        "lastname = input(\"Enter your last name : \").lower()\n",
        "\n",
        "# Checking for particular person and name\n",
        "if firstname == \"sharp\" and lastname == \"dubrich\":\n",
        "  print(\"Friends Forever !!\")\n",
        "else:\n",
        "  print(\"Enemies Forever\")"
      ],
      "metadata": {
        "id": "GQgSospkgkrj",
        "outputId": "f7f9b2c5-f33c-44f5-f8cf-46fdf45bb9f5",
        "colab": {
          "base_uri": "https://localhost:8080/"
        }
      },
      "execution_count": 10,
      "outputs": [
        {
          "output_type": "stream",
          "name": "stdout",
          "text": [
            "Enter your first name : sHarp\n",
            "Enter your last name : DuBriCh\n",
            "Friends Forever !!\n"
          ]
        }
      ]
    },
    {
      "cell_type": "code",
      "source": [
        "initial_speed = 0\n",
        "final_speed  = 100\n",
        "count = 1\n",
        "\n",
        "while initial_speed < final_speed:\n",
        "  print(\"This is my speed\")\n",
        "  count = count + 1\n",
        "  if count == 10 : \n",
        "    break\n",
        "\n"
      ],
      "metadata": {
        "id": "nn0bWbW5lSjX",
        "outputId": "bac1144d-41b2-4583-8acf-3f0dcd34415f",
        "colab": {
          "base_uri": "https://localhost:8080/"
        }
      },
      "execution_count": 12,
      "outputs": [
        {
          "output_type": "stream",
          "name": "stdout",
          "text": [
            "This is my speed\n",
            "This is my speed\n",
            "This is my speed\n",
            "This is my speed\n",
            "This is my speed\n",
            "This is my speed\n",
            "This is my speed\n",
            "This is my speed\n",
            "This is my speed\n"
          ]
        }
      ]
    },
    {
      "cell_type": "code",
      "source": [
        "i = 1\n",
        "j = 5\n",
        "while i < j:\n",
        "  print(i)\n",
        "  i+=1\n",
        "  "
      ],
      "metadata": {
        "id": "MY_VH8WClDJt",
        "outputId": "0e457887-189c-40aa-abb6-21f15b466ebb",
        "colab": {
          "base_uri": "https://localhost:8080/"
        }
      },
      "execution_count": 13,
      "outputs": [
        {
          "output_type": "stream",
          "name": "stdout",
          "text": [
            "1\n",
            "2\n",
            "3\n",
            "4\n"
          ]
        }
      ]
    },
    {
      "cell_type": "code",
      "source": [],
      "metadata": {
        "id": "rkkvYycDnyE8"
      },
      "execution_count": null,
      "outputs": []
    }
  ]
}