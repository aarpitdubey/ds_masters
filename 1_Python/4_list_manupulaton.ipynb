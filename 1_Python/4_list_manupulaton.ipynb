{
  "cells": [
    {
      "cell_type": "markdown",
      "metadata": {
        "id": "view-in-github",
        "colab_type": "text"
      },
      "source": [
        "<a href=\"https://colab.research.google.com/github/aarpitdubey/ml_masters/blob/main/1_Python/4_list_manupulaton.ipynb\" target=\"_parent\"><img src=\"https://colab.research.google.com/assets/colab-badge.svg\" alt=\"Open In Colab\"/></a>"
      ]
    },
    {
      "cell_type": "code",
      "execution_count": null,
      "metadata": {
        "id": "DIfd2pch63vh"
      },
      "outputs": [],
      "source": [
        "l  = [\"sudh\" , 234,45.56, [45,56,6,\"c\"] , True]"
      ]
    },
    {
      "cell_type": "code",
      "execution_count": null,
      "metadata": {
        "id": "H7YavBCW63vj",
        "outputId": "a82d992e-12c8-4e02-999b-43f9b9019a5c"
      },
      "outputs": [
        {
          "name": "stdout",
          "output_type": "stream",
          "text": [
            "sudh\n",
            "234\n",
            "45.56\n",
            "[45, 56, 6, 'c']\n",
            "True\n"
          ]
        }
      ],
      "source": [
        "for i in l :\n",
        "    print(i)"
      ]
    },
    {
      "cell_type": "code",
      "execution_count": null,
      "metadata": {
        "id": "NBAvmGVd63vk",
        "outputId": "86068ce0-0cbb-4bb1-9ec8-7882b3b5eb57"
      },
      "outputs": [
        {
          "data": {
            "text/plain": [
              "'sudh'"
            ]
          },
          "execution_count": 4,
          "metadata": {},
          "output_type": "execute_result"
        }
      ],
      "source": [
        "l[0]"
      ]
    },
    {
      "cell_type": "code",
      "execution_count": null,
      "metadata": {
        "id": "ua0OyaEm63vl",
        "outputId": "2cd91248-a4be-4147-d874-bac4c2a9eb79"
      },
      "outputs": [
        {
          "data": {
            "text/plain": [
              "[True, [45, 56, 6, 'c'], 45.56, 234, 'sudh']"
            ]
          },
          "execution_count": 5,
          "metadata": {},
          "output_type": "execute_result"
        }
      ],
      "source": [
        "l[::-1]"
      ]
    },
    {
      "cell_type": "code",
      "execution_count": null,
      "metadata": {
        "id": "HVz-TDch63vl",
        "outputId": "778a3d7e-0636-41ff-c137-4728c6779d4b"
      },
      "outputs": [
        {
          "name": "stdout",
          "output_type": "stream",
          "text": [
            "no element is not a list  sudh\n",
            "no element is not a list  234\n",
            "no element is not a list  45.56\n",
            "this is a list  [45, 56, 6, 'c']\n",
            "no element is not a list  True\n"
          ]
        }
      ],
      "source": [
        "for i in l :\n",
        "    if type(i)== list :\n",
        "        print(\"this is a list \" ,i)\n",
        "    else :\n",
        "        print(\"no element is not a list \", i)"
      ]
    },
    {
      "cell_type": "code",
      "execution_count": null,
      "metadata": {
        "id": "O7qvLAFq63vl",
        "outputId": "df0d5292-03ed-40ff-99f4-97a525d87798"
      },
      "outputs": [
        {
          "data": {
            "text/plain": [
              "['sudh', 234, 45.56, [45, 56, 6, 'c'], True]"
            ]
          },
          "execution_count": 7,
          "metadata": {},
          "output_type": "execute_result"
        }
      ],
      "source": [
        "l "
      ]
    },
    {
      "cell_type": "code",
      "execution_count": null,
      "metadata": {
        "id": "z86dFAgi63vm"
      },
      "outputs": [],
      "source": [
        "l1= [345,2345, \"ineuron\" , \"tech \"]"
      ]
    },
    {
      "cell_type": "code",
      "execution_count": null,
      "metadata": {
        "id": "p5XUmu3763vm",
        "outputId": "46474d64-d97c-4246-ddcf-4abaea438f63"
      },
      "outputs": [
        {
          "data": {
            "text/plain": [
              "['sudh', 234, 45.56, [45, 56, 6, 'c'], True, 345, 2345, 'ineuron', 'tech ']"
            ]
          },
          "execution_count": 9,
          "metadata": {},
          "output_type": "execute_result"
        }
      ],
      "source": [
        "l + l1"
      ]
    },
    {
      "cell_type": "code",
      "execution_count": null,
      "metadata": {
        "id": "fhLY1L1o63vm",
        "outputId": "f938a20a-bdac-4dea-f79c-b1ae162b0d50"
      },
      "outputs": [
        {
          "data": {
            "text/plain": [
              "['sudh',\n",
              " 234,\n",
              " 45.56,\n",
              " [45, 56, 6, 'c'],\n",
              " True,\n",
              " 'sudh',\n",
              " 234,\n",
              " 45.56,\n",
              " [45, 56, 6, 'c'],\n",
              " True]"
            ]
          },
          "execution_count": 10,
          "metadata": {},
          "output_type": "execute_result"
        }
      ],
      "source": [
        "l * 2"
      ]
    },
    {
      "cell_type": "code",
      "execution_count": null,
      "metadata": {
        "id": "6dU_SkD063vn",
        "outputId": "e415f1df-569a-4a1c-b6d9-592b2c341233"
      },
      "outputs": [
        {
          "data": {
            "text/plain": [
              "5"
            ]
          },
          "execution_count": 11,
          "metadata": {},
          "output_type": "execute_result"
        }
      ],
      "source": [
        "len(l)"
      ]
    },
    {
      "cell_type": "code",
      "execution_count": null,
      "metadata": {
        "id": "rvLMCLpa63vn",
        "outputId": "6d5128e3-2538-42e8-a232-6fe3ef5e9d6f"
      },
      "outputs": [
        {
          "data": {
            "text/plain": [
              "True"
            ]
          },
          "execution_count": 14,
          "metadata": {},
          "output_type": "execute_result"
        }
      ],
      "source": [
        "234  in l"
      ]
    },
    {
      "cell_type": "code",
      "execution_count": null,
      "metadata": {
        "id": "CsQpb5EP63vn",
        "outputId": "60ced7b3-ae6a-47ed-9d60-9cc9261ff2d1"
      },
      "outputs": [
        {
          "name": "stdout",
          "output_type": "stream",
          "text": [
            "45.56\n"
          ]
        }
      ],
      "source": [
        "print(max([2,3,4,5,45.56]))"
      ]
    },
    {
      "cell_type": "code",
      "execution_count": null,
      "metadata": {
        "id": "w9TrvZdG63vo",
        "outputId": "adbd0db3-f347-49d8-b30f-1b598095cf45"
      },
      "outputs": [
        {
          "ename": "TypeError",
          "evalue": "'>' not supported between instances of 'int' and 'str'",
          "output_type": "error",
          "traceback": [
            "\u001b[1;31m---------------------------------------------------------------------------\u001b[0m",
            "\u001b[1;31mTypeError\u001b[0m                                 Traceback (most recent call last)",
            "\u001b[1;32m<ipython-input-19-738f7be65a3a>\u001b[0m in \u001b[0;36m<module>\u001b[1;34m\u001b[0m\n\u001b[1;32m----> 1\u001b[1;33m \u001b[0mmax\u001b[0m\u001b[1;33m(\u001b[0m\u001b[1;33m[\u001b[0m\u001b[1;34m\"sdfs\"\u001b[0m\u001b[1;33m,\u001b[0m\u001b[1;34m\"sdfs\"\u001b[0m \u001b[1;33m,\u001b[0m \u001b[1;36m234\u001b[0m\u001b[1;33m]\u001b[0m\u001b[1;33m)\u001b[0m\u001b[1;33m\u001b[0m\u001b[1;33m\u001b[0m\u001b[0m\n\u001b[0m",
            "\u001b[1;31mTypeError\u001b[0m: '>' not supported between instances of 'int' and 'str'"
          ]
        }
      ],
      "source": [
        "max([\"sdfs\",\"sdfs\" , 234])"
      ]
    },
    {
      "cell_type": "code",
      "execution_count": null,
      "metadata": {
        "id": "lOfV74Eq63vo",
        "outputId": "ff22a327-9b1c-4d39-8716-828ed40886d8"
      },
      "outputs": [
        {
          "data": {
            "text/plain": [
              "'z'"
            ]
          },
          "execution_count": 22,
          "metadata": {},
          "output_type": "execute_result"
        }
      ],
      "source": [
        "max([\"sudh\" , \"ineruon\" , \"AI\",\"z\"])"
      ]
    },
    {
      "cell_type": "code",
      "execution_count": null,
      "metadata": {
        "id": "COL3QUlO63vo",
        "outputId": "bc455d2b-67bd-4237-e2fb-d6481838a748"
      },
      "outputs": [
        {
          "data": {
            "text/plain": [
              "'A'"
            ]
          },
          "execution_count": 33,
          "metadata": {},
          "output_type": "execute_result"
        }
      ],
      "source": [
        "min([\"fsdfa3434\",\"fsd\",\"fsdfaaaaaaaaa\",\"a\" , \"A\"])"
      ]
    },
    {
      "cell_type": "code",
      "execution_count": null,
      "metadata": {
        "id": "1x4oIvir63vo",
        "outputId": "92f35302-054f-4600-d65f-9bf48af8ba3d"
      },
      "outputs": [
        {
          "data": {
            "text/plain": [
              "0"
            ]
          },
          "execution_count": 25,
          "metadata": {},
          "output_type": "execute_result"
        }
      ],
      "source": [
        "min([2,3,4,5,0])"
      ]
    },
    {
      "cell_type": "code",
      "execution_count": null,
      "metadata": {
        "id": "tMvKnkNQ63vp",
        "outputId": "371e526f-6ea1-4325-c3ff-9cebd4c9c68a"
      },
      "outputs": [
        {
          "ename": "TypeError",
          "evalue": "'<' not supported between instances of 'int' and 'str'",
          "output_type": "error",
          "traceback": [
            "\u001b[1;31m---------------------------------------------------------------------------\u001b[0m",
            "\u001b[1;31mTypeError\u001b[0m                                 Traceback (most recent call last)",
            "\u001b[1;32m<ipython-input-27-3877a0cf8210>\u001b[0m in \u001b[0;36m<module>\u001b[1;34m\u001b[0m\n\u001b[1;32m----> 1\u001b[1;33m \u001b[0mmin\u001b[0m\u001b[1;33m(\u001b[0m\u001b[1;34m\"34345\"\u001b[0m\u001b[1;33m,\u001b[0m\u001b[1;36m234\u001b[0m\u001b[1;33m,\u001b[0m\u001b[1;36m234.345\u001b[0m\u001b[1;33m,\u001b[0m\u001b[1;34m\"344\"\u001b[0m\u001b[1;33m)\u001b[0m\u001b[1;33m\u001b[0m\u001b[1;33m\u001b[0m\u001b[0m\n\u001b[0m",
            "\u001b[1;31mTypeError\u001b[0m: '<' not supported between instances of 'int' and 'str'"
          ]
        }
      ],
      "source": [
        "min(\"34345\",234,234.345,\"344\")"
      ]
    },
    {
      "cell_type": "code",
      "execution_count": null,
      "metadata": {
        "id": "OrDRO4Ai63vp"
      },
      "outputs": [],
      "source": [
        "l = [1,2,3,4]"
      ]
    },
    {
      "cell_type": "code",
      "execution_count": null,
      "metadata": {
        "id": "AbnBraaU63vp"
      },
      "outputs": [],
      "source": [
        "l.append(6+6j)"
      ]
    },
    {
      "cell_type": "code",
      "execution_count": null,
      "metadata": {
        "id": "YG2z4eT963vp",
        "outputId": "40807e26-9851-4c1d-c3e6-aa5a03927ecd"
      },
      "outputs": [
        {
          "data": {
            "text/plain": [
              "[1, 2, 3, 4, 'sudh', [1, 2, 3, 4, 4], (6+6j)]"
            ]
          },
          "execution_count": 40,
          "metadata": {},
          "output_type": "execute_result"
        }
      ],
      "source": [
        "l"
      ]
    },
    {
      "cell_type": "code",
      "execution_count": null,
      "metadata": {
        "id": "SjbOLFGg63vq",
        "outputId": "85cbfcfd-6e61-4ce1-c4d1-e0370f7d2856"
      },
      "outputs": [
        {
          "data": {
            "text/plain": [
              "[1, 2, 3, 4, 'sudh', [1, 2, 3, 4, 4], (6+6j)]"
            ]
          },
          "execution_count": 41,
          "metadata": {},
          "output_type": "execute_result"
        }
      ],
      "source": [
        "l"
      ]
    },
    {
      "cell_type": "code",
      "execution_count": null,
      "metadata": {
        "id": "evdwyxB363vq",
        "outputId": "35a3b035-d4ee-4662-f6db-3360bb6c2801"
      },
      "outputs": [
        {
          "ename": "TypeError",
          "evalue": "can only concatenate list (not \"str\") to list",
          "output_type": "error",
          "traceback": [
            "\u001b[1;31m---------------------------------------------------------------------------\u001b[0m",
            "\u001b[1;31mTypeError\u001b[0m                                 Traceback (most recent call last)",
            "\u001b[1;32m<ipython-input-43-c2dbfee94b38>\u001b[0m in \u001b[0;36m<module>\u001b[1;34m\u001b[0m\n\u001b[1;32m----> 1\u001b[1;33m \u001b[0ml\u001b[0m \u001b[1;33m+\u001b[0m \u001b[1;34m\"sudh\"\u001b[0m\u001b[1;33m\u001b[0m\u001b[1;33m\u001b[0m\u001b[0m\n\u001b[0m",
            "\u001b[1;31mTypeError\u001b[0m: can only concatenate list (not \"str\") to list"
          ]
        }
      ],
      "source": [
        "l + \"sudh\""
      ]
    },
    {
      "cell_type": "code",
      "execution_count": null,
      "metadata": {
        "id": "fA4kECRE63vq"
      },
      "outputs": [],
      "source": [
        "l.append(\"sudh\")"
      ]
    },
    {
      "cell_type": "code",
      "execution_count": null,
      "metadata": {
        "id": "E0KvNz8x63vr",
        "outputId": "b3d986d1-cbfc-42a8-fdd5-3db2f989729d"
      },
      "outputs": [
        {
          "data": {
            "text/plain": [
              "[1, 2, 3, 4, 'sudh', [1, 2, 3, 4, 4], (6+6j), 'sudh']"
            ]
          },
          "execution_count": 46,
          "metadata": {},
          "output_type": "execute_result"
        }
      ],
      "source": [
        "l"
      ]
    },
    {
      "cell_type": "code",
      "execution_count": null,
      "metadata": {
        "id": "bKED66Sf63vr"
      },
      "outputs": [],
      "source": [
        "l = [1,2,3,4,5]"
      ]
    },
    {
      "cell_type": "code",
      "execution_count": null,
      "metadata": {
        "id": "cAeEjuy963vr"
      },
      "outputs": [],
      "source": [
        "l.append(\"sudh\")"
      ]
    },
    {
      "cell_type": "code",
      "execution_count": null,
      "metadata": {
        "id": "SpqvIKZy63vr",
        "outputId": "24aa9f63-901d-4d0e-82da-3487df7cf15c"
      },
      "outputs": [
        {
          "data": {
            "text/plain": [
              "[1, 2, 3, 4, 5, 'sudh']"
            ]
          },
          "execution_count": 49,
          "metadata": {},
          "output_type": "execute_result"
        }
      ],
      "source": [
        "l"
      ]
    },
    {
      "cell_type": "code",
      "execution_count": null,
      "metadata": {
        "id": "9n66ckXN63vr"
      },
      "outputs": [],
      "source": [
        "l.insert(3,\"ineuron\")"
      ]
    },
    {
      "cell_type": "code",
      "execution_count": null,
      "metadata": {
        "id": "CdKJesHO63vs",
        "outputId": "10579db0-7f61-448f-dfaa-b35229af5589"
      },
      "outputs": [
        {
          "data": {
            "text/plain": [
              "[1, 2, 3, 'ineuron', 4, 5, 'sudh']"
            ]
          },
          "execution_count": 51,
          "metadata": {},
          "output_type": "execute_result"
        }
      ],
      "source": [
        "l"
      ]
    },
    {
      "cell_type": "code",
      "execution_count": null,
      "metadata": {
        "id": "Iveld2fX63vs"
      },
      "outputs": [],
      "source": [
        "l.insert(-1 , \"test\")"
      ]
    },
    {
      "cell_type": "code",
      "execution_count": null,
      "metadata": {
        "id": "lCUEKLAH63vs",
        "outputId": "d6bc17b1-cd26-4d10-cf5b-03074c4e6bf0"
      },
      "outputs": [
        {
          "data": {
            "text/plain": [
              "['test', 1, 2, 3, 'ineuron', 4, 5, 'test', 'test', 'sudh']"
            ]
          },
          "execution_count": 57,
          "metadata": {},
          "output_type": "execute_result"
        }
      ],
      "source": [
        "l"
      ]
    },
    {
      "cell_type": "code",
      "execution_count": null,
      "metadata": {
        "id": "ElRpUU8j63vs",
        "outputId": "860171ae-8389-483b-a0a7-00ec616266f4"
      },
      "outputs": [
        {
          "data": {
            "text/plain": [
              "['test', 1, 2, 3, 'ineuron', 4, 5, 'test', 'test', 'sudh']"
            ]
          },
          "execution_count": 58,
          "metadata": {},
          "output_type": "execute_result"
        }
      ],
      "source": [
        "l"
      ]
    },
    {
      "cell_type": "code",
      "execution_count": null,
      "metadata": {
        "id": "_O-BW-Em63vs"
      },
      "outputs": [],
      "source": [
        "l.insert(-1 , \"test2\")"
      ]
    },
    {
      "cell_type": "code",
      "execution_count": null,
      "metadata": {
        "id": "T-MJvQJn63vt",
        "outputId": "97858fa7-c856-4503-cf47-d8d6bc968685"
      },
      "outputs": [
        {
          "data": {
            "text/plain": [
              "['test', 1, 2, 3, 'ineuron', 4, 5, 'test', 'test', 'test2', 'sudh']"
            ]
          },
          "execution_count": 60,
          "metadata": {},
          "output_type": "execute_result"
        }
      ],
      "source": [
        "l"
      ]
    },
    {
      "cell_type": "code",
      "execution_count": null,
      "metadata": {
        "id": "w0kNnrnv63vt",
        "outputId": "dea1637f-1f9e-421d-e46b-2d903d7587ff"
      },
      "outputs": [
        {
          "data": {
            "text/plain": [
              "['test', 1, 2, 3, 'ineuron', 4, 5, 'test', 'test', 'test2', 'sudh']"
            ]
          },
          "execution_count": 61,
          "metadata": {},
          "output_type": "execute_result"
        }
      ],
      "source": [
        "l"
      ]
    },
    {
      "cell_type": "code",
      "execution_count": null,
      "metadata": {
        "id": "zqtCWhOn63vt",
        "outputId": "5009e480-2114-4640-c6c5-e3a060b88223"
      },
      "outputs": [
        {
          "data": {
            "text/plain": [
              "3"
            ]
          },
          "execution_count": 63,
          "metadata": {},
          "output_type": "execute_result"
        }
      ],
      "source": [
        "l.count(\"test\")"
      ]
    },
    {
      "cell_type": "code",
      "execution_count": null,
      "metadata": {
        "id": "Raec5RP663vt"
      },
      "outputs": [],
      "source": [
        "l = [1,2,3,4]"
      ]
    },
    {
      "cell_type": "code",
      "execution_count": null,
      "metadata": {
        "id": "I-Y8JWBQ63vu"
      },
      "outputs": [],
      "source": [
        "l.append([3,4,7,89])"
      ]
    },
    {
      "cell_type": "code",
      "execution_count": null,
      "metadata": {
        "id": "r4LCjnEH63vu",
        "outputId": "96311133-31df-4c8f-a198-8a3d15bb61a6"
      },
      "outputs": [
        {
          "data": {
            "text/plain": [
              "[1, 2, 3, 4, 'sudh', [1, 2, 4, 56], 't', 'e', 's', 't', '1', 67, [3, 4, 7, 89]]"
            ]
          },
          "execution_count": 76,
          "metadata": {},
          "output_type": "execute_result"
        }
      ],
      "source": [
        "l"
      ]
    },
    {
      "cell_type": "code",
      "execution_count": null,
      "metadata": {
        "id": "ULVPZloz63vu"
      },
      "outputs": [],
      "source": [
        "l.append([1,2,4,56])"
      ]
    },
    {
      "cell_type": "code",
      "execution_count": null,
      "metadata": {
        "id": "gGStz5SN63vu",
        "outputId": "56e61251-732c-4d4a-d4ac-4bd493778a1b"
      },
      "outputs": [
        {
          "data": {
            "text/plain": [
              "[1, 2, 3, 4]"
            ]
          },
          "execution_count": 80,
          "metadata": {},
          "output_type": "execute_result"
        }
      ],
      "source": [
        "l"
      ]
    },
    {
      "cell_type": "code",
      "execution_count": null,
      "metadata": {
        "id": "b9PkIBCc63vu"
      },
      "outputs": [],
      "source": [
        "l.extend([3,4,7,89,[\"sdfusdf\",4,5]])"
      ]
    },
    {
      "cell_type": "code",
      "execution_count": null,
      "metadata": {
        "id": "aRQHs4av63vu",
        "outputId": "e6b24614-607b-48e6-d2e4-b31388701c63"
      },
      "outputs": [
        {
          "data": {
            "text/plain": [
              "[1, 2, 3, 4, 3, 4, 7, 89, 3, 4, 7, 89, ['sdfusdf', 4, 5]]"
            ]
          },
          "execution_count": 84,
          "metadata": {},
          "output_type": "execute_result"
        }
      ],
      "source": [
        "l"
      ]
    },
    {
      "cell_type": "code",
      "execution_count": null,
      "metadata": {
        "id": "-GQXGIXu63vv",
        "outputId": "eb17dee9-42a2-496c-cb35-e9a3b4cde305"
      },
      "outputs": [
        {
          "data": {
            "text/plain": [
              "['t', 'e', 's', 't']"
            ]
          },
          "execution_count": 71,
          "metadata": {},
          "output_type": "execute_result"
        }
      ],
      "source": [
        "s = \"test\"\n",
        "list(s)"
      ]
    },
    {
      "cell_type": "code",
      "execution_count": null,
      "metadata": {
        "id": "f2Rw9lEk63vv",
        "outputId": "49b0d6ed-351e-48dd-d0bd-5e4052089a16"
      },
      "outputs": [
        {
          "data": {
            "text/plain": [
              "[1, 2, 3, 4, 3, 4, 7, 89, 3, 4, 7, 89, ['sdfusdf', 4, 5]]"
            ]
          },
          "execution_count": 85,
          "metadata": {},
          "output_type": "execute_result"
        }
      ],
      "source": [
        "l "
      ]
    },
    {
      "cell_type": "code",
      "execution_count": null,
      "metadata": {
        "id": "8A_Uc1iJ63vv",
        "outputId": "4db253ba-62f7-4478-811b-986aabf77194"
      },
      "outputs": [
        {
          "data": {
            "text/plain": [
              "2"
            ]
          },
          "execution_count": 86,
          "metadata": {},
          "output_type": "execute_result"
        }
      ],
      "source": [
        "l.index(3)"
      ]
    },
    {
      "cell_type": "code",
      "execution_count": null,
      "metadata": {
        "id": "3J3tBuEJ63vv"
      },
      "outputs": [],
      "source": [
        "l = [2,3,4,5,6,7]"
      ]
    },
    {
      "cell_type": "code",
      "execution_count": null,
      "metadata": {
        "id": "k_JJkp-D63vw",
        "outputId": "b880b370-14ab-4422-e5d3-4aedffd52c56"
      },
      "outputs": [
        {
          "data": {
            "text/plain": [
              "2"
            ]
          },
          "execution_count": 90,
          "metadata": {},
          "output_type": "execute_result"
        }
      ],
      "source": [
        "l.pop(0)"
      ]
    },
    {
      "cell_type": "code",
      "execution_count": null,
      "metadata": {
        "id": "FomsR1jI63vw",
        "outputId": "fadd380e-a65a-4ade-8188-58cb2fc1306f"
      },
      "outputs": [
        {
          "data": {
            "text/plain": [
              "[3, 4, 5, 6]"
            ]
          },
          "execution_count": 91,
          "metadata": {},
          "output_type": "execute_result"
        }
      ],
      "source": [
        "l"
      ]
    },
    {
      "cell_type": "code",
      "execution_count": null,
      "metadata": {
        "id": "105uWwTi63vw"
      },
      "outputs": [],
      "source": [
        "l = [4,5,6,6,6,6,6,7,8,9]\n"
      ]
    },
    {
      "cell_type": "code",
      "execution_count": null,
      "metadata": {
        "id": "HbjBQrd763vw"
      },
      "outputs": [],
      "source": [
        "l.remove(6)"
      ]
    },
    {
      "cell_type": "code",
      "execution_count": null,
      "metadata": {
        "id": "QwhPYmSh63vx",
        "outputId": "36eb6030-f0a5-46cf-8cae-49a54a848eb4"
      },
      "outputs": [
        {
          "data": {
            "text/plain": [
              "[4, 5, 7, 8, 9]"
            ]
          },
          "execution_count": 106,
          "metadata": {},
          "output_type": "execute_result"
        }
      ],
      "source": [
        "l"
      ]
    },
    {
      "cell_type": "code",
      "execution_count": null,
      "metadata": {
        "id": "Njq05vB463vx",
        "outputId": "7d59a048-c192-49c6-dec9-f82152b82116"
      },
      "outputs": [
        {
          "data": {
            "text/plain": [
              "[4, 5, 7, 8, 9]"
            ]
          },
          "execution_count": 107,
          "metadata": {},
          "output_type": "execute_result"
        }
      ],
      "source": [
        "l "
      ]
    },
    {
      "cell_type": "code",
      "execution_count": null,
      "metadata": {
        "id": "iSMuz3VE63vx"
      },
      "outputs": [],
      "source": [
        "l.reverse()"
      ]
    },
    {
      "cell_type": "code",
      "execution_count": null,
      "metadata": {
        "id": "u7g73-Pb63vx",
        "outputId": "c1d3a706-0bfd-4116-98f0-6b6d02f7de47"
      },
      "outputs": [
        {
          "data": {
            "text/plain": [
              "[9, 8, 7, 5, 4]"
            ]
          },
          "execution_count": 109,
          "metadata": {},
          "output_type": "execute_result"
        }
      ],
      "source": [
        "l"
      ]
    },
    {
      "cell_type": "code",
      "execution_count": null,
      "metadata": {
        "id": "NGGCA31w63vx"
      },
      "outputs": [],
      "source": [
        "l.sort()"
      ]
    },
    {
      "cell_type": "code",
      "execution_count": null,
      "metadata": {
        "id": "zQB8aaL563vx",
        "outputId": "7e41036a-f60d-4130-c2b3-6f02d6428e24"
      },
      "outputs": [
        {
          "data": {
            "text/plain": [
              "[4, 5, 7, 8, 9]"
            ]
          },
          "execution_count": 111,
          "metadata": {},
          "output_type": "execute_result"
        }
      ],
      "source": [
        "l"
      ]
    },
    {
      "cell_type": "code",
      "execution_count": null,
      "metadata": {
        "id": "yG4Y3MTP63vy"
      },
      "outputs": [],
      "source": [
        "l = [3,4,5,6,78,\"sudh\" , \"ineuron\" , 45.67]"
      ]
    },
    {
      "cell_type": "code",
      "execution_count": null,
      "metadata": {
        "id": "bnZsi7-o63vy",
        "outputId": "aabf26cc-2f1e-4b5e-ce6a-63cb4cccec09"
      },
      "outputs": [
        {
          "ename": "TypeError",
          "evalue": "'<' not supported between instances of 'str' and 'int'",
          "output_type": "error",
          "traceback": [
            "\u001b[1;31m---------------------------------------------------------------------------\u001b[0m",
            "\u001b[1;31mTypeError\u001b[0m                                 Traceback (most recent call last)",
            "\u001b[1;32m<ipython-input-113-fb07ac7c73ab>\u001b[0m in \u001b[0;36m<module>\u001b[1;34m\u001b[0m\n\u001b[1;32m----> 1\u001b[1;33m \u001b[0ml\u001b[0m\u001b[1;33m.\u001b[0m\u001b[0msort\u001b[0m\u001b[1;33m(\u001b[0m\u001b[1;33m)\u001b[0m\u001b[1;33m\u001b[0m\u001b[1;33m\u001b[0m\u001b[0m\n\u001b[0m",
            "\u001b[1;31mTypeError\u001b[0m: '<' not supported between instances of 'str' and 'int'"
          ]
        }
      ],
      "source": [
        "l.sort()"
      ]
    },
    {
      "cell_type": "code",
      "execution_count": null,
      "metadata": {
        "id": "X1uvs3rI63vy"
      },
      "outputs": [],
      "source": [
        "l = [3,4,5,6,78 , 45.67]"
      ]
    },
    {
      "cell_type": "code",
      "execution_count": null,
      "metadata": {
        "id": "cxBqV3t863vy"
      },
      "outputs": [],
      "source": [
        "l.sort()"
      ]
    },
    {
      "cell_type": "code",
      "execution_count": null,
      "metadata": {
        "id": "MJ1VQSQn63vy",
        "outputId": "cef59f0c-54bf-4c5b-8217-e8e25d5936ce"
      },
      "outputs": [
        {
          "data": {
            "text/plain": [
              "[3, 4, 5, 6, 45.67, 78]"
            ]
          },
          "execution_count": 116,
          "metadata": {},
          "output_type": "execute_result"
        }
      ],
      "source": [
        "l"
      ]
    },
    {
      "cell_type": "code",
      "execution_count": null,
      "metadata": {
        "id": "6dUjWO_963vz",
        "outputId": "cb81b5e0-5873-4efa-bc0d-01a97e8319bf"
      },
      "outputs": [
        {
          "name": "stdout",
          "output_type": "stream",
          "text": [
            "2\n",
            "index of string:  3\n",
            "6\n",
            "7\n",
            "3\n",
            "6\n",
            "[[1, 2, 3, 4], [5, 6, 7, 'hi', 8], [8, 7, 66], 2, 6, [2, 3, 4], (8+6j), [5, 6, 7]]\n"
          ]
        }
      ],
      "source": [
        "l = [[1,2,3,4],[5,6,7,\"hello\",8],[8,7,66],2,6]\n",
        "l.append([2,3,4])\n",
        "l.append(8+6j)\n",
        "l.append([5,6,7])\n",
        "for i in l:\n",
        "\n",
        "  if type(i) == list:\n",
        "    for j,v in enumerate(i):\n",
        "      \n",
        "      if type(v) == str:\n",
        "        print(\"index of string: \",j)\n",
        "        i[j]=\"hi\"\n",
        "    print(i[1])\n",
        "print(l)\n"
      ]
    },
    {
      "cell_type": "code",
      "execution_count": null,
      "metadata": {
        "id": "sqwuyiGq63vz"
      },
      "outputs": [],
      "source": [
        "l=[[1,2,3],[4,5,6],[7,8,9,'xyz','xyz','xyz'],10, 'vishal', True]\n",
        "# part1\n",
        "l.insert(2,[11,12])\n",
        "l.insert(-1,[13,14])\n",
        "l.append(12+3j)"
      ]
    },
    {
      "cell_type": "code",
      "execution_count": null,
      "metadata": {
        "id": "1wZPubas63vz",
        "outputId": "783a09d7-6ee7-4bd1-8a3b-89f7e9a87bf0"
      },
      "outputs": [
        {
          "name": "stdout",
          "output_type": "stream",
          "text": [
            "3\n",
            "3\n",
            "3\n"
          ]
        }
      ],
      "source": [
        "for i in l:\n",
        "    if type(i) == list:\n",
        "        for j in i:\n",
        "            if type(j) == str:\n",
        "                print(l.index(i))"
      ]
    },
    {
      "cell_type": "code",
      "execution_count": null,
      "metadata": {
        "id": "P6JeVeg363vz",
        "outputId": "c7e0fecb-f331-41a0-99a9-e4ece03753d6"
      },
      "outputs": [
        {
          "data": {
            "text/plain": [
              "[[1, 2, 3],\n",
              " [4, 5, 6],\n",
              " [11, 12],\n",
              " [7, 8, 9, 'xyz'],\n",
              " 10,\n",
              " 'vishal',\n",
              " [13, 14],\n",
              " True,\n",
              " (12+3j)]"
            ]
          },
          "execution_count": 122,
          "metadata": {},
          "output_type": "execute_result"
        }
      ],
      "source": [
        "l"
      ]
    },
    {
      "cell_type": "code",
      "execution_count": null,
      "metadata": {
        "id": "FC8C-gkU63v0"
      },
      "outputs": [],
      "source": [
        "l=[[1,2,3],[4,5,6],[7,8,9,'xyz'],10, 'vishal', True]\n",
        "# part1\n",
        "l.insert(2,[11,12])\n",
        "l.insert(-1,[13,14])\n",
        "l.append(12+3j)\n",
        "print(l)\n",
        "# part2\n",
        "for i in l:\n",
        "    if type(i) == list:\n",
        "        for j in i:\n",
        "            if type(j) == str:\n",
        "                print(l.index(i))\n",
        "#part3\n",
        "for i in l:\n",
        "    if type(i)==list:\n",
        "        print(i.pop(2))\n"
      ]
    },
    {
      "cell_type": "code",
      "execution_count": null,
      "metadata": {
        "id": "QISij1oz63v0",
        "outputId": "7803c13a-cd4e-4276-daaa-35bae6ebb0c7"
      },
      "outputs": [
        {
          "name": "stdout",
          "output_type": "stream",
          "text": [
            "[[23, 45], [6, 7, '78S'], ['sdf', 'sdf'], 'ABC', 'REV']\n",
            "[[23, 45], [6, 7, '78S'], ['sdf', 'sdf'], [11, 12], 'ABC', 'REV']\n",
            "After complex number-  [[23, 45], (2+3j), [6, 7, '78S'], ['sdf', 'sdf'], [11, 12], 'ABC', 'REV']\n"
          ]
        },
        {
          "data": {
            "text/plain": [
              "[[23, 45], (2+3j), [6, 7, '78S'], ['sdf', 'sdf'], [11, 12], 'ABC', 'REV']"
            ]
          },
          "execution_count": 129,
          "metadata": {},
          "output_type": "execute_result"
        }
      ],
      "source": [
        "l = [[23,45],[6,7,'78S'],'ABC','REV']\n",
        "\n",
        "#Q1\n",
        "\n",
        "l.insert(2,['sdf','sdf'])\n",
        "print(l)\n",
        "l.insert(3,[11,12])\n",
        "print(l)\n",
        "l.insert(1,(2+3j))\n",
        "print('After complex number- ',l)\n",
        "l"
      ]
    },
    {
      "cell_type": "code",
      "execution_count": null,
      "metadata": {
        "id": "0_Mn7OS363v0",
        "outputId": "b912693d-94d9-447a-cb3c-087c2f2c823b"
      },
      "outputs": [
        {
          "name": "stdout",
          "output_type": "stream",
          "text": [
            "Found String in Neasted List at index=[6, 7, '78S'] : 78S\n",
            "Removed 78S\n",
            "Found String in Neasted List at index=['sdf', 'sdf'] : sdf\n",
            "Removed sdf\n",
            "List after remove  [[23, 45], (2+3j), [6, 7], ['sdf'], [11, 12], 'ABC', 'REV']\n"
          ]
        }
      ],
      "source": [
        "#Q2\n",
        "for i in l:\n",
        "    if type(i) == list:\n",
        "        for j in i:\n",
        "            if type(j) == str:\n",
        "                print('Found String in Neasted List at index={} : {}'.format(i,j))\n",
        "                print('Removed',j)\n",
        "                i.remove(j)\n",
        "\n",
        "print('List after remove ',l)"
      ]
    },
    {
      "cell_type": "code",
      "execution_count": null,
      "metadata": {
        "id": "pZ5pUVgV63v1",
        "outputId": "e833ac9a-09d1-448b-dd89-bb6ef27077cd"
      },
      "outputs": [
        {
          "name": "stdout",
          "output_type": "stream",
          "text": [
            "Updated list: [[1, '2'], [(1+2j), (3+5j)], [10, 11], [20, 21], '3', 4, 5]\n",
            "\n",
            "\n"
          ]
        }
      ],
      "source": [
        "l=[[1,'2'],[10,11],[20,21],'3',4,5]\n",
        "c=[1+2j,3+5j]\n",
        "\n",
        "# question 1\n",
        "l.insert(1,c)\n",
        "print(f'Updated list: {l}')\n",
        "\n",
        "print()\n",
        "print()"
      ]
    },
    {
      "cell_type": "code",
      "execution_count": null,
      "metadata": {
        "id": "ntJS6xFZ63v1"
      },
      "outputs": [],
      "source": [
        "l=[[1,'2'],[10,11],[20,21],'3',4,5]\n",
        "c=[1+2j,3+5j]\n",
        "\n",
        "# question 1\n",
        "l.insert(1,c)\n",
        "print(f'Updated list: {l}')\n",
        "\n",
        "print()\n",
        "print()\n",
        "\n",
        "# question 2\n",
        "for i in l:\n",
        "    if type(i)==str:\n",
        "        print(f'String exist is {i}')\n",
        "        a=l.index(i)\n",
        "        print(f'Its position is: {a}')\n",
        "print()\n",
        "l.remove('3')\n",
        "print(f'After removing {a} the new list is:\\n {l}')\n",
        "\n",
        "print()\n",
        "print()\n",
        "\n",
        "# question 3\n",
        "print('The every second elemnt is:')\n",
        "for i in l:\n",
        "    if type(i)==list:\n",
        "        \n",
        "        print(i[1])\n"
      ]
    },
    {
      "cell_type": "code",
      "execution_count": null,
      "metadata": {
        "id": "Zbuq25L163v1"
      },
      "outputs": [],
      "source": []
    },
    {
      "cell_type": "code",
      "execution_count": null,
      "metadata": {
        "id": "xATb8sYY63v2"
      },
      "outputs": [],
      "source": [
        "l = [[23,45],[6,7,'78S'],'ABC','REV']\n",
        "\n",
        "#Q1\n",
        "\n",
        "l.insert(2,['sdf','sdf'])\n",
        "print(l)\n",
        "l.insert(3,[11,12])\n",
        "print(l)\n",
        "l.insert(1,(2+3j))\n",
        "print('After complex number- ',l)\n",
        "\n",
        "#Q2\n",
        "for i in l:\n",
        "    if type(i) == list:\n",
        "        for j in i:\n",
        "            if type(j) == str:\n",
        "                print('Found String in Neasted List at index={} : {}'.format(i,j))\n",
        "                print('Removed',j)\n",
        "                i.remove(j)\n",
        "\n",
        "print('List after remove ',l)\n",
        "\n",
        "#Q3\n",
        "k=1\n",
        "for i in l:\n",
        "    if type(i) == list and len(i) >=2:\n",
        "        print('Neasted List ',k)\n",
        "        print('2nd element of it is=',i[1])\n",
        "        k+=1\n"
      ]
    },
    {
      "cell_type": "code",
      "execution_count": null,
      "metadata": {
        "id": "kJ0KTKqH63v3"
      },
      "outputs": [],
      "source": [
        "l = [[1,'a'],[3,4],[5,'b'],1,3,4,5,6]\n",
        "# Append 2 more list and 1 complex number in between\n",
        "l.insert(3,6j)\n",
        "l.insert(4,[7,8])\n",
        "l.insert(5,[9,0])\n",
        "print (l)\n",
        "for i in l:\n",
        "    if type(i) == list:\n",
        "        for t in i:\n",
        "            if type(t) == str:\n",
        "                print(t)\n"
      ]
    },
    {
      "cell_type": "code",
      "execution_count": null,
      "metadata": {
        "id": "zYpRiPI463v4",
        "outputId": "71d9de15-e81c-4ce6-beb9-41ae24d39590"
      },
      "outputs": [
        {
          "data": {
            "text/plain": [
              "[[22, 'mahendra', 55, 22.4],\n",
              " ['dhoni', 77, 11, 55, 78.9],\n",
              " [2, 5, 6],\n",
              " [77, 88, 99],\n",
              " [99, 'pravin', 88, True],\n",
              " 2,\n",
              " 5,\n",
              " (6+4j),\n",
              " 8]"
            ]
          },
          "execution_count": 133,
          "metadata": {},
          "output_type": "execute_result"
        }
      ],
      "source": [
        "l1 = [[22,\"mahendra\",55,22.4],[\"dhoni\",77,11,55,78.9],[77,88,99],2,5,8]\n",
        "\n",
        "l1.insert(2,[2,5,6])\n",
        "l1.insert(4,[99,\"pravin\",88,True])\n",
        "l1.insert(-1,6+4j)\n",
        "l1"
      ]
    },
    {
      "cell_type": "code",
      "execution_count": null,
      "metadata": {
        "id": "KsSC1t7Q63v4",
        "outputId": "3c8e0cb1-bd31-4f54-a0eb-d1034f32c6f0"
      },
      "outputs": [
        {
          "name": "stdout",
          "output_type": "stream",
          "text": [
            "1\n",
            "0\n",
            "1\n"
          ]
        }
      ],
      "source": [
        "for i in l1:\n",
        "    if type(i) == list :\n",
        "        for j in i:\n",
        "            if type(j) == str :\n",
        "                print(i.index(j))\n",
        "                i.remove(j)"
      ]
    },
    {
      "cell_type": "code",
      "execution_count": null,
      "metadata": {
        "id": "oHn6re_Q63v4"
      },
      "outputs": [],
      "source": [
        "l=[[\"gh\",56],[89,\"yhg\"],[\"90\",98],78,90.0]"
      ]
    },
    {
      "cell_type": "code",
      "execution_count": null,
      "metadata": {
        "id": "2xc4JDi363v5",
        "outputId": "a1a2b701-ee64-4d98-88c4-98a6b60ec823"
      },
      "outputs": [
        {
          "name": "stdout",
          "output_type": "stream",
          "text": [
            "[[56], [78, 90], [89, '90', '90', '90'], (6+7j), [78, 90], [89], (6+7j), [89], [98], 78, 90.0]\n"
          ]
        }
      ],
      "source": [
        "for e in l:\n",
        "    if type(e)==list:\n",
        "        l.insert(l.index(e)+1,[78,90])\n",
        "        l.insert(l.index(e)+2,[89,\"90\",\"90\",\"90\"])\n",
        "        l.insert(l.index(e)+3,6+7j)\n",
        "        break\n",
        "print(l)"
      ]
    },
    {
      "cell_type": "code",
      "execution_count": null,
      "metadata": {
        "id": "16LkIzZf63v5",
        "outputId": "d2c97c5c-d3e8-4586-dcbd-ac37183a11f5"
      },
      "outputs": [
        {
          "name": "stdout",
          "output_type": "stream",
          "text": [
            "index of string in nested list of index number 2 is 1\n",
            "index of string in nested list of index number 2 is 1\n",
            "new list [[56], [78, 90], [89, '90'], (6+7j), [78, 90], [89], (6+7j), [89], [98], 78, 90.0]\n"
          ]
        }
      ],
      "source": [
        "for i in l:\n",
        "    if type(i)==list:\n",
        "        for e in i:\n",
        "            if type(e)==str:\n",
        "                print(f\"index of string in nested list of index number {l.index(i)} is {i.index(e)}\")\n",
        "                i.remove(e)\n",
        "print(\"new list\",l)"
      ]
    },
    {
      "cell_type": "code",
      "execution_count": null,
      "metadata": {
        "id": "m-xh7lQy63v5"
      },
      "outputs": [],
      "source": [
        "l=[[\"gh\",56],[89,\"yhg\"],[\"90\",98],78,90.0]\n",
        "for e in l:\n",
        "    if type(e)==list:\n",
        "        l.insert(l.index(e)+1,[78,90])\n",
        "        l.insert(l.index(e)+2,[89,\"90\"])\n",
        "        l.insert(l.index(e)+3,6+7j)\n",
        "        break\n",
        "print(l)\n",
        "for i in l:\n",
        "    if type(i)==list:\n",
        "        for e in i:\n",
        "            if type(e)==str:\n",
        "                print(f\"index of string in nested list of index number {l.index(i)} is {i.index(e)}\")\n",
        "                i.remove(e)\n",
        "print(\"new list\",l)\n",
        "for i in l:\n",
        "    if type(i)==list:\n",
        "        for e in i:\n",
        "            if len(i)>1:\n",
        "                i.pop(1)\n",
        "print(\"final list\",l)\n"
      ]
    },
    {
      "cell_type": "code",
      "execution_count": null,
      "metadata": {
        "id": "CJpuYSWJ63v5"
      },
      "outputs": [],
      "source": []
    },
    {
      "cell_type": "code",
      "execution_count": null,
      "metadata": {
        "id": "uyvNefai63v5"
      },
      "outputs": [],
      "source": [
        "l1 = [[22,\"mahendra\",55,22.4],[\"dhoni\",77,11,55,78.9],[77,88,99],2,5,8]\n",
        "\n",
        "l1.insert(2,[2,5,6])\n",
        "l1.insert(4,[99,\"pravin\",88,True])\n",
        "l1.insert(-1,6+4j)\n",
        "\n",
        "print(l1)\n",
        "\n",
        "for i in l1:\n",
        "    if type(i) == list :\n",
        "        for j in i:\n",
        "            if type(j) == str :\n",
        "                print(i.index(j))\n",
        "                i.remove(j)\n",
        "\n",
        "\n",
        "print(l1)\n",
        "\n",
        "for i in l1 :\n",
        "    if type(i) == list :\n",
        "        print(i[2], end = \",\")\n"
      ]
    },
    {
      "cell_type": "code",
      "execution_count": null,
      "metadata": {
        "id": "BuvVNQiv63v6",
        "outputId": "fee0c630-0ccb-4b29-840e-f36b07fbefe0"
      },
      "outputs": [
        {
          "name": "stdout",
          "output_type": "stream",
          "text": [
            "Q1\n",
            "[(5+6j), [1, 2, 3], [4, 5, 6], [6, 5, 4], [3, 2, 1, 'test', 'test', 'test'], [7, 8, 9], 12, 'Santosh']\n"
          ]
        }
      ],
      "source": [
        "l = [[1,2,3],[4,5,6],[7,8,9],12,\"Santosh\"]\n",
        "l.insert(2,[3,2,1,\"test\",\"test\",\"test\"])\n",
        "l.insert(2,[6,5,4])\n",
        "l.insert(0, 5 + 6j)\n",
        "print(\"Q1\")\n",
        "print(l)"
      ]
    },
    {
      "cell_type": "code",
      "execution_count": null,
      "metadata": {
        "id": "htA-SRQx63v6",
        "outputId": "4ab29b30-e98a-4394-d5bb-83a374d6f67e"
      },
      "outputs": [
        {
          "name": "stdout",
          "output_type": "stream",
          "text": [
            "3\n",
            "4\n"
          ]
        },
        {
          "ename": "IndexError",
          "evalue": "list index out of range",
          "output_type": "error",
          "traceback": [
            "\u001b[1;31m---------------------------------------------------------------------------\u001b[0m",
            "\u001b[1;31mIndexError\u001b[0m                                Traceback (most recent call last)",
            "\u001b[1;32m<ipython-input-143-d0066ee02aec>\u001b[0m in \u001b[0;36m<module>\u001b[1;34m\u001b[0m\n\u001b[0;32m      2\u001b[0m     \u001b[1;32mif\u001b[0m \u001b[0mtype\u001b[0m\u001b[1;33m(\u001b[0m\u001b[0ml\u001b[0m\u001b[1;33m[\u001b[0m\u001b[0mi\u001b[0m\u001b[1;33m]\u001b[0m\u001b[1;33m)\u001b[0m \u001b[1;33m==\u001b[0m \u001b[0mlist\u001b[0m\u001b[1;33m:\u001b[0m\u001b[1;33m\u001b[0m\u001b[1;33m\u001b[0m\u001b[0m\n\u001b[0;32m      3\u001b[0m         \u001b[1;32mfor\u001b[0m \u001b[0mj\u001b[0m \u001b[1;32min\u001b[0m \u001b[0mrange\u001b[0m\u001b[1;33m(\u001b[0m\u001b[0mlen\u001b[0m\u001b[1;33m(\u001b[0m\u001b[0ml\u001b[0m\u001b[1;33m[\u001b[0m\u001b[0mi\u001b[0m\u001b[1;33m]\u001b[0m\u001b[1;33m)\u001b[0m\u001b[1;33m)\u001b[0m\u001b[1;33m:\u001b[0m\u001b[1;33m\u001b[0m\u001b[1;33m\u001b[0m\u001b[0m\n\u001b[1;32m----> 4\u001b[1;33m             \u001b[1;32mif\u001b[0m \u001b[0mtype\u001b[0m\u001b[1;33m(\u001b[0m\u001b[0ml\u001b[0m\u001b[1;33m[\u001b[0m\u001b[0mi\u001b[0m\u001b[1;33m]\u001b[0m\u001b[1;33m[\u001b[0m\u001b[0mj\u001b[0m\u001b[1;33m]\u001b[0m\u001b[1;33m)\u001b[0m \u001b[1;33m==\u001b[0m \u001b[0mstr\u001b[0m\u001b[1;33m:\u001b[0m\u001b[1;33m\u001b[0m\u001b[1;33m\u001b[0m\u001b[0m\n\u001b[0m\u001b[0;32m      5\u001b[0m                 \u001b[0mprint\u001b[0m\u001b[1;33m(\u001b[0m\u001b[0mj\u001b[0m\u001b[1;33m)\u001b[0m\u001b[1;33m\u001b[0m\u001b[1;33m\u001b[0m\u001b[0m\n\u001b[0;32m      6\u001b[0m                 \u001b[1;32mdel\u001b[0m \u001b[0ml\u001b[0m\u001b[1;33m[\u001b[0m\u001b[0mi\u001b[0m\u001b[1;33m]\u001b[0m\u001b[1;33m[\u001b[0m\u001b[0mj\u001b[0m\u001b[1;33m]\u001b[0m\u001b[1;33m\u001b[0m\u001b[1;33m\u001b[0m\u001b[0m\n",
            "\u001b[1;31mIndexError\u001b[0m: list index out of range"
          ]
        }
      ],
      "source": [
        "for i in range(len(l)):\n",
        "    if type(l[i]) == list:\n",
        "        for j in range(len(l[i])):\n",
        "            if type(l[i][j]) == str:\n",
        "                print(j)\n",
        "                del l[i][j]\n",
        "    if(type(l[i]) == str):\n",
        "        print(j)\n",
        "        del l[i]\n",
        "print(\"Q2\")\n",
        "print(l)\n",
        "print(\"Q3\")\n",
        "for i in range(len(l)):\n",
        "    if type(l[i]) == list:\n",
        "        print(l[i][1])\n"
      ]
    },
    {
      "cell_type": "code",
      "execution_count": null,
      "metadata": {
        "id": "6ooOVMUj63v6",
        "outputId": "0533d7f9-ebf7-4e38-ddbd-71d9fae9f09e"
      },
      "outputs": [
        {
          "data": {
            "text/plain": [
              "[[4, 5, 'Sameer', 'Sameer', 'Sameer'],\n",
              " [346, 7, 3426, 76],\n",
              " [34657, 'Jadhav', 74557, 45, 6],\n",
              " (3+6j),\n",
              " 23095,\n",
              " 'ineuron',\n",
              " [67, 67],\n",
              " [55, 55]]"
            ]
          },
          "execution_count": 146,
          "metadata": {},
          "output_type": "execute_result"
        }
      ],
      "source": [
        "l=[[4,5,\"Sameer\",\"Sameer\",\"Sameer\"],[346,7,3426,76],[34657,\"Jadhav\",74557,45,6],23095,'ineuron']\n",
        "l.append([67,67])\n",
        "l.append([55,55])\n",
        "l.insert(3,3+6j)\n",
        "l"
      ]
    },
    {
      "cell_type": "code",
      "execution_count": null,
      "metadata": {
        "id": "6H1diVSA63v6",
        "outputId": "e26bf1db-7b10-4943-ddff-a9f41ad85208"
      },
      "outputs": [
        {
          "name": "stdout",
          "output_type": "stream",
          "text": [
            " got Sameer string at [4, 5, 'Sameer', 'Sameer', 'Sameer'] location\n",
            "[4, 5, 'Sameer', 'Sameer']\n",
            " got Sameer string at [4, 5, 'Sameer', 'Sameer'] location\n",
            "[4, 5, 'Sameer']\n",
            " got Jadhav string at [34657, 'Jadhav', 74557, 45, 6] location\n",
            "[34657, 74557, 45, 6]\n"
          ]
        }
      ],
      "source": [
        "l=[[4,5,\"Sameer\",\"Sameer\",\"Sameer\"],[346,7,3426,76],[34657,\"Jadhav\",74557,45,6],23095,'ineuron']\n",
        "l.append([67,67])\n",
        "l.append([55,55])\n",
        "l.insert(3,3+6j)\n",
        "l\n",
        "\n",
        "for i in l:\n",
        "    if type(i)==list:\n",
        "        for j in i:\n",
        "            if type(j)== str:\n",
        "                print (\" got {} string at {} location\".format(j,i))\n",
        "                i.remove(j)\n",
        "                print(i)\n"
      ]
    },
    {
      "cell_type": "code",
      "execution_count": null,
      "metadata": {
        "id": "QvIPCUMD63v7",
        "outputId": "651b2e8b-070c-4431-d0d3-24685704d582"
      },
      "outputs": [
        {
          "name": "stdout",
          "output_type": "stream",
          "text": [
            "Main List :  [[1, 2, 3], [11, 12, 'b', 'b', 'b'], [21, 't', 223], [4, 5, 6], [7, 8, 9], 'demo', 12.5]\n",
            "Index :  2\n",
            "Index :  2\n",
            "Index :  1\n",
            "Second Element :  2\n",
            "Second Element :  12\n",
            "Second Element :  223\n",
            "Second Element :  5\n",
            "Second Element :  8\n"
          ]
        }
      ],
      "source": [
        "# This is 100% working \n",
        "\n",
        "l1 = [[1,2,3],[4,5,6],[7,8,9],'demo',12.5]\n",
        "l2 = [11,12,'b','b','b']\n",
        "l3 = [21,'t',223]\n",
        "# 1)\n",
        "l1.insert(1,l2)\n",
        "l1.insert(2,l3)\n",
        "print(\"Main List : \",l1)\n",
        "# 2)\n",
        "\n",
        "for i in l1:\n",
        "    if type(i)== list:\n",
        "        for j in i:\n",
        "            if type(j) == str:\n",
        "                print(\"Index : \",i.index(j))\n",
        "                i.remove(j)\n",
        "                \n",
        "# 3) \n",
        "for i in l1:\n",
        "    if type(i)== list:\n",
        "        print(\"Second Element : \",i[1])\n"
      ]
    },
    {
      "cell_type": "code",
      "execution_count": null,
      "metadata": {
        "id": "POez0QQ563v7",
        "outputId": "f686a556-091d-4f5b-d23a-badbb03374b8"
      },
      "outputs": [
        {
          "data": {
            "text/plain": [
              "[[1, 2, 3], [11, 12, 'b'], [21, 223], [4, 5, 6], [7, 8, 9], 'demo', 12.5]"
            ]
          },
          "execution_count": 149,
          "metadata": {},
          "output_type": "execute_result"
        }
      ],
      "source": [
        "l1"
      ]
    },
    {
      "cell_type": "code",
      "execution_count": null,
      "metadata": {
        "id": "Nc3ed_ip63v7",
        "outputId": "778d9cbc-ab9b-446b-f8ef-efc09bff75b2"
      },
      "outputs": [
        {
          "data": {
            "text/plain": [
              "[[1, 2, 3],\n",
              " [11, 12, 'b', 'b', 'b'],\n",
              " [21, 't', 223],\n",
              " [4, 5, 6],\n",
              " [7, 8, 9],\n",
              " 'demo',\n",
              " 12.5]"
            ]
          },
          "execution_count": 150,
          "metadata": {},
          "output_type": "execute_result"
        }
      ],
      "source": [
        "\n",
        "l1 = [[1,2,3],[4,5,6],[7,8,9],'demo',12.5]\n",
        "l2 = [11,12,'b','b','b']\n",
        "l3 = [21,'t',223]\n",
        "# 1)\n",
        "l1.insert(1,l2)\n",
        "l1.insert(2,l3)\n",
        "l1"
      ]
    },
    {
      "cell_type": "code",
      "execution_count": null,
      "metadata": {
        "id": "Of2I4aAX63v7"
      },
      "outputs": [],
      "source": [
        "l = [[1, 2, 3],\n",
        " [11, 12, 'b', 'b', 'b'],\n",
        " [21, 't', 223],\n",
        " [4, 5, 6],\n",
        " [7, 8, 9],\n",
        " 'demo',\n",
        " 12.5]"
      ]
    },
    {
      "cell_type": "code",
      "execution_count": null,
      "metadata": {
        "id": "2RKBQSH_63v8",
        "outputId": "c3f09cfa-cc50-47c2-c1f6-7be7bca52436"
      },
      "outputs": [
        {
          "name": "stdout",
          "output_type": "stream",
          "text": [
            "Ans 2:  5\n",
            "[[1, 2, 3], [11, 12, 'b', 'b', 'b'], [21, 't', 223], [4, 5, 6], [7, 8, 9], 12.5]\n",
            "string: demo\n"
          ]
        },
        {
          "ename": "TypeError",
          "evalue": "'float' object is not subscriptable",
          "output_type": "error",
          "traceback": [
            "\u001b[1;31m---------------------------------------------------------------------------\u001b[0m",
            "\u001b[1;31mTypeError\u001b[0m                                 Traceback (most recent call last)",
            "\u001b[1;32m<ipython-input-154-d4bc60cb68ba>\u001b[0m in \u001b[0;36m<module>\u001b[1;34m\u001b[0m\n\u001b[0;32m     16\u001b[0m \u001b[1;31m#3\u001b[0m\u001b[1;33m\u001b[0m\u001b[1;33m\u001b[0m\u001b[1;33m\u001b[0m\u001b[0m\n\u001b[0;32m     17\u001b[0m \u001b[1;33m\u001b[0m\u001b[0m\n\u001b[1;32m---> 18\u001b[1;33m \u001b[0mb\u001b[0m \u001b[1;33m=\u001b[0m \u001b[1;33m[\u001b[0m\u001b[0mel\u001b[0m\u001b[1;33m[\u001b[0m\u001b[1;36m1\u001b[0m\u001b[1;33m]\u001b[0m \u001b[1;32mfor\u001b[0m \u001b[0mel\u001b[0m \u001b[1;32min\u001b[0m \u001b[0ml\u001b[0m\u001b[1;33m]\u001b[0m\u001b[1;33m\u001b[0m\u001b[1;33m\u001b[0m\u001b[0m\n\u001b[0m\u001b[0;32m     19\u001b[0m \u001b[0mprint\u001b[0m\u001b[1;33m(\u001b[0m\u001b[0mb\u001b[0m\u001b[1;33m)\u001b[0m\u001b[1;33m\u001b[0m\u001b[1;33m\u001b[0m\u001b[0m\n",
            "\u001b[1;32m<ipython-input-154-d4bc60cb68ba>\u001b[0m in \u001b[0;36m<listcomp>\u001b[1;34m(.0)\u001b[0m\n\u001b[0;32m     16\u001b[0m \u001b[1;31m#3\u001b[0m\u001b[1;33m\u001b[0m\u001b[1;33m\u001b[0m\u001b[1;33m\u001b[0m\u001b[0m\n\u001b[0;32m     17\u001b[0m \u001b[1;33m\u001b[0m\u001b[0m\n\u001b[1;32m---> 18\u001b[1;33m \u001b[0mb\u001b[0m \u001b[1;33m=\u001b[0m \u001b[1;33m[\u001b[0m\u001b[0mel\u001b[0m\u001b[1;33m[\u001b[0m\u001b[1;36m1\u001b[0m\u001b[1;33m]\u001b[0m \u001b[1;32mfor\u001b[0m \u001b[0mel\u001b[0m \u001b[1;32min\u001b[0m \u001b[0ml\u001b[0m\u001b[1;33m]\u001b[0m\u001b[1;33m\u001b[0m\u001b[1;33m\u001b[0m\u001b[0m\n\u001b[0m\u001b[0;32m     19\u001b[0m \u001b[0mprint\u001b[0m\u001b[1;33m(\u001b[0m\u001b[0mb\u001b[0m\u001b[1;33m)\u001b[0m\u001b[1;33m\u001b[0m\u001b[1;33m\u001b[0m\u001b[0m\n",
            "\u001b[1;31mTypeError\u001b[0m: 'float' object is not subscriptable"
          ]
        }
      ],
      "source": [
        "l = [[1, 2, 3],\n",
        " [11, 12, 'b', 'b', 'b'],\n",
        " [21, 't', 223],\n",
        " [4, 5, 6],\n",
        " [7, 8, 9],\n",
        " 'demo',\n",
        " 12.5]\n",
        "\n",
        "\n",
        "for i in l:\n",
        "    if type(i)==str:\n",
        "        print(\"Ans 2: \",l.index(i))\n",
        "        l.pop(l.index(i))\n",
        "        print(l)\n",
        "        print(\"string:\",i)\n",
        "#3\n",
        "\n",
        "b = [el[1] for el in l]\n",
        "print(b)\n"
      ]
    },
    {
      "cell_type": "code",
      "execution_count": null,
      "metadata": {
        "id": "L8b7jh_F63v8",
        "outputId": "6bec9056-1984-43c2-942e-e1ca991a7dcc"
      },
      "outputs": [
        {
          "name": "stdout",
          "output_type": "stream",
          "text": [
            "index of string in the list is  2\n",
            "index of string in the list is  3\n",
            "index of string in the list is  4\n",
            "index of string in the list is  1\n",
            "[[1, 2, 3], [11, 12, 'ccc', 'ccc', 'ccc'], [21, 'ccc', 223], [4, 5, 6], [7, 8, 9], 'demo', 12.5]\n"
          ]
        },
        {
          "data": {
            "text/plain": [
              "[2, 12, 'ccc', 5, 8]"
            ]
          },
          "execution_count": 155,
          "metadata": {},
          "output_type": "execute_result"
        }
      ],
      "source": [
        "l = [[1, 2, 3],\n",
        " [11, 12, 'b', 'b', 'b'],\n",
        " [21, 't', 223],\n",
        " [4, 5, 6],\n",
        " [7, 8, 9],\n",
        " 'demo',\n",
        " 12.5]\n",
        "\n",
        "li=[]\n",
        "for i,j in enumerate(l):\n",
        "    if type(j) == list:\n",
        "        for k,d in enumerate(j):\n",
        "            if type(d) == str:\n",
        "                print('index of string in the list is ',k)\n",
        "                l[i][k] = 'ccc'\n",
        "            if k == 1:\n",
        "                li.append(j[k])\n",
        "print(l)\n",
        "li\n"
      ]
    },
    {
      "cell_type": "code",
      "execution_count": null,
      "metadata": {
        "id": "Y-yP-xAQ63v8",
        "outputId": "84b32076-2a9a-4a63-ced8-4b1e3542988d"
      },
      "outputs": [
        {
          "data": {
            "text/plain": [
              "[[1, 2, 3],\n",
              " [11, 12, 'ccc', 'ccc', 'ccc'],\n",
              " [21, 'ccc', 223],\n",
              " [4, 5, 6],\n",
              " [7, 8, 9],\n",
              " 'demo',\n",
              " 12.5]"
            ]
          },
          "execution_count": 156,
          "metadata": {},
          "output_type": "execute_result"
        }
      ],
      "source": [
        "l"
      ]
    },
    {
      "cell_type": "code",
      "execution_count": null,
      "metadata": {
        "id": "Y9sqHjLS63v8",
        "outputId": "a933fc64-d809-445f-e6ed-e4604d201e1b"
      },
      "outputs": [
        {
          "name": "stdout",
          "output_type": "stream",
          "text": [
            "1\n"
          ]
        }
      ],
      "source": [
        "l = [[1, 2, 3],[11, 12, 'b', 'b', 'b'],[21, 't', 223],[4, 5, 6],[7, 8, 9],'demo',12.5]\n",
        "for i in l:\n",
        "    b=False\n",
        "    if type(i) == list:\n",
        "        a=False\n",
        "        for j in i:\n",
        "            if type(j)==str:\n",
        "                i.remove(j)\n",
        "                a=True\n",
        "                break\n",
        "        if a :\n",
        "            print(l.index(i))\n",
        "            l.remove(i)"
      ]
    },
    {
      "cell_type": "code",
      "execution_count": null,
      "metadata": {
        "id": "nABOe9Wh63v9",
        "outputId": "36010f7e-af2e-4532-9dab-915a78087e41"
      },
      "outputs": [
        {
          "data": {
            "text/plain": [
              "[[1, 2, 3], [21, 't', 223], [4, 5, 6], [7, 8, 9], 'demo', 12.5]"
            ]
          },
          "execution_count": 158,
          "metadata": {},
          "output_type": "execute_result"
        }
      ],
      "source": [
        "l"
      ]
    },
    {
      "cell_type": "code",
      "execution_count": null,
      "metadata": {
        "id": "VaejyMOT63v9",
        "outputId": "d9c7fbce-add1-4621-d48a-f33b054fed61"
      },
      "outputs": [
        {
          "name": "stdout",
          "output_type": "stream",
          "text": [
            "[1, 2, 3]\n",
            "Occurance found in sublist [11, 12, 'b', 'b', 'b']  at  2\n",
            "Occurance found in sublist [11, 12, 'b', 'b']  at  2\n",
            "[11, 12, 'b']\n",
            "Occurance found in sublist [21, 't', 223, 44]  at  1\n",
            "[21, 223, 44]\n",
            "[4, 5, 6]\n",
            "[7, 8, 9]\n",
            "demo\n",
            "12.5\n",
            "3\n",
            "b\n",
            "44\n",
            "6\n",
            "9\n"
          ]
        }
      ],
      "source": [
        "\n",
        "l = [[1, 2, 3],\n",
        " [11, 12, 'b', 'b', 'b'],\n",
        " [21, 't', 223,44],\n",
        " [4, 5, 6],\n",
        " [7, 8, 9],\n",
        " 'demo',\n",
        " 12.5]\n",
        "\n",
        "#part 2\n",
        "for sublist in l:\n",
        "    if isinstance(sublist,list):\n",
        "           for obj in sublist:\n",
        "                if isinstance(obj,str):\n",
        "                    print('Occurance found in sublist',sublist ,' at ',sublist.index(obj))\n",
        "                    sublist.remove(obj)\n",
        "                 \n",
        "    print(sublist)\n",
        "\n",
        "#part 3\n",
        "\n",
        "for i in l:\n",
        "    if type(i)== list:\n",
        "        print(i[2])\n"
      ]
    },
    {
      "cell_type": "code",
      "execution_count": null,
      "metadata": {
        "id": "EoVUUyXv63v9",
        "outputId": "3de99f25-c8e1-4aa7-cdad-fb3ffb306a0a"
      },
      "outputs": [
        {
          "data": {
            "text/plain": [
              "[[1, 2, 3], [11, 12, 'b'], [21, 223, 44], [4, 5, 6], [7, 8, 9], 'demo', 12.5]"
            ]
          },
          "execution_count": 161,
          "metadata": {},
          "output_type": "execute_result"
        }
      ],
      "source": [
        "l"
      ]
    },
    {
      "cell_type": "code",
      "execution_count": null,
      "metadata": {
        "id": "eTQ3KzRC63v9",
        "outputId": "3ffff0eb-4087-463f-8268-8a40ddebc05b"
      },
      "outputs": [
        {
          "name": "stdout",
          "output_type": "stream",
          "text": [
            "67\n",
            "43\n",
            "3453\n",
            "5654\n",
            "6\n",
            "[67, 43, 3453, 5654, 6]\n"
          ]
        }
      ],
      "source": [
        "l = []\n",
        "for i in range(5):\n",
        "    l.append(int(input()))\n",
        "print(l)"
      ]
    },
    {
      "cell_type": "markdown",
      "metadata": {
        "id": "LHp9egHG63v9"
      },
      "source": [
        "input()"
      ]
    },
    {
      "cell_type": "code",
      "execution_count": null,
      "metadata": {
        "id": "jdT8XItS63v_",
        "outputId": "66160c09-ddfb-4dbb-defb-55a91f5a97c7"
      },
      "outputs": [
        {
          "name": "stdout",
          "output_type": "stream",
          "text": [
            "[345,54,45,45]\n"
          ]
        },
        {
          "data": {
            "text/plain": [
              "'[345,54,45,45]'"
            ]
          },
          "execution_count": 164,
          "metadata": {},
          "output_type": "execute_result"
        }
      ],
      "source": [
        "input()"
      ]
    },
    {
      "cell_type": "code",
      "execution_count": null,
      "metadata": {
        "id": "WHntr66j63v_",
        "outputId": "6e738795-ef7c-46f8-9e28-ddcb8770d748"
      },
      "outputs": [
        {
          "name": "stdout",
          "output_type": "stream",
          "text": [
            "[345,544,454]\n"
          ]
        },
        {
          "data": {
            "text/plain": [
              "['[', '3', '4', '5', ',', '5', '4', '4', ',', '4', '5', '4', ']']"
            ]
          },
          "execution_count": 165,
          "metadata": {},
          "output_type": "execute_result"
        }
      ],
      "source": [
        "list(input())"
      ]
    },
    {
      "cell_type": "code",
      "execution_count": null,
      "metadata": {
        "id": "vjvnSCaw63wA",
        "outputId": "3f4a0c7a-1071-4a0a-a054-15317a22ecc6"
      },
      "outputs": [
        {
          "name": "stdout",
          "output_type": "stream",
          "text": [
            "Index of string b is : 2\n",
            "Index of string b is : 3\n",
            "Index of string b is : 4\n",
            "The string in the nested list is 'b'\n",
            "The string in the nested list is 'b'\n",
            "The string in the nested list is 'b'\n",
            "Index of string t is : 1\n",
            "The string in the nested list is 't'\n",
            " [[1, 2, 3], [11, 12], [21, 223], [4, 5, 6], [7, 8, 9], 'demo', 12.5] \n",
            "\n"
          ]
        }
      ],
      "source": [
        "\n",
        "#2. Find the index of string element in the nested list and remove the string\n",
        "l = [[1, 2, 3],\n",
        " [11, 12, 'b', 'b', 'b'],\n",
        " [21, 't', 223],\n",
        " [4, 5, 6],\n",
        " [7, 8, 9],\n",
        " 'demo',\n",
        " 12.5]\n",
        "\n",
        "for i in l:\n",
        "    if type(i) == list:\n",
        "        j=0\n",
        "        while j < len(i):\n",
        "            if type(i[j]) is str:\n",
        "                print(\"Index of string {} is :\".format(i[j]),j)\n",
        "            j = j +1\n",
        "        j=0\n",
        "        while j < len(i):\n",
        "            if type(i[j]) is str:\n",
        "                print(\"The string in the nested list is '{}'\".format(i[j]))\n",
        "                i.remove(i[j])\n",
        "                continue\n",
        "            j = j +1\n",
        "print(\"List after removal of string from nested list is\\r\",l,'\\n')\n"
      ]
    },
    {
      "cell_type": "code",
      "execution_count": null,
      "metadata": {
        "id": "E2ttwOKU63wA"
      },
      "outputs": [],
      "source": [
        "l = [1,2,3,4,5]"
      ]
    },
    {
      "cell_type": "code",
      "execution_count": null,
      "metadata": {
        "id": "uIExlB0E63wA"
      },
      "outputs": [],
      "source": [
        "l1 = []"
      ]
    },
    {
      "cell_type": "code",
      "execution_count": null,
      "metadata": {
        "id": "4si8vRB963wA"
      },
      "outputs": [],
      "source": [
        "for i in \"sudh\":\n",
        "    l1.append(i)\n",
        "    "
      ]
    },
    {
      "cell_type": "code",
      "execution_count": null,
      "metadata": {
        "id": "9tCKQcIQ63wB",
        "outputId": "b7adc631-f963-4249-efd2-f86eca56beea"
      },
      "outputs": [
        {
          "data": {
            "text/plain": [
              "['s', 'u', 'd', 'h']"
            ]
          },
          "execution_count": 171,
          "metadata": {},
          "output_type": "execute_result"
        }
      ],
      "source": [
        "l1"
      ]
    },
    {
      "cell_type": "code",
      "execution_count": null,
      "metadata": {
        "id": "F92kB8dM63wB",
        "outputId": "d359083a-e8ff-4d5f-f66f-d89ee50d2bff"
      },
      "outputs": [
        {
          "data": {
            "text/plain": [
              "[['s'], ['u'], ['d'], ['h']]"
            ]
          },
          "execution_count": 173,
          "metadata": {},
          "output_type": "execute_result"
        }
      ],
      "source": [
        "[[i] for i in \"sudh\"]"
      ]
    },
    {
      "cell_type": "code",
      "execution_count": null,
      "metadata": {
        "id": "B33_iGDT63wB"
      },
      "outputs": [],
      "source": [
        "l = []\n",
        "for i in range(10) :\n",
        "    if i%2 ==0:\n",
        "        l.append(i)"
      ]
    },
    {
      "cell_type": "code",
      "execution_count": null,
      "metadata": {
        "id": "9xEJbnBT63wC",
        "outputId": "790c92b7-eda7-40b5-f6b8-ee38c98f39cb"
      },
      "outputs": [
        {
          "data": {
            "text/plain": [
              "[0, 2, 4, 6, 8]"
            ]
          },
          "execution_count": 176,
          "metadata": {},
          "output_type": "execute_result"
        }
      ],
      "source": [
        "l"
      ]
    },
    {
      "cell_type": "code",
      "execution_count": null,
      "metadata": {
        "id": "s-ZKPR_B63wC",
        "outputId": "8f27651d-5971-4848-eff1-3631fa5f8fad"
      },
      "outputs": [
        {
          "data": {
            "text/plain": [
              "[0, 2, 4, 6, 8]"
            ]
          },
          "execution_count": 180,
          "metadata": {},
          "output_type": "execute_result"
        }
      ],
      "source": [
        "[i for i in range(10) if i %2 == 0 ]"
      ]
    },
    {
      "cell_type": "code",
      "execution_count": null,
      "metadata": {
        "id": "WVLZZ6vC63wC",
        "outputId": "bcb96210-cbcd-417a-beaf-82d2639a4488"
      },
      "outputs": [
        {
          "data": {
            "text/plain": [
              "2"
            ]
          },
          "execution_count": 178,
          "metadata": {},
          "output_type": "execute_result"
        }
      ],
      "source": [
        "8%3"
      ]
    },
    {
      "cell_type": "code",
      "execution_count": null,
      "metadata": {
        "id": "FP_jO4W-63wC",
        "outputId": "4d0c7006-e87a-46cb-ef6d-c81c38767c17"
      },
      "outputs": [
        {
          "data": {
            "text/plain": [
              "0"
            ]
          },
          "execution_count": 179,
          "metadata": {},
          "output_type": "execute_result"
        }
      ],
      "source": [
        "8%2"
      ]
    },
    {
      "cell_type": "code",
      "execution_count": null,
      "metadata": {
        "id": "5_c2BMpC63wD"
      },
      "outputs": [],
      "source": [
        "l = []\n",
        "for i in range(10):\n",
        "    if i % 2 != 0:\n",
        "        l.append(\"odd\")\n",
        "    else :\n",
        "        l.append(\"even\")"
      ]
    },
    {
      "cell_type": "code",
      "execution_count": null,
      "metadata": {
        "id": "uSe3zHjq63wD",
        "outputId": "7d27a9f9-1cd5-4bae-81fa-5bc5f4a35d23"
      },
      "outputs": [
        {
          "data": {
            "text/plain": [
              "['even', 'odd', 'even', 'odd', 'even', 'odd', 'even', 'odd', 'even', 'odd']"
            ]
          },
          "execution_count": 182,
          "metadata": {},
          "output_type": "execute_result"
        }
      ],
      "source": [
        "l"
      ]
    },
    {
      "cell_type": "code",
      "execution_count": null,
      "metadata": {
        "id": "P4pODRV863wD",
        "outputId": "89e90621-a46c-4d79-c623-15357cfee8ee"
      },
      "outputs": [
        {
          "data": {
            "text/plain": [
              "['even', 'odd', 'even', 'odd', 'even', 'odd', 'even', 'odd', 'even', 'odd']"
            ]
          },
          "execution_count": 184,
          "metadata": {},
          "output_type": "execute_result"
        }
      ],
      "source": [
        "[\"odd\" if i%2 != 0 else \"even\" for i in range(10)]"
      ]
    },
    {
      "cell_type": "code",
      "execution_count": null,
      "metadata": {
        "id": "WDpoTx-a63wD",
        "outputId": "3a39cbb8-43ce-4895-b934-f0d9a2a4e034"
      },
      "outputs": [
        {
          "data": {
            "text/plain": [
              "[[0, 1, 2], [0, 1, 2], [0, 1, 2]]"
            ]
          },
          "execution_count": 185,
          "metadata": {},
          "output_type": "execute_result"
        }
      ],
      "source": [
        "mat = []\n",
        "for i in range(3):\n",
        "    mat.append([])\n",
        "    for j in range(3):\n",
        "        mat[i].append(j)\n",
        "mat"
      ]
    },
    {
      "cell_type": "code",
      "execution_count": null,
      "metadata": {
        "id": "Y3-LOm-L63wE",
        "outputId": "21d4252a-5884-4d44-94dc-1c6a6a008145"
      },
      "outputs": [
        {
          "data": {
            "text/plain": [
              "[[0, 1, 2], [0, 1, 2], [0, 1, 2]]"
            ]
          },
          "execution_count": 186,
          "metadata": {},
          "output_type": "execute_result"
        }
      ],
      "source": [
        "[[j for j in range(3)]for i in range(3)]"
      ]
    },
    {
      "cell_type": "code",
      "execution_count": null,
      "metadata": {
        "id": "8iOAIEsV63wE",
        "outputId": "82e5ac83-6642-4cd4-f318-41600e3c3edb"
      },
      "outputs": [
        {
          "data": {
            "text/plain": [
              "[0, 6]"
            ]
          },
          "execution_count": 191,
          "metadata": {},
          "output_type": "execute_result"
        }
      ],
      "source": [
        "[i for i in range(8) if i % 2 == 0 if i % 3 == 0  ]"
      ]
    },
    {
      "cell_type": "code",
      "execution_count": null,
      "metadata": {
        "id": "o5zpTWv563wE"
      },
      "outputs": [],
      "source": [
        "l = []\n",
        "for i in range(8):\n",
        "    if i % 2 == 0 :\n",
        "        if i % 3 == 0 :\n",
        "            l.append(i)"
      ]
    },
    {
      "cell_type": "code",
      "execution_count": null,
      "metadata": {
        "id": "lUoyUByq63wF",
        "outputId": "62f9f114-7aed-42b0-9493-b71836790b6d"
      },
      "outputs": [
        {
          "data": {
            "text/plain": [
              "[0, 6]"
            ]
          },
          "execution_count": 193,
          "metadata": {},
          "output_type": "execute_result"
        }
      ],
      "source": [
        "l"
      ]
    },
    {
      "cell_type": "code",
      "execution_count": null,
      "metadata": {
        "id": "p9IZJJrD63wF"
      },
      "outputs": [],
      "source": [
        "l = []\n",
        "for i in range(10):\n",
        "    l.append(i)"
      ]
    },
    {
      "cell_type": "code",
      "execution_count": null,
      "metadata": {
        "id": "bgIFYLA363wF",
        "outputId": "b500eb70-98e4-42fb-b269-959c96e60ae6"
      },
      "outputs": [
        {
          "data": {
            "text/plain": [
              "[0, 1, 2, 3, 4, 5, 6, 7, 8, 9]"
            ]
          },
          "execution_count": 195,
          "metadata": {},
          "output_type": "execute_result"
        }
      ],
      "source": [
        "l"
      ]
    },
    {
      "cell_type": "code",
      "execution_count": null,
      "metadata": {
        "id": "Or9iOFKn63wF",
        "outputId": "96b14077-ca2d-422c-c875-bf181b5de843"
      },
      "outputs": [
        {
          "data": {
            "text/plain": [
              "['test ',\n",
              " 'yes ',\n",
              " 'no',\n",
              " 'test ',\n",
              " 'test ',\n",
              " 'test ',\n",
              " 'test ',\n",
              " 'test ',\n",
              " 'test ',\n",
              " 'test ']"
            ]
          },
          "execution_count": 201,
          "metadata": {},
          "output_type": "execute_result"
        }
      ],
      "source": [
        "[\"yes \" if i == 1  else \"no\" if i == 2 else \"test \" for i in l]"
      ]
    },
    {
      "cell_type": "code",
      "execution_count": null,
      "metadata": {
        "id": "cWyGs2EZ63wG",
        "outputId": "74ecb73e-2404-4dcc-e812-970fd328cc76"
      },
      "outputs": [
        {
          "data": {
            "text/plain": [
              "[0, 1, 2, 3, 4, 5, 6, 7, 8, 9]"
            ]
          },
          "execution_count": 197,
          "metadata": {},
          "output_type": "execute_result"
        }
      ],
      "source": [
        " l "
      ]
    },
    {
      "cell_type": "code",
      "execution_count": null,
      "metadata": {
        "id": "lyOeTy0B63wG"
      },
      "outputs": [],
      "source": [
        "res = []\n",
        "for i in l :\n",
        "    if i == 1 :\n",
        "        res.append(\"yes\")\n",
        "    elif i ==2 :\n",
        "        res.append(\"no\")\n",
        "    else :\n",
        "        res.append(\"test\")"
      ]
    },
    {
      "cell_type": "code",
      "execution_count": null,
      "metadata": {
        "id": "WHMAr8L263wG",
        "outputId": "7a66ff6a-f9f8-4a1c-b955-b2512f445b44"
      },
      "outputs": [
        {
          "data": {
            "text/plain": [
              "['test', 'yes', 'no', 'test', 'test', 'test', 'test', 'test', 'test', 'test']"
            ]
          },
          "execution_count": 199,
          "metadata": {},
          "output_type": "execute_result"
        }
      ],
      "source": [
        "res"
      ]
    },
    {
      "cell_type": "code",
      "execution_count": null,
      "metadata": {
        "id": "1TKaymyO63wH"
      },
      "outputs": [],
      "source": []
    }
  ],
  "metadata": {
    "kernelspec": {
      "display_name": "Python 3",
      "language": "python",
      "name": "python3"
    },
    "language_info": {
      "codemirror_mode": {
        "name": "ipython",
        "version": 3
      },
      "file_extension": ".py",
      "mimetype": "text/x-python",
      "name": "python",
      "nbconvert_exporter": "python",
      "pygments_lexer": "ipython3",
      "version": "3.8.3"
    },
    "colab": {
      "provenance": [],
      "include_colab_link": true
    }
  },
  "nbformat": 4,
  "nbformat_minor": 0
}