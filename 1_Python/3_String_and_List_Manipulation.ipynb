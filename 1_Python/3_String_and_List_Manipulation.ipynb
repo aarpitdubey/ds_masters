{
  "cells": [
    {
      "cell_type": "markdown",
      "metadata": {
        "id": "view-in-github",
        "colab_type": "text"
      },
      "source": [
        "<a href=\"https://colab.research.google.com/github/aarpitdubey/ml_masters/blob/main/1_Python/3_String_and_List_Manipulation.ipynb\" target=\"_parent\"><img src=\"https://colab.research.google.com/assets/colab-badge.svg\" alt=\"Open In Colab\"/></a>"
      ]
    },
    {
      "cell_type": "code",
      "execution_count": null,
      "metadata": {
        "id": "TnyHAS2V5j4h"
      },
      "outputs": [],
      "source": [
        "a = \"sud'h\""
      ]
    },
    {
      "cell_type": "code",
      "execution_count": null,
      "metadata": {
        "id": "PF6DYuYf5j4k"
      },
      "outputs": [],
      "source": [
        "b = 'sud\"h'"
      ]
    },
    {
      "cell_type": "code",
      "execution_count": null,
      "metadata": {
        "id": "jVIMRikl5j4k",
        "outputId": "db23b549-9463-4efc-f5e2-78500fef524b"
      },
      "outputs": [
        {
          "data": {
            "text/plain": [
              "'sudh'"
            ]
          },
          "execution_count": 3,
          "metadata": {},
          "output_type": "execute_result"
        }
      ],
      "source": [
        "a"
      ]
    },
    {
      "cell_type": "code",
      "execution_count": null,
      "metadata": {
        "id": "WEcvwPRn5j4l",
        "outputId": "013b66e2-92b5-40d8-96aa-89c8ac7824c3"
      },
      "outputs": [
        {
          "data": {
            "text/plain": [
              "'sudh'"
            ]
          },
          "execution_count": 4,
          "metadata": {},
          "output_type": "execute_result"
        }
      ],
      "source": [
        "b"
      ]
    },
    {
      "cell_type": "code",
      "execution_count": null,
      "metadata": {
        "id": "FDyr72dN5j4m"
      },
      "outputs": [],
      "source": [
        "c = 'this is my first class for full stack data science  that\"s why i have joined this class '"
      ]
    },
    {
      "cell_type": "code",
      "execution_count": null,
      "metadata": {
        "id": "Y79BqhoE5j4m",
        "outputId": "cc1f1205-da80-4d7e-fdcc-95e2db79cb2a"
      },
      "outputs": [
        {
          "data": {
            "text/plain": [
              "'this is my first class for full stack data science  that\"s why i have joined this class '"
            ]
          },
          "execution_count": 13,
          "metadata": {},
          "output_type": "execute_result"
        }
      ],
      "source": [
        "c"
      ]
    },
    {
      "cell_type": "code",
      "execution_count": null,
      "metadata": {
        "id": "XQcyY9e95j4m"
      },
      "outputs": [],
      "source": [
        "s = \"this is full stack class\""
      ]
    },
    {
      "cell_type": "code",
      "execution_count": null,
      "metadata": {
        "id": "dutjXKdf5j4n",
        "outputId": "d352d067-baa3-47b5-b821-ba53f5c0700f"
      },
      "outputs": [
        {
          "data": {
            "text/plain": [
              "'t'"
            ]
          },
          "execution_count": 22,
          "metadata": {},
          "output_type": "execute_result"
        }
      ],
      "source": [
        "s[0]"
      ]
    },
    {
      "cell_type": "code",
      "execution_count": null,
      "metadata": {
        "id": "e0AysF7u5j4n",
        "outputId": "51992518-0c8b-4ba3-89b1-2842016845a2"
      },
      "outputs": [
        {
          "data": {
            "text/plain": [
              "'s'"
            ]
          },
          "execution_count": 23,
          "metadata": {},
          "output_type": "execute_result"
        }
      ],
      "source": [
        "s[-1]"
      ]
    },
    {
      "cell_type": "code",
      "execution_count": null,
      "metadata": {
        "id": "eqSOMVPB5j4n",
        "outputId": "d22b77d7-121f-4f0a-805a-a6a7a7a4f57a"
      },
      "outputs": [
        {
          "data": {
            "text/plain": [
              "24"
            ]
          },
          "execution_count": 24,
          "metadata": {},
          "output_type": "execute_result"
        }
      ],
      "source": [
        "len(s)"
      ]
    },
    {
      "cell_type": "code",
      "execution_count": null,
      "metadata": {
        "id": "MDIxOIWZ5j4o",
        "outputId": "21aa8016-e52a-46ff-e1ad-1ac9f35ea930"
      },
      "outputs": [
        {
          "ename": "IndexError",
          "evalue": "string index out of range",
          "output_type": "error",
          "traceback": [
            "\u001b[1;31m---------------------------------------------------------------------------\u001b[0m",
            "\u001b[1;31mIndexError\u001b[0m                                Traceback (most recent call last)",
            "\u001b[1;32m<ipython-input-25-2a138df92e52>\u001b[0m in \u001b[0;36m<module>\u001b[1;34m\u001b[0m\n\u001b[1;32m----> 1\u001b[1;33m \u001b[0ms\u001b[0m\u001b[1;33m[\u001b[0m\u001b[1;36m100\u001b[0m\u001b[1;33m]\u001b[0m\u001b[1;33m\u001b[0m\u001b[1;33m\u001b[0m\u001b[0m\n\u001b[0m",
            "\u001b[1;31mIndexError\u001b[0m: string index out of range"
          ]
        }
      ],
      "source": [
        "s[100]"
      ]
    },
    {
      "cell_type": "code",
      "execution_count": null,
      "metadata": {
        "id": "YY9V6Xnk5j4o",
        "outputId": "631d41d1-3a57-4e0c-dd53-2da49733bc2a"
      },
      "outputs": [
        {
          "data": {
            "text/plain": [
              "'ssalc kca'"
            ]
          },
          "execution_count": 29,
          "metadata": {},
          "output_type": "execute_result"
        }
      ],
      "source": [
        "s[-1:-10:-1]"
      ]
    },
    {
      "cell_type": "code",
      "execution_count": null,
      "metadata": {
        "id": "o7g8wYDI5j4o",
        "outputId": "16e5db10-83b7-4fa3-d20c-3957844580f0"
      },
      "outputs": [
        {
          "data": {
            "text/plain": [
              "'ssalc kcats lluf si siht'"
            ]
          },
          "execution_count": 33,
          "metadata": {},
          "output_type": "execute_result"
        }
      ],
      "source": [
        "s[::-1]"
      ]
    },
    {
      "cell_type": "code",
      "execution_count": null,
      "metadata": {
        "id": "vwp_26vd5j4o"
      },
      "outputs": [],
      "source": []
    },
    {
      "cell_type": "code",
      "execution_count": null,
      "metadata": {
        "id": "6GAAoQQA5j4p",
        "outputId": "36ab668e-7118-4a5d-cbf0-66ae568b5aea"
      },
      "outputs": [
        {
          "data": {
            "text/plain": [
              "'this is full stack class'"
            ]
          },
          "execution_count": 46,
          "metadata": {},
          "output_type": "execute_result"
        }
      ],
      "source": [
        "s"
      ]
    },
    {
      "cell_type": "code",
      "execution_count": null,
      "metadata": {
        "id": "_asMwWKF5j4p",
        "outputId": "7f845056-2b18-4c81-ff4a-c42fa70a4976"
      },
      "outputs": [
        {
          "data": {
            "text/plain": [
              "'sackaslu ish'"
            ]
          },
          "execution_count": 47,
          "metadata": {},
          "output_type": "execute_result"
        }
      ],
      "source": [
        "s[::-2]"
      ]
    },
    {
      "cell_type": "code",
      "execution_count": null,
      "metadata": {
        "id": "OQIwLh6k5j4p",
        "outputId": "e74cbf86-2f86-4696-e418-0f0813236519"
      },
      "outputs": [
        {
          "data": {
            "text/plain": [
              "'this is full stack class'"
            ]
          },
          "execution_count": 34,
          "metadata": {},
          "output_type": "execute_result"
        }
      ],
      "source": [
        "s "
      ]
    },
    {
      "cell_type": "code",
      "execution_count": null,
      "metadata": {
        "id": "86-aRlxb5j4p",
        "outputId": "37423bba-53c5-42b3-ba21-ca279b24ed65"
      },
      "outputs": [
        {
          "ename": "TypeError",
          "evalue": "'str' object does not support item assignment",
          "output_type": "error",
          "traceback": [
            "\u001b[1;31m---------------------------------------------------------------------------\u001b[0m",
            "\u001b[1;31mTypeError\u001b[0m                                 Traceback (most recent call last)",
            "\u001b[1;32m<ipython-input-36-416b596371a8>\u001b[0m in \u001b[0;36m<module>\u001b[1;34m\u001b[0m\n\u001b[1;32m----> 1\u001b[1;33m \u001b[0ms\u001b[0m\u001b[1;33m[\u001b[0m\u001b[1;36m0\u001b[0m\u001b[1;33m]\u001b[0m \u001b[1;33m=\u001b[0m \u001b[1;34m\"x\"\u001b[0m\u001b[1;33m\u001b[0m\u001b[1;33m\u001b[0m\u001b[0m\n\u001b[0m",
            "\u001b[1;31mTypeError\u001b[0m: 'str' object does not support item assignment"
          ]
        }
      ],
      "source": [
        "s[0] = \"x\""
      ]
    },
    {
      "cell_type": "code",
      "execution_count": null,
      "metadata": {
        "id": "DCXFdtL45j4q"
      },
      "outputs": [],
      "source": [
        "l = [\"sdfs\",234,345.45,True]"
      ]
    },
    {
      "cell_type": "code",
      "execution_count": null,
      "metadata": {
        "id": "gdcfxSZV5j4q",
        "outputId": "c587e5ff-fb72-4e98-a4d3-2d93de6bd86e"
      },
      "outputs": [
        {
          "data": {
            "text/plain": [
              "'this is full stack class'"
            ]
          },
          "execution_count": 41,
          "metadata": {},
          "output_type": "execute_result"
        }
      ],
      "source": [
        "s"
      ]
    },
    {
      "cell_type": "code",
      "execution_count": null,
      "metadata": {
        "id": "V_GFj-1f5j4r"
      },
      "outputs": [],
      "source": [
        "s = \"ffsfsfds\""
      ]
    },
    {
      "cell_type": "code",
      "execution_count": null,
      "metadata": {
        "id": "SCwUKeqn5j4s",
        "outputId": "202a618c-c990-467e-85f1-0b967351ee0a"
      },
      "outputs": [
        {
          "data": {
            "text/plain": [
              "'ffsfsfds'"
            ]
          },
          "execution_count": 43,
          "metadata": {},
          "output_type": "execute_result"
        }
      ],
      "source": [
        "s"
      ]
    },
    {
      "cell_type": "code",
      "execution_count": null,
      "metadata": {
        "id": "crA6avKN5j4s"
      },
      "outputs": [],
      "source": [
        "l[0] = \"sudh\""
      ]
    },
    {
      "cell_type": "code",
      "execution_count": null,
      "metadata": {
        "id": "xYpP_9135j4t",
        "outputId": "123c1e07-bf0f-44d0-add0-4379f41c02cf"
      },
      "outputs": [
        {
          "data": {
            "text/plain": [
              "['sudh', 234, 345.45, True]"
            ]
          },
          "execution_count": 40,
          "metadata": {},
          "output_type": "execute_result"
        }
      ],
      "source": [
        "l"
      ]
    },
    {
      "cell_type": "code",
      "execution_count": null,
      "metadata": {
        "id": "XWwFru7A5j4t",
        "outputId": "fd15e783-11e6-43b5-cf4a-bd70773c789f"
      },
      "outputs": [
        {
          "name": "stdout",
          "output_type": "stream",
          "text": [
            "t\n",
            "h\n",
            "i\n",
            "s\n",
            " \n",
            "i\n",
            "s\n",
            " \n",
            "f\n",
            "u\n",
            "l\n",
            "l\n",
            " \n",
            "s\n",
            "t\n",
            "a\n",
            "c\n",
            "k\n",
            " \n",
            "c\n",
            "l\n",
            "a\n",
            "s\n",
            "s\n"
          ]
        }
      ],
      "source": [
        "for i in range(len(s)) :\n",
        "    print(s[i])"
      ]
    },
    {
      "cell_type": "code",
      "execution_count": null,
      "metadata": {
        "id": "UXc1f_hn5j4u",
        "outputId": "fa6728b7-8b9f-4a7c-98f5-a32e1db85743"
      },
      "outputs": [
        {
          "data": {
            "text/plain": [
              "'sudh kumar '"
            ]
          },
          "execution_count": 49,
          "metadata": {},
          "output_type": "execute_result"
        }
      ],
      "source": [
        "\"sudh\"  + \" kumar \""
      ]
    },
    {
      "cell_type": "code",
      "execution_count": null,
      "metadata": {
        "id": "r9dQiFK35j4u",
        "outputId": "8a5a92af-0e17-4601-f822-f98b7e9a4c0b"
      },
      "outputs": [
        {
          "data": {
            "text/plain": [
              "'sudh3'"
            ]
          },
          "execution_count": 52,
          "metadata": {},
          "output_type": "execute_result"
        }
      ],
      "source": [
        "\"sudh\" + str(3) "
      ]
    },
    {
      "cell_type": "code",
      "execution_count": null,
      "metadata": {
        "id": "1ZvXTqFV5j4v",
        "outputId": "131a57eb-39cc-4a62-bc98-6dfea9ee5e76"
      },
      "outputs": [
        {
          "ename": "TypeError",
          "evalue": "can only concatenate str (not \"list\") to str",
          "output_type": "error",
          "traceback": [
            "\u001b[1;31m---------------------------------------------------------------------------\u001b[0m",
            "\u001b[1;31mTypeError\u001b[0m                                 Traceback (most recent call last)",
            "\u001b[1;32m<ipython-input-53-540e0b0cba6f>\u001b[0m in \u001b[0;36m<module>\u001b[1;34m\u001b[0m\n\u001b[1;32m----> 1\u001b[1;33m \u001b[1;34m\"sudh\"\u001b[0m \u001b[1;33m+\u001b[0m \u001b[1;33m[\u001b[0m\u001b[1;34m\"kumar\"\u001b[0m \u001b[1;33m,\u001b[0m \u001b[1;36m3\u001b[0m\u001b[1;33m,\u001b[0m\u001b[1;36m4\u001b[0m\u001b[1;33m,\u001b[0m\u001b[1;36m56\u001b[0m\u001b[1;33m]\u001b[0m\u001b[1;33m\u001b[0m\u001b[1;33m\u001b[0m\u001b[0m\n\u001b[0m",
            "\u001b[1;31mTypeError\u001b[0m: can only concatenate str (not \"list\") to str"
          ]
        }
      ],
      "source": [
        "\"sudh\" + [\"kumar\" , 3,4,56]"
      ]
    },
    {
      "cell_type": "code",
      "execution_count": null,
      "metadata": {
        "id": "2gl6w-Do5j4v",
        "outputId": "f39775b4-b6ec-4cdf-ae3b-dfa0a6cfb0db"
      },
      "outputs": [
        {
          "data": {
            "text/plain": [
              "'sudh sudh sudh sudh sudh sudh '"
            ]
          },
          "execution_count": 55,
          "metadata": {},
          "output_type": "execute_result"
        }
      ],
      "source": [
        "\"sudh \" * 6"
      ]
    },
    {
      "cell_type": "code",
      "execution_count": null,
      "metadata": {
        "id": "5lQ3D7G85j4w"
      },
      "outputs": [],
      "source": [
        "s = \"my name is sudhanshu kumar , Name of org is ineuron\""
      ]
    },
    {
      "cell_type": "code",
      "execution_count": null,
      "metadata": {
        "id": "_P8ouDF45j4w",
        "outputId": "5d7a5580-b7d2-41b3-9dd2-daa9f9a51dfa"
      },
      "outputs": [
        {
          "data": {
            "text/plain": [
              "'my name is '"
            ]
          },
          "execution_count": 57,
          "metadata": {},
          "output_type": "execute_result"
        }
      ],
      "source": [
        "s"
      ]
    },
    {
      "cell_type": "code",
      "execution_count": null,
      "metadata": {
        "id": "mw8swjeA5j4w",
        "outputId": "0b7ca985-fa87-40da-aa40-797312ec00de"
      },
      "outputs": [
        {
          "data": {
            "text/plain": [
              "3"
            ]
          },
          "execution_count": 62,
          "metadata": {},
          "output_type": "execute_result"
        }
      ],
      "source": [
        "s.find(\"name\")"
      ]
    },
    {
      "cell_type": "code",
      "execution_count": null,
      "metadata": {
        "id": "OvEP-N1j5j4w",
        "outputId": "220c2f1b-82d6-42cd-b4ec-8c2e5fc1afaf"
      },
      "outputs": [
        {
          "name": "stdout",
          "output_type": "stream",
          "text": [
            "3\n",
            "4\n",
            "5\n",
            "6\n"
          ]
        }
      ],
      "source": [
        "b = s.find(\"name\")\n",
        "for i in range(len(\"name\")):\n",
        "    print(b + i)\n"
      ]
    },
    {
      "cell_type": "code",
      "execution_count": null,
      "metadata": {
        "id": "f3_VDgCO5j4x",
        "outputId": "aaf7ac03-42a4-4031-e325-ca146c3c4e92"
      },
      "outputs": [
        {
          "data": {
            "text/plain": [
              "'my name is sudhanshu kumar , Name of org is ineuron'"
            ]
          },
          "execution_count": 71,
          "metadata": {},
          "output_type": "execute_result"
        }
      ],
      "source": [
        "s"
      ]
    },
    {
      "cell_type": "code",
      "execution_count": null,
      "metadata": {
        "id": "GsylopvA5j4x",
        "outputId": "3684bb03-a1a4-4ef0-8fbd-be7bf45ed7a9"
      },
      "outputs": [
        {
          "data": {
            "text/plain": [
              "1"
            ]
          },
          "execution_count": 72,
          "metadata": {},
          "output_type": "execute_result"
        }
      ],
      "source": [
        "s.count(\"name\")"
      ]
    },
    {
      "cell_type": "code",
      "execution_count": null,
      "metadata": {
        "id": "RLPdRTmt5j4x",
        "outputId": "3256cb5f-fc20-4678-91b8-9fe29eea3bd1"
      },
      "outputs": [
        {
          "data": {
            "text/plain": [
              "'my name is sudhanshu kumar , Name of org is ineuron'"
            ]
          },
          "execution_count": 73,
          "metadata": {},
          "output_type": "execute_result"
        }
      ],
      "source": [
        "s "
      ]
    },
    {
      "cell_type": "code",
      "execution_count": null,
      "metadata": {
        "id": "djoTIQLs5j4x",
        "outputId": "e21a99ad-d215-46d0-c7c9-06df68f7f5c9"
      },
      "outputs": [
        {
          "data": {
            "text/plain": [
              "['my',\n",
              " 'name',\n",
              " 'is',\n",
              " 'sudhanshu',\n",
              " 'kumar',\n",
              " ',',\n",
              " 'Name',\n",
              " 'of',\n",
              " 'org',\n",
              " 'is',\n",
              " 'ineuron']"
            ]
          },
          "execution_count": 74,
          "metadata": {},
          "output_type": "execute_result"
        }
      ],
      "source": [
        "s.split()"
      ]
    },
    {
      "cell_type": "code",
      "execution_count": null,
      "metadata": {
        "id": "1IdZAQ6F5j4y",
        "outputId": "ac22b7e0-85df-4ff6-de47-dc628314e3ba"
      },
      "outputs": [
        {
          "data": {
            "text/plain": [
              "list"
            ]
          },
          "execution_count": 78,
          "metadata": {},
          "output_type": "execute_result"
        }
      ],
      "source": [
        "type(s.split('na'))"
      ]
    },
    {
      "cell_type": "code",
      "execution_count": null,
      "metadata": {
        "id": "HA_b_4Xy5j4y",
        "outputId": "682451c6-dc42-4877-8d72-98bcd9b7bdd6"
      },
      "outputs": [
        {
          "data": {
            "text/plain": [
              "'my name is sudhanshu kumar , Name of org is ineuron'"
            ]
          },
          "execution_count": 80,
          "metadata": {},
          "output_type": "execute_result"
        }
      ],
      "source": [
        "s "
      ]
    },
    {
      "cell_type": "code",
      "execution_count": null,
      "metadata": {
        "id": "fkD_zLFU5j4y",
        "outputId": "f41a2e71-b8f4-4df2-91bf-7f237d3daa0a"
      },
      "outputs": [
        {
          "data": {
            "text/plain": [
              "'MY NAME IS SUDHANSHU KUMAR , NAME OF ORG IS INEURON'"
            ]
          },
          "execution_count": 81,
          "metadata": {},
          "output_type": "execute_result"
        }
      ],
      "source": [
        "s.upper()"
      ]
    },
    {
      "cell_type": "code",
      "execution_count": null,
      "metadata": {
        "id": "h426yD7k5j4y",
        "outputId": "57c74882-eaa4-4148-91b2-865fa9f6f303"
      },
      "outputs": [
        {
          "data": {
            "text/plain": [
              "'my name is sudhanshu kumar , name of org is ineuron'"
            ]
          },
          "execution_count": 82,
          "metadata": {},
          "output_type": "execute_result"
        }
      ],
      "source": [
        "s.lower()"
      ]
    },
    {
      "cell_type": "code",
      "execution_count": null,
      "metadata": {
        "id": "t2_Hz5Hx5j4z",
        "outputId": "e9317c70-c07d-4fe1-8c9e-4b7163bcd4b8"
      },
      "outputs": [
        {
          "data": {
            "text/plain": [
              "'MY NAME IS SUDHANSHU KUMAR , nAME OF ORG IS INEURON'"
            ]
          },
          "execution_count": 83,
          "metadata": {},
          "output_type": "execute_result"
        }
      ],
      "source": [
        "s.swapcase()"
      ]
    },
    {
      "cell_type": "code",
      "execution_count": null,
      "metadata": {
        "id": "Occl9-MG5j4z",
        "outputId": "f5750022-75ff-4775-c689-2fcf02f3c5af"
      },
      "outputs": [
        {
          "data": {
            "text/plain": [
              "'m y   n a m e   i s   s u d h a n s h u   k u m a r   ,   N a m e   o f   o r g   i s   i n e u r o n'"
            ]
          },
          "execution_count": 89,
          "metadata": {},
          "output_type": "execute_result"
        }
      ],
      "source": [
        "\" \". join(s)"
      ]
    },
    {
      "cell_type": "code",
      "execution_count": null,
      "metadata": {
        "id": "I8a_J_075j4z",
        "outputId": "20ab0886-19d9-4a8f-ba34-047133f98d40"
      },
      "outputs": [
        {
          "data": {
            "text/plain": [
              "<reversed at 0x24005b21700>"
            ]
          },
          "execution_count": 94,
          "metadata": {},
          "output_type": "execute_result"
        }
      ],
      "source": [
        "reversed(s)"
      ]
    },
    {
      "cell_type": "code",
      "execution_count": null,
      "metadata": {
        "id": "q57BmaXf5j40",
        "outputId": "693b0576-3d55-4edc-c962-a66ba56459ff"
      },
      "outputs": [
        {
          "name": "stdout",
          "output_type": "stream",
          "text": [
            "n\n",
            "o\n",
            "r\n",
            "u\n",
            "e\n",
            "n\n",
            "i\n",
            " \n",
            "s\n",
            "i\n",
            " \n",
            "g\n",
            "r\n",
            "o\n",
            " \n",
            "f\n",
            "o\n",
            " \n",
            "e\n",
            "m\n",
            "a\n",
            "N\n",
            " \n",
            ",\n",
            " \n",
            "r\n",
            "a\n",
            "m\n",
            "u\n",
            "k\n",
            " \n",
            "u\n",
            "h\n",
            "s\n",
            "n\n",
            "a\n",
            "h\n",
            "d\n",
            "u\n",
            "s\n",
            " \n",
            "s\n",
            "i\n",
            " \n",
            "e\n",
            "m\n",
            "a\n",
            "n\n",
            " \n",
            "y\n",
            "m\n"
          ]
        }
      ],
      "source": [
        "for i in reversed(s):\n",
        "    print(i)"
      ]
    },
    {
      "cell_type": "code",
      "execution_count": null,
      "metadata": {
        "id": "SEmkp3Tw5j40",
        "outputId": "d9f208f9-d000-495e-9ecf-d511ec378065"
      },
      "outputs": [
        {
          "data": {
            "text/plain": [
              "'norueni si gro fo emaN , ramuk uhsnahdus si eman ym'"
            ]
          },
          "execution_count": 91,
          "metadata": {},
          "output_type": "execute_result"
        }
      ],
      "source": [
        "s[::-1]"
      ]
    },
    {
      "cell_type": "code",
      "execution_count": null,
      "metadata": {
        "id": "pHypjgjH5j41"
      },
      "outputs": [],
      "source": [
        "s = \"       su  dh \""
      ]
    },
    {
      "cell_type": "code",
      "execution_count": null,
      "metadata": {
        "id": "WpipAZ1I5j41",
        "outputId": "1943154d-d687-4833-c356-978a7e35b7d9"
      },
      "outputs": [
        {
          "data": {
            "text/plain": [
              "'       su  dh '"
            ]
          },
          "execution_count": 101,
          "metadata": {},
          "output_type": "execute_result"
        }
      ],
      "source": [
        "s"
      ]
    },
    {
      "cell_type": "code",
      "execution_count": null,
      "metadata": {
        "id": "rXmb2Hnq5j41",
        "outputId": "b120a403-006f-408d-8e4a-d9f743885643"
      },
      "outputs": [
        {
          "data": {
            "text/plain": [
              "'su  dh'"
            ]
          },
          "execution_count": 102,
          "metadata": {},
          "output_type": "execute_result"
        }
      ],
      "source": [
        "s.strip()"
      ]
    },
    {
      "cell_type": "code",
      "execution_count": null,
      "metadata": {
        "id": "x362Lrk15j42",
        "outputId": "7856a53c-ce70-4140-80b7-200fa13f7b11"
      },
      "outputs": [
        {
          "data": {
            "text/plain": [
              "'su  dh '"
            ]
          },
          "execution_count": 103,
          "metadata": {},
          "output_type": "execute_result"
        }
      ],
      "source": [
        "s.lstrip()"
      ]
    },
    {
      "cell_type": "code",
      "execution_count": null,
      "metadata": {
        "id": "nH5utPhK5j42",
        "outputId": "d60f4990-8441-49c5-ab80-a4fa2ba9a744"
      },
      "outputs": [
        {
          "data": {
            "text/plain": [
              "'       su  dh'"
            ]
          },
          "execution_count": 104,
          "metadata": {},
          "output_type": "execute_result"
        }
      ],
      "source": [
        "s.rstrip()"
      ]
    },
    {
      "cell_type": "code",
      "execution_count": null,
      "metadata": {
        "id": "H-VWcJsE5j42"
      },
      "outputs": [],
      "source": [
        "s = \"greeting from ineuron\""
      ]
    },
    {
      "cell_type": "code",
      "execution_count": null,
      "metadata": {
        "id": "eHpbkjcv5j43",
        "outputId": "74cdbbe3-52f9-4ff1-e4c6-daa4c21ad0fb"
      },
      "outputs": [
        {
          "data": {
            "text/plain": [
              "'swereeting from ineuron'"
            ]
          },
          "execution_count": 108,
          "metadata": {},
          "output_type": "execute_result"
        }
      ],
      "source": [
        "s = s.replace(\"gr\" , 'swer')"
      ]
    },
    {
      "cell_type": "code",
      "execution_count": null,
      "metadata": {
        "id": "HLM2FUoe5j43",
        "outputId": "cc5b139c-9a60-46fd-ec52-80b7775cfcc9"
      },
      "outputs": [
        {
          "data": {
            "text/plain": [
              "'greeting from ineuron'"
            ]
          },
          "execution_count": 109,
          "metadata": {},
          "output_type": "execute_result"
        }
      ],
      "source": [
        "s"
      ]
    },
    {
      "cell_type": "code",
      "execution_count": null,
      "metadata": {
        "id": "yedj8K615j43"
      },
      "outputs": [],
      "source": [
        "s = \"sudh\""
      ]
    },
    {
      "cell_type": "code",
      "execution_count": null,
      "metadata": {
        "id": "NxIiBaDW5j44"
      },
      "outputs": [],
      "source": [
        "s = s.replace(\"u\" , \"kumar\")"
      ]
    },
    {
      "cell_type": "code",
      "execution_count": null,
      "metadata": {
        "id": "UCBT4mTj5j44",
        "outputId": "16265574-c047-4088-f98b-74493a625a32"
      },
      "outputs": [
        {
          "data": {
            "text/plain": [
              "'skumardh'"
            ]
          },
          "execution_count": 118,
          "metadata": {},
          "output_type": "execute_result"
        }
      ],
      "source": [
        "s"
      ]
    },
    {
      "cell_type": "code",
      "execution_count": null,
      "metadata": {
        "id": "CnuOzcc55j44",
        "outputId": "d8b46492-34c4-4df6-997a-a7f1ef40d8a8"
      },
      "outputs": [
        {
          "ename": "TypeError",
          "evalue": "'str' object does not support item assignment",
          "output_type": "error",
          "traceback": [
            "\u001b[1;31m---------------------------------------------------------------------------\u001b[0m",
            "\u001b[1;31mTypeError\u001b[0m                                 Traceback (most recent call last)",
            "\u001b[1;32m<ipython-input-114-45b9a7bdbadb>\u001b[0m in \u001b[0;36m<module>\u001b[1;34m\u001b[0m\n\u001b[1;32m----> 1\u001b[1;33m \u001b[0ms\u001b[0m\u001b[1;33m[\u001b[0m\u001b[1;36m1\u001b[0m\u001b[1;33m]\u001b[0m \u001b[1;33m=\u001b[0m \u001b[1;34m\"kumar\"\u001b[0m\u001b[1;33m\u001b[0m\u001b[1;33m\u001b[0m\u001b[0m\n\u001b[0m",
            "\u001b[1;31mTypeError\u001b[0m: 'str' object does not support item assignment"
          ]
        }
      ],
      "source": [
        "s[1] = \"kumar\""
      ]
    },
    {
      "cell_type": "code",
      "execution_count": null,
      "metadata": {
        "id": "P7SyJcxP5j45"
      },
      "outputs": [],
      "source": [
        "s = \"sudh\""
      ]
    },
    {
      "cell_type": "code",
      "execution_count": null,
      "metadata": {
        "id": "Eu5znsL35j45",
        "outputId": "1ff8a53d-ad09-410e-8b6a-b939f01bcc05"
      },
      "outputs": [
        {
          "data": {
            "text/plain": [
              "'@@@@@@@@@@sudh@@@@@@@@@'"
            ]
          },
          "execution_count": 125,
          "metadata": {},
          "output_type": "execute_result"
        }
      ],
      "source": [
        "s.center(23 , '@')"
      ]
    },
    {
      "cell_type": "code",
      "execution_count": null,
      "metadata": {
        "id": "VnU0Xs_m5j45"
      },
      "outputs": [],
      "source": [
        "s = \"sudh\\tku\\tmar\""
      ]
    },
    {
      "cell_type": "code",
      "execution_count": null,
      "metadata": {
        "id": "lz_MeYow5j46",
        "outputId": "1abb0cc6-02e1-4d20-ca43-038983374ed3"
      },
      "outputs": [
        {
          "data": {
            "text/plain": [
              "'sudh\\tku\\tmar'"
            ]
          },
          "execution_count": 130,
          "metadata": {},
          "output_type": "execute_result"
        }
      ],
      "source": [
        "s"
      ]
    },
    {
      "cell_type": "code",
      "execution_count": null,
      "metadata": {
        "id": "YmMgqfFA5j46",
        "outputId": "e5139733-0e30-405f-82e2-502ec6dd1ad4"
      },
      "outputs": [
        {
          "data": {
            "text/plain": [
              "'sudh    ku      mar'"
            ]
          },
          "execution_count": 131,
          "metadata": {},
          "output_type": "execute_result"
        }
      ],
      "source": [
        "s.expandtabs()"
      ]
    },
    {
      "cell_type": "code",
      "execution_count": null,
      "metadata": {
        "id": "imy_5dZ95j47",
        "outputId": "0eadea81-d1b0-4eb5-9033-9c7a6ca55e1e"
      },
      "outputs": [
        {
          "name": "stdout",
          "output_type": "stream",
          "text": [
            "we all are a part of full stack\n"
          ]
        },
        {
          "ename": "TypeError",
          "evalue": "'str' object is not callable",
          "output_type": "error",
          "traceback": [
            "\u001b[1;31m---------------------------------------------------------------------------\u001b[0m",
            "\u001b[1;31mTypeError\u001b[0m                                 Traceback (most recent call last)",
            "\u001b[1;32m<ipython-input-138-5af18a1d8bea>\u001b[0m in \u001b[0;36m<module>\u001b[1;34m\u001b[0m\n\u001b[0;32m      3\u001b[0m \u001b[0mprint\u001b[0m\u001b[1;33m(\u001b[0m\u001b[0ma\u001b[0m\u001b[1;33m)\u001b[0m\u001b[1;33m\u001b[0m\u001b[1;33m\u001b[0m\u001b[0m\n\u001b[0;32m      4\u001b[0m \u001b[0mb\u001b[0m \u001b[1;33m=\u001b[0m \u001b[0ma\u001b[0m\u001b[1;33m.\u001b[0m\u001b[0mcount\u001b[0m\u001b[1;33m(\u001b[0m\u001b[1;34m\"a\"\u001b[0m\u001b[1;33m)\u001b[0m\u001b[1;33m\u001b[0m\u001b[1;33m\u001b[0m\u001b[0m\n\u001b[1;32m----> 5\u001b[1;33m \u001b[0mprint\u001b[0m\u001b[1;33m(\u001b[0m\u001b[1;34m\"number of a: \"\u001b[0m\u001b[1;33m+\u001b[0m\u001b[0mstr\u001b[0m\u001b[1;33m(\u001b[0m\u001b[0mb\u001b[0m\u001b[1;33m)\u001b[0m\u001b[1;33m)\u001b[0m\u001b[1;33m\u001b[0m\u001b[1;33m\u001b[0m\u001b[0m\n\u001b[0m\u001b[0;32m      6\u001b[0m \u001b[1;32mfor\u001b[0m \u001b[0mi\u001b[0m \u001b[1;32min\u001b[0m \u001b[0mrange\u001b[0m\u001b[1;33m(\u001b[0m\u001b[0mlen\u001b[0m\u001b[1;33m(\u001b[0m\u001b[0ma\u001b[0m\u001b[1;33m)\u001b[0m\u001b[1;33m)\u001b[0m\u001b[1;33m:\u001b[0m\u001b[1;33m\u001b[0m\u001b[1;33m\u001b[0m\u001b[0m\n\u001b[0;32m      7\u001b[0m   \u001b[1;32mif\u001b[0m \u001b[0ma\u001b[0m\u001b[1;33m[\u001b[0m\u001b[0mi\u001b[0m\u001b[1;33m]\u001b[0m \u001b[1;33m==\u001b[0m \u001b[1;34m\"a\"\u001b[0m\u001b[1;33m:\u001b[0m\u001b[1;33m\u001b[0m\u001b[1;33m\u001b[0m\u001b[0m\n",
            "\u001b[1;31mTypeError\u001b[0m: 'str' object is not callable"
          ]
        }
      ],
      "source": []
    },
    {
      "cell_type": "code",
      "execution_count": null,
      "metadata": {
        "id": "hwu19cdz5j47",
        "outputId": "76d8ed42-f246-4079-89aa-0e0e16108736"
      },
      "outputs": [
        {
          "data": {
            "text/plain": [
              "'we all are a part of full stack'"
            ]
          },
          "execution_count": 142,
          "metadata": {},
          "output_type": "execute_result"
        }
      ],
      "source": [
        "a=\"We all are a part of Full Stack\"\n",
        "b=a.lower()\n",
        "b"
      ]
    },
    {
      "cell_type": "code",
      "execution_count": null,
      "metadata": {
        "id": "rExrOTht5j47",
        "outputId": "c66256d0-7c86-40dc-8890-0db5280a7f78"
      },
      "outputs": [
        {
          "data": {
            "text/plain": [
              "5"
            ]
          },
          "execution_count": 144,
          "metadata": {},
          "output_type": "execute_result"
        }
      ],
      "source": [
        "c=a.count(\"a\")\n",
        "c"
      ]
    },
    {
      "cell_type": "code",
      "execution_count": null,
      "metadata": {
        "id": "qHJFqIs45j48",
        "outputId": "74b54983-9790-4833-b154-5350babf38ba"
      },
      "outputs": [
        {
          "name": "stdout",
          "output_type": "stream",
          "text": [
            "3\n",
            "7\n",
            "11\n",
            "14\n",
            "28\n"
          ]
        }
      ],
      "source": [
        "for i in range(len(a)):\n",
        "    if(a[i]==\"a\"):\n",
        "        print(i)"
      ]
    },
    {
      "cell_type": "code",
      "execution_count": null,
      "metadata": {
        "id": "mXeH36995j48",
        "outputId": "9055eb6e-b252-433f-f570-7e4ee91ce1bd"
      },
      "outputs": [
        {
          "data": {
            "text/plain": [
              "'We iNeuronll iNeuronre iNeuron piNeuronrt of Full StiNeuronck'"
            ]
          },
          "execution_count": 147,
          "metadata": {},
          "output_type": "execute_result"
        }
      ],
      "source": [
        "d=a.replace(\"a\",\"iNeuron\")\n",
        "d"
      ]
    },
    {
      "cell_type": "code",
      "execution_count": null,
      "metadata": {
        "id": "tibA5NgK5j49",
        "outputId": "97fa21b6-4e1d-4be7-cb1b-9f651e31a449"
      },
      "outputs": [
        {
          "name": "stdout",
          "output_type": "stream",
          "text": [
            "['We', 'all', 'are', 'a', 'part', 'of', 'Full', 'Stack']\n"
          ]
        }
      ],
      "source": [
        "e=a.split()\n",
        "print(e)"
      ]
    },
    {
      "cell_type": "code",
      "execution_count": null,
      "metadata": {
        "id": "3HBy_iLF5j49",
        "outputId": "c0816aa6-8f7d-4d80-8da8-56136c51af21"
      },
      "outputs": [
        {
          "name": "stdout",
          "output_type": "stream",
          "text": [
            "we all are a part of full stack\n",
            "The count of a is  5\n",
            "3\n",
            "7\n",
            "11\n",
            "14\n",
            "28\n",
            "We iNeuronll iNeuronre iNeuron piNeuronrt of Full StiNeuronck\n",
            "['We', 'all', 'are', 'a', 'part', 'of', 'Full', 'Stack']\n"
          ]
        }
      ],
      "source": [
        "a=\"We all are a part of Full Stack\"\n",
        "b=a.lower()\n",
        "print(b)\n",
        "c=a.count(\"a\")\n",
        "print(\"The count of a is \",c)\n",
        "for i in range(len(a)):\n",
        "    if(a[i]==\"a\"):\n",
        "        print(i)\n",
        "d=a.replace(\"a\",\"iNeuron\")\n",
        "print(d)\n",
        "e=a.split()\n",
        "print(e)\n"
      ]
    },
    {
      "cell_type": "code",
      "execution_count": null,
      "metadata": {
        "id": "E0niIEvc5j49",
        "outputId": "535dfc1f-5280-48ec-fc53-ceac4857f5e8"
      },
      "outputs": [
        {
          "name": "stdout",
          "output_type": "stream",
          "text": [
            "we are all part of full stack\n",
            "4\n",
            "[3, 7, 12, 26]\n",
            "We Ineuronre Ineuronll pIneuronrt of Full StIneuronck\n",
            "['We', 'are', 'all', 'part', 'of', 'Full', 'Stack']\n"
          ]
        }
      ],
      "source": [
        "a = \"We are all part of Full Stack\"\n",
        "\n",
        "# 1. Normalizing entire string in lower case\n",
        "print(a.lower())\n",
        "# 2. Finding number of occurances of a in entire string\n",
        "print(len([i for i in range(len(a)) if a[i] == 'a']))\n",
        "# 3. Indexes where a is present \n",
        "print([i for i in range(len(a)) if a[i] == 'a'])  \n",
        "# 4 . replace all a's with ineuron\n",
        "print(a.replace('a','Ineuron'))\n",
        "#5. print all the words as a list\n",
        "print([i for i in a.split() ])\n"
      ]
    },
    {
      "cell_type": "code",
      "execution_count": null,
      "metadata": {
        "id": "Z3NuT_p95j4-",
        "outputId": "61769c98-01d4-4317-d075-487efbfa964a"
      },
      "outputs": [
        {
          "name": "stdout",
          "output_type": "stream",
          "text": [
            "lower : we are part of full stack\n",
            "Count of a : 3\n",
            "3\n",
            "8\n",
            "22\n",
            "Replace a with iNeuron : We iNeuronre PiNeuronrt of Full StiNeuronck\n"
          ]
        }
      ],
      "source": [
        "a='We are Part of Full Stack'\n",
        "b=a.lower()\n",
        "print('lower :',b)\n",
        "c=a.count('a')\n",
        "print('Count of a :',c)\n",
        "for i in range(1,25):\n",
        "    if a[i]== 'a':\n",
        "        print(i)\n",
        "str=a.replace('a','iNeuron')\n",
        "print('Replace a with iNeuron :',str)\n"
      ]
    },
    {
      "cell_type": "code",
      "execution_count": null,
      "metadata": {
        "id": "uaGzDCMS5j4-",
        "outputId": "1b85d440-aab7-45e8-c901-1483044291a4"
      },
      "outputs": [
        {
          "name": "stdout",
          "output_type": "stream",
          "text": [
            "count of a= 5\n"
          ]
        }
      ],
      "source": [
        "a=\"we all are a part of Full Stack\"\n",
        "a=a.lower()\n",
        "c=a.count(\"a\")\n",
        "print(\"count of a=\",c)"
      ]
    },
    {
      "cell_type": "code",
      "execution_count": null,
      "metadata": {
        "id": "GLUT3XvP5j4_",
        "outputId": "cde822d6-4520-47b6-befe-9db00ed281db"
      },
      "outputs": [
        {
          "name": "stdout",
          "output_type": "stream",
          "text": [
            "count of a= 5\n",
            "all indexes of 'a': [3, 7, 11, 14, 28]\n"
          ]
        }
      ],
      "source": [
        "a=\"we all are a part of Full Stack\"\n",
        "a=a.lower()\n",
        "c=a.count(\"a\")\n",
        "print(\"count of a=\",c)\n",
        "l=[]\n",
        "for e in range(len(a)):\n",
        "    if a[e]==\"a\":\n",
        "        l.append(e)\n",
        "print(\"all indexes of 'a':\",l)                                                                   "
      ]
    },
    {
      "cell_type": "code",
      "execution_count": null,
      "metadata": {
        "id": "dzZPf30O5j5A",
        "outputId": "0796b03e-9d29-4393-e97c-25165a224c6f"
      },
      "outputs": [
        {
          "data": {
            "text/plain": [
              "['we',\n",
              " 'iNeuronll',\n",
              " 'iNeuronre',\n",
              " 'iNeuron',\n",
              " 'piNeuronrt',\n",
              " 'of',\n",
              " 'full',\n",
              " 'stiNeuronck']"
            ]
          },
          "execution_count": 159,
          "metadata": {},
          "output_type": "execute_result"
        }
      ],
      "source": [
        "a=a.replace(\"a\",\"iNeuron\")    \n",
        "a.split() "
      ]
    },
    {
      "cell_type": "code",
      "execution_count": null,
      "metadata": {
        "id": "ANM0OI005j5A",
        "outputId": "681908ab-5aee-4610-d89f-60050d963f8c"
      },
      "outputs": [
        {
          "name": "stdout",
          "output_type": "stream",
          "text": [
            "The count of a is we all are a part of full stack\n",
            "Indexs of a [3, 7, 11, 14, 28]\n",
            "we ineuronll ineuronre ineuron pineuronrt of full stineuronck\n"
          ]
        },
        {
          "data": {
            "text/plain": [
              "['we',\n",
              " 'ineuronll',\n",
              " 'ineuronre',\n",
              " 'ineuron',\n",
              " 'pineuronrt',\n",
              " 'of',\n",
              " 'full',\n",
              " 'stineuronck']"
            ]
          },
          "execution_count": 160,
          "metadata": {},
          "output_type": "execute_result"
        }
      ],
      "source": [
        "a = \"we all are a part of Full Stack\"\n",
        "a = a.lower()\n",
        "count_a = a.count('a')\n",
        "print(\"The count of a is\",a)\n",
        "index_a=[]\n",
        "for i in range(len(a)):\n",
        "    if(a[i]=='a'):\n",
        "        index_a.append(i)\n",
        "print(\"Indexs of a\",index_a)\n",
        "for i in range(len(a)):\n",
        "    if(a[i]=='a'):\n",
        "        a=a.replace('a','ineuron')\n",
        "        print(a)\n",
        "        \n",
        "a.split()\n"
      ]
    },
    {
      "cell_type": "code",
      "execution_count": null,
      "metadata": {
        "id": "5snWl0ao5j5A"
      },
      "outputs": [],
      "source": [
        "s = \"Fds\""
      ]
    },
    {
      "cell_type": "code",
      "execution_count": null,
      "metadata": {
        "id": "bFiiQLbD5j5A",
        "outputId": "c4857685-a81a-4bc2-c92b-38388345bf91"
      },
      "outputs": [
        {
          "data": {
            "text/plain": [
              "False"
            ]
          },
          "execution_count": 181,
          "metadata": {},
          "output_type": "execute_result"
        }
      ],
      "source": [
        "s.isupper()"
      ]
    },
    {
      "cell_type": "code",
      "execution_count": null,
      "metadata": {
        "id": "oIy5yLZJ5j5B",
        "outputId": "17471900-502d-48e3-ae91-7154b1e64b32"
      },
      "outputs": [
        {
          "data": {
            "text/plain": [
              "True"
            ]
          },
          "execution_count": 182,
          "metadata": {},
          "output_type": "execute_result"
        }
      ],
      "source": [
        "s.islower()"
      ]
    },
    {
      "cell_type": "code",
      "execution_count": null,
      "metadata": {
        "id": "TNlAKkSU5j5B",
        "outputId": "58d26a64-4fcb-4f6d-ebfb-b20dc8ccf581"
      },
      "outputs": [
        {
          "data": {
            "text/plain": [
              "False"
            ]
          },
          "execution_count": 183,
          "metadata": {},
          "output_type": "execute_result"
        }
      ],
      "source": [
        "s.isspace()"
      ]
    },
    {
      "cell_type": "code",
      "execution_count": null,
      "metadata": {
        "id": "clsPfngV5j5B",
        "outputId": "a8625081-9859-4275-b79d-8d55de50011e"
      },
      "outputs": [
        {
          "data": {
            "text/plain": [
              "True"
            ]
          },
          "execution_count": 186,
          "metadata": {},
          "output_type": "execute_result"
        }
      ],
      "source": [
        "s.isdigit()"
      ]
    },
    {
      "cell_type": "code",
      "execution_count": null,
      "metadata": {
        "id": "1u7MQ--W5j5B",
        "outputId": "5ea12ad3-e905-4ccc-ac6c-7b8bd8ccd429"
      },
      "outputs": [
        {
          "data": {
            "text/plain": [
              "True"
            ]
          },
          "execution_count": 189,
          "metadata": {},
          "output_type": "execute_result"
        }
      ],
      "source": [
        "s.endswith('s')"
      ]
    },
    {
      "cell_type": "code",
      "execution_count": null,
      "metadata": {
        "id": "H63Ebx_Q5j5C",
        "outputId": "fdb6be6d-7397-433b-b96b-52dffb66ae88"
      },
      "outputs": [
        {
          "data": {
            "text/plain": [
              "True"
            ]
          },
          "execution_count": 192,
          "metadata": {},
          "output_type": "execute_result"
        }
      ],
      "source": [
        "s.startswith(\"s\")"
      ]
    },
    {
      "cell_type": "code",
      "execution_count": null,
      "metadata": {
        "id": "kSPC9aBt5j5C",
        "outputId": "dad1a4f2-bf85-47c0-d933-e3dec32c2c9d"
      },
      "outputs": [
        {
          "data": {
            "text/plain": [
              "True"
            ]
          },
          "execution_count": 202,
          "metadata": {},
          "output_type": "execute_result"
        }
      ],
      "source": [
        "s.isalnum()"
      ]
    },
    {
      "cell_type": "code",
      "execution_count": null,
      "metadata": {
        "id": "34GmZ2Xp5j5D",
        "outputId": "358f6833-3963-4de5-c3fa-e841240b7b56"
      },
      "outputs": [
        {
          "data": {
            "text/plain": [
              "True"
            ]
          },
          "execution_count": 205,
          "metadata": {},
          "output_type": "execute_result"
        }
      ],
      "source": [
        "s.isalpha()"
      ]
    },
    {
      "cell_type": "code",
      "execution_count": null,
      "metadata": {
        "id": "UOL-Oyz15j5D",
        "outputId": "062e3d80-4ff7-485a-9e02-319f113d8d23"
      },
      "outputs": [
        {
          "data": {
            "text/plain": [
              "True"
            ]
          },
          "execution_count": 208,
          "metadata": {},
          "output_type": "execute_result"
        }
      ],
      "source": [
        "s.istitle()"
      ]
    },
    {
      "cell_type": "code",
      "execution_count": null,
      "metadata": {
        "id": "GhtRHgyZ5j5D",
        "outputId": "538279fb-8ef3-48e1-d880-322e354298b4"
      },
      "outputs": [
        {
          "data": {
            "text/plain": [
              "26"
            ]
          },
          "execution_count": 211,
          "metadata": {},
          "output_type": "execute_result"
        }
      ],
      "source": [
        "len(s)"
      ]
    },
    {
      "cell_type": "code",
      "execution_count": null,
      "metadata": {
        "id": "O7lYpu-t5j5E"
      },
      "outputs": [],
      "source": [
        "s = \"this is a full stack batch\""
      ]
    },
    {
      "cell_type": "code",
      "execution_count": null,
      "metadata": {
        "id": "QAyFjfBm5j5E",
        "outputId": "2f24554c-3228-4c60-b353-e12558687e52"
      },
      "outputs": [
        {
          "name": "stdout",
          "output_type": "stream",
          "text": [
            "26\n"
          ]
        }
      ],
      "source": [
        "count = 0 \n",
        "for i in  s :\n",
        "    count = count +1 \n",
        "print(count)"
      ]
    },
    {
      "cell_type": "code",
      "execution_count": null,
      "metadata": {
        "id": "AH5yoir75j5E",
        "outputId": "0a8aa71b-26dc-440e-a40c-a338b5df05cf"
      },
      "outputs": [
        {
          "name": "stdout",
          "output_type": "stream",
          "text": [
            "h\n",
            "c\n",
            "t\n",
            "a\n",
            "b\n",
            " \n",
            "k\n",
            "c\n",
            "a\n",
            "t\n",
            "s\n",
            " \n",
            "l\n",
            "l\n",
            "u\n",
            "f\n",
            " \n",
            "a\n",
            " \n",
            "s\n",
            "i\n",
            " \n",
            "s\n",
            "i\n",
            "h\n"
          ]
        }
      ],
      "source": [
        "for i in range(1, len(s)) :\n",
        "    print(s[-i])"
      ]
    },
    {
      "cell_type": "code",
      "execution_count": null,
      "metadata": {
        "id": "gFj53qxg5j5F",
        "outputId": "93f50b72-d2f7-4a7c-c0d6-e81bedfa7370"
      },
      "outputs": [
        {
          "name": "stdout",
          "output_type": "stream",
          "text": [
            "h\n",
            "d\n",
            "u\n",
            "s\n"
          ]
        }
      ],
      "source": [
        "s = \"sudh\"\n",
        "ch = len(s) -1\n",
        "while ch >= 0 :\n",
        "    print(s[ch])\n",
        "    ch = ch -1 "
      ]
    },
    {
      "cell_type": "code",
      "execution_count": null,
      "metadata": {
        "id": "WQlU5l3H5j5F",
        "outputId": "22ffb455-f364-42ef-e8e8-5b314856052e"
      },
      "outputs": [
        {
          "name": "stdout",
          "output_type": "stream",
          "text": [
            "i is a vowel\n",
            "n is not a vowel\n",
            "e is a vowel\n",
            "r is not a vowel\n",
            "u is a vowel\n",
            "o is a vowel\n",
            "n is not a vowel\n"
          ]
        }
      ],
      "source": [
        "name = \"ineruon\"\n",
        "vowels = \"AaEeIiOoUu\"\n",
        "\n",
        "for i in name :\n",
        "    if i in vowels:\n",
        "        print(\"{} is a vowel\".format(i))\n",
        "    else :\n",
        "        print(\"{} is not a vowel\".format(i))\n"
      ]
    },
    {
      "cell_type": "code",
      "execution_count": null,
      "metadata": {
        "id": "6MHo0n_P5j5F",
        "outputId": "2cfecc24-f433-446b-f183-150767bdc098"
      },
      "outputs": [
        {
          "data": {
            "text/plain": [
              "' my name is sudh'"
            ]
          },
          "execution_count": 221,
          "metadata": {},
          "output_type": "execute_result"
        }
      ],
      "source": [
        "\" {} name is sudh\".format(\"my\")"
      ]
    },
    {
      "cell_type": "code",
      "execution_count": null,
      "metadata": {
        "id": "-l7NIgOL5j5F",
        "outputId": "9124ddd7-a0e2-4932-9cdd-aa5ffd1bbe49"
      },
      "outputs": [
        {
          "name": "stdout",
          "output_type": "stream",
          "text": [
            "fsdfs\n",
            "fsdf\n"
          ]
        }
      ],
      "source": [
        "a = input()\n",
        "b = input()\n"
      ]
    },
    {
      "cell_type": "code",
      "execution_count": null,
      "metadata": {
        "id": "boHdGHfk5j5G",
        "outputId": "1b779a1c-6d87-4940-e766-3d6fd065ef86"
      },
      "outputs": [
        {
          "data": {
            "text/plain": [
              "'fsdfs name fsdf sudh Fsdfsfs '"
            ]
          },
          "execution_count": 228,
          "metadata": {},
          "output_type": "execute_result"
        }
      ],
      "source": [
        "\"{} name {} sudh {} \".format,(a, b, \"Fsdfsfs\")"
      ]
    },
    {
      "cell_type": "code",
      "execution_count": null,
      "metadata": {
        "id": "QZYwffd05j5G"
      },
      "outputs": [],
      "source": [
        "a = \"xyx\"\n",
        "b = 2002\n",
        "c = \"eye\"\n",
        "d = \"nitin\""
      ]
    },
    {
      "cell_type": "code",
      "execution_count": null,
      "metadata": {
        "id": "dQwjhQUL5j5G",
        "outputId": "b9e1f2e9-45a6-4875-a2e4-4689eb1231ba"
      },
      "outputs": [
        {
          "name": "stdout",
          "output_type": "stream",
          "text": [
            "enter a data for which you would like to check pelindrom sudh\n",
            "its not a same \n"
          ]
        }
      ],
      "source": [
        "s = input(\"enter a data for which you would like to check pelindrom \" )\n",
        "s1 = s[::-1]\n",
        "if s ==s1:\n",
        "    print(\"its a same \")\n",
        "else :\n",
        "    print(\"its not a same \")"
      ]
    },
    {
      "cell_type": "code",
      "execution_count": null,
      "metadata": {
        "id": "83D2LHVS5j5G"
      },
      "outputs": [],
      "source": [
        "l = [\"sudh\" , 34,34,45,[34,45]]"
      ]
    },
    {
      "cell_type": "code",
      "execution_count": null,
      "metadata": {
        "id": "Vng7z_kS5j5H",
        "outputId": "bd6e6dae-c736-4123-8bdc-1aaaa97fe15c"
      },
      "outputs": [
        {
          "data": {
            "text/plain": [
              "45"
            ]
          },
          "execution_count": 236,
          "metadata": {},
          "output_type": "execute_result"
        }
      ],
      "source": [
        "l[3]"
      ]
    },
    {
      "cell_type": "code",
      "execution_count": null,
      "metadata": {
        "id": "Hh1SAtZL5j5H",
        "outputId": "08034aff-1319-41ed-f367-5aaa5c9c876f"
      },
      "outputs": [
        {
          "data": {
            "text/plain": [
              "['sudh', 34, 34]"
            ]
          },
          "execution_count": 237,
          "metadata": {},
          "output_type": "execute_result"
        }
      ],
      "source": [
        "l[0:3]"
      ]
    },
    {
      "cell_type": "code",
      "execution_count": null,
      "metadata": {
        "id": "93pMaoEO5j5H",
        "outputId": "8a178918-3f2e-4f2a-d8a7-be83d462e35e"
      },
      "outputs": [
        {
          "data": {
            "text/plain": [
              "[45, 34, 34]"
            ]
          },
          "execution_count": 239,
          "metadata": {},
          "output_type": "execute_result"
        }
      ],
      "source": [
        "l[3:0:-1]"
      ]
    },
    {
      "cell_type": "code",
      "execution_count": null,
      "metadata": {
        "id": "gnB2lnU75j5H",
        "outputId": "99dfe352-9be1-47de-b473-2a22a29abd4f"
      },
      "outputs": [
        {
          "data": {
            "text/plain": [
              "[[34, 45], 45, 34, 34, 'sudh']"
            ]
          },
          "execution_count": 240,
          "metadata": {},
          "output_type": "execute_result"
        }
      ],
      "source": [
        "l[::-1]"
      ]
    },
    {
      "cell_type": "code",
      "execution_count": null,
      "metadata": {
        "id": "Q7qTalQ25j5H",
        "outputId": "0fa89f67-4131-462f-e3b7-b64cdd150ca3"
      },
      "outputs": [
        {
          "data": {
            "text/plain": [
              "['sudh', 34, 34, 45, [34, 45]]"
            ]
          },
          "execution_count": 241,
          "metadata": {},
          "output_type": "execute_result"
        }
      ],
      "source": [
        "l "
      ]
    },
    {
      "cell_type": "code",
      "execution_count": null,
      "metadata": {
        "id": "9Ousc6HY5j5I",
        "outputId": "4ca9805a-b1e2-4f43-f3f8-609d28bd7eef"
      },
      "outputs": [
        {
          "data": {
            "text/plain": [
              "['s', 'u', 'd', 'h']"
            ]
          },
          "execution_count": 249,
          "metadata": {},
          "output_type": "execute_result"
        }
      ],
      "source": [
        "s = \"sudh\"\n",
        "s = list(s)\n",
        "s"
      ]
    },
    {
      "cell_type": "code",
      "execution_count": null,
      "metadata": {
        "id": "8ZInABJP5j5I"
      },
      "outputs": [],
      "source": [
        "s = [\"sudh\"]"
      ]
    },
    {
      "cell_type": "code",
      "execution_count": null,
      "metadata": {
        "id": "Bs1GYDLQ5j5I",
        "outputId": "765575f8-9c7d-47bc-ac81-b0c728437989"
      },
      "outputs": [
        {
          "data": {
            "text/plain": [
              "['sudh', 34, 34, 45, [34, 45], 'sudh']"
            ]
          },
          "execution_count": 252,
          "metadata": {},
          "output_type": "execute_result"
        }
      ],
      "source": [
        "l + s "
      ]
    },
    {
      "cell_type": "code",
      "execution_count": null,
      "metadata": {
        "id": "eua-wVpB5j5I",
        "outputId": "baf0ad6c-839a-485d-9498-2bf400097bcd"
      },
      "outputs": [
        {
          "data": {
            "text/plain": [
              "['sudh', 34, 34, 45, [34, 45]]"
            ]
          },
          "execution_count": 257,
          "metadata": {},
          "output_type": "execute_result"
        }
      ],
      "source": [
        "l"
      ]
    },
    {
      "cell_type": "code",
      "execution_count": null,
      "metadata": {
        "id": "d9mSPutl5j5J",
        "outputId": "cdd21a0e-b3f2-4530-8fde-933d634a590c"
      },
      "outputs": [
        {
          "data": {
            "text/plain": [
              "['sudh', 34, 34, 45, [34, 45], 'sudh', 34, 34, 45, [34, 45]]"
            ]
          },
          "execution_count": 255,
          "metadata": {},
          "output_type": "execute_result"
        }
      ],
      "source": [
        "l *2"
      ]
    },
    {
      "cell_type": "code",
      "execution_count": null,
      "metadata": {
        "id": "7iSbQZH75j5J",
        "outputId": "2864b6f4-d5d7-464f-99a0-a0c7ac93646d"
      },
      "outputs": [
        {
          "data": {
            "text/plain": [
              "5"
            ]
          },
          "execution_count": 256,
          "metadata": {},
          "output_type": "execute_result"
        }
      ],
      "source": [
        "len(l)"
      ]
    },
    {
      "cell_type": "code",
      "execution_count": null,
      "metadata": {
        "id": "4jdM7Ncb5j5J",
        "outputId": "6a4e8ecb-7b48-4b91-d61d-efc0e94f17e7"
      },
      "outputs": [
        {
          "data": {
            "text/plain": [
              "['sudh', 34, 34, 45, [34, 45]]"
            ]
          },
          "execution_count": 258,
          "metadata": {},
          "output_type": "execute_result"
        }
      ],
      "source": [
        "l "
      ]
    },
    {
      "cell_type": "code",
      "execution_count": null,
      "metadata": {
        "id": "vSoQYZHv5j5J",
        "outputId": "2f0218c4-b2b6-42a9-d0af-345aaba6631e"
      },
      "outputs": [
        {
          "data": {
            "text/plain": [
              "False"
            ]
          },
          "execution_count": 261,
          "metadata": {},
          "output_type": "execute_result"
        }
      ],
      "source": [
        "454 in l "
      ]
    },
    {
      "cell_type": "code",
      "execution_count": null,
      "metadata": {
        "id": "WErbxdbL5j5J"
      },
      "outputs": [],
      "source": []
    }
  ],
  "metadata": {
    "kernelspec": {
      "display_name": "Python 3",
      "language": "python",
      "name": "python3"
    },
    "language_info": {
      "codemirror_mode": {
        "name": "ipython",
        "version": 3
      },
      "file_extension": ".py",
      "mimetype": "text/x-python",
      "name": "python",
      "nbconvert_exporter": "python",
      "pygments_lexer": "ipython3",
      "version": "3.8.3"
    },
    "colab": {
      "provenance": [],
      "include_colab_link": true
    }
  },
  "nbformat": 4,
  "nbformat_minor": 0
}