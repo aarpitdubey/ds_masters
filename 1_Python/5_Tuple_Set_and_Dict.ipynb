{
  "cells": [
    {
      "cell_type": "markdown",
      "metadata": {
        "id": "view-in-github",
        "colab_type": "text"
      },
      "source": [
        "<a href=\"https://colab.research.google.com/github/aarpitdubey/ml_masters/blob/main/1_Python/5_Tuple_Set_and_Dict.ipynb\" target=\"_parent\"><img src=\"https://colab.research.google.com/assets/colab-badge.svg\" alt=\"Open In Colab\"/></a>"
      ]
    },
    {
      "cell_type": "code",
      "execution_count": null,
      "metadata": {
        "id": "wxwowsSeHAcx"
      },
      "outputs": [],
      "source": [
        "t = ()"
      ]
    },
    {
      "cell_type": "code",
      "execution_count": null,
      "metadata": {
        "id": "_8CCmwmbHAc4",
        "outputId": "a44a8965-11f2-4918-cfa6-f1ac053d96e7"
      },
      "outputs": [
        {
          "data": {
            "text/plain": [
              "tuple"
            ]
          },
          "execution_count": 2,
          "metadata": {},
          "output_type": "execute_result"
        }
      ],
      "source": [
        "type(t)"
      ]
    },
    {
      "cell_type": "code",
      "execution_count": null,
      "metadata": {
        "id": "Kp_qZMo-HAc8",
        "outputId": "600f5164-1be3-4ee9-c69a-d5b02e7c181f"
      },
      "outputs": [
        {
          "data": {
            "text/plain": [
              "list"
            ]
          },
          "execution_count": 3,
          "metadata": {},
          "output_type": "execute_result"
        }
      ],
      "source": [
        "l = []\n",
        "type(l)"
      ]
    },
    {
      "cell_type": "code",
      "execution_count": null,
      "metadata": {
        "id": "qfX2HyDWHAc-"
      },
      "outputs": [],
      "source": [
        "t1 = (234,34,\"sudh\" , 3.45,True)"
      ]
    },
    {
      "cell_type": "code",
      "execution_count": null,
      "metadata": {
        "id": "eCXvIEK4HAc_"
      },
      "outputs": [],
      "source": [
        "l1 = [234,34,\"sudh\" , 3.45,True]"
      ]
    },
    {
      "cell_type": "code",
      "execution_count": null,
      "metadata": {
        "id": "PCW7i5xdHAdA",
        "outputId": "4031bbe6-2263-4348-8437-2f931510ba4a"
      },
      "outputs": [
        {
          "data": {
            "text/plain": [
              "(234, 34, 'sudh', 3.45)"
            ]
          },
          "execution_count": 8,
          "metadata": {},
          "output_type": "execute_result"
        }
      ],
      "source": [
        "t1[0:4]"
      ]
    },
    {
      "cell_type": "code",
      "execution_count": null,
      "metadata": {
        "id": "V05aLIbIHAdA",
        "outputId": "0921ed9c-c2bb-494d-957f-a1bd3441c051"
      },
      "outputs": [
        {
          "data": {
            "text/plain": [
              "(True, 3.45, 'sudh', 34, 234)"
            ]
          },
          "execution_count": 9,
          "metadata": {},
          "output_type": "execute_result"
        }
      ],
      "source": [
        "t1[::-1]"
      ]
    },
    {
      "cell_type": "code",
      "execution_count": null,
      "metadata": {
        "id": "w8R6G3MOHAdB",
        "outputId": "09c8037f-227a-476c-9907-f1c03ccbde84"
      },
      "outputs": [
        {
          "data": {
            "text/plain": [
              "True"
            ]
          },
          "execution_count": 11,
          "metadata": {},
          "output_type": "execute_result"
        }
      ],
      "source": [
        "t1[-1]"
      ]
    },
    {
      "cell_type": "code",
      "execution_count": null,
      "metadata": {
        "id": "gLVVxRPUHAdC"
      },
      "outputs": [],
      "source": [
        "l1[0] = \"kumar\""
      ]
    },
    {
      "cell_type": "code",
      "execution_count": null,
      "metadata": {
        "id": "quUCPG1IHAdC",
        "outputId": "ecef7b6f-72bc-4764-b3df-23cbef3eb396"
      },
      "outputs": [
        {
          "data": {
            "text/plain": [
              "['kumar', 34, 'sudh', 3.45, True]"
            ]
          },
          "execution_count": 14,
          "metadata": {},
          "output_type": "execute_result"
        }
      ],
      "source": [
        "l1"
      ]
    },
    {
      "cell_type": "code",
      "execution_count": null,
      "metadata": {
        "id": "UKsiDA-oHAdD",
        "outputId": "8a21a5c1-6339-49a1-d3b1-3f2d8ef66b3c"
      },
      "outputs": [
        {
          "data": {
            "text/plain": [
              "(234, 34, 'sudh', 3.45, True)"
            ]
          },
          "execution_count": 15,
          "metadata": {},
          "output_type": "execute_result"
        }
      ],
      "source": [
        "t1"
      ]
    },
    {
      "cell_type": "code",
      "execution_count": null,
      "metadata": {
        "id": "kc1IB8yUHAdE",
        "outputId": "0f31fd01-7216-4721-ac6a-1bd482d08510"
      },
      "outputs": [
        {
          "ename": "TypeError",
          "evalue": "'tuple' object does not support item assignment",
          "output_type": "error",
          "traceback": [
            "\u001b[1;31m---------------------------------------------------------------------------\u001b[0m",
            "\u001b[1;31mTypeError\u001b[0m                                 Traceback (most recent call last)",
            "\u001b[1;32m<ipython-input-17-de2369803a3c>\u001b[0m in \u001b[0;36m<module>\u001b[1;34m\u001b[0m\n\u001b[1;32m----> 1\u001b[1;33m \u001b[0mt1\u001b[0m\u001b[1;33m[\u001b[0m\u001b[1;36m0\u001b[0m\u001b[1;33m]\u001b[0m \u001b[1;33m=\u001b[0m \u001b[1;34m\"dsdfdf\"\u001b[0m\u001b[1;33m\u001b[0m\u001b[1;33m\u001b[0m\u001b[0m\n\u001b[0m",
            "\u001b[1;31mTypeError\u001b[0m: 'tuple' object does not support item assignment"
          ]
        }
      ],
      "source": [
        "t1[0] = \"dsdfdf\""
      ]
    },
    {
      "cell_type": "code",
      "execution_count": null,
      "metadata": {
        "id": "69rmvRgCHAdF"
      },
      "outputs": [],
      "source": [
        "t2 = (234,54,565)"
      ]
    },
    {
      "cell_type": "code",
      "execution_count": null,
      "metadata": {
        "id": "1qff3ziDHAdG",
        "outputId": "0be29518-3aef-43da-ca9f-053dc49b99e7"
      },
      "outputs": [
        {
          "data": {
            "text/plain": [
              "(234, 34, 'sudh', 3.45, True, 234, 54, 565)"
            ]
          },
          "execution_count": 19,
          "metadata": {},
          "output_type": "execute_result"
        }
      ],
      "source": [
        "t1+t2"
      ]
    },
    {
      "cell_type": "code",
      "execution_count": null,
      "metadata": {
        "id": "GUHGsf39HAdG",
        "outputId": "0870b51a-1cb0-491c-c5de-aa466b2ebe9e"
      },
      "outputs": [
        {
          "data": {
            "text/plain": [
              "(234,\n",
              " 34,\n",
              " 'sudh',\n",
              " 3.45,\n",
              " True,\n",
              " 234,\n",
              " 34,\n",
              " 'sudh',\n",
              " 3.45,\n",
              " True,\n",
              " 234,\n",
              " 34,\n",
              " 'sudh',\n",
              " 3.45,\n",
              " True,\n",
              " 234,\n",
              " 34,\n",
              " 'sudh',\n",
              " 3.45,\n",
              " True)"
            ]
          },
          "execution_count": 20,
          "metadata": {},
          "output_type": "execute_result"
        }
      ],
      "source": [
        "t1*4"
      ]
    },
    {
      "cell_type": "code",
      "execution_count": null,
      "metadata": {
        "id": "twUfMzi6HAdH",
        "outputId": "e25c35b7-664a-4ae7-936a-ec7d68731dc5"
      },
      "outputs": [
        {
          "data": {
            "text/plain": [
              "(234, 34, 'sudh', 3.45, True)"
            ]
          },
          "execution_count": 22,
          "metadata": {},
          "output_type": "execute_result"
        }
      ],
      "source": [
        "t1"
      ]
    },
    {
      "cell_type": "code",
      "execution_count": null,
      "metadata": {
        "id": "UV91N31ZHAdI",
        "outputId": "6656df31-8b23-4ae4-8034-3203e9dba4bc"
      },
      "outputs": [
        {
          "data": {
            "text/plain": [
              "True"
            ]
          },
          "execution_count": 23,
          "metadata": {},
          "output_type": "execute_result"
        }
      ],
      "source": [
        "34 in t1"
      ]
    },
    {
      "cell_type": "code",
      "execution_count": null,
      "metadata": {
        "id": "EwuTRoLMHAdI",
        "outputId": "d0c871ca-f2e2-47d6-cd1e-004b5f9493ed"
      },
      "outputs": [
        {
          "data": {
            "text/plain": [
              "False"
            ]
          },
          "execution_count": 24,
          "metadata": {},
          "output_type": "execute_result"
        }
      ],
      "source": [
        "\"fdsfds\" in t1"
      ]
    },
    {
      "cell_type": "code",
      "execution_count": null,
      "metadata": {
        "id": "lyfSG7WDHAdJ",
        "outputId": "a86e2ed0-0deb-4805-e97d-eb742954fefc"
      },
      "outputs": [
        {
          "data": {
            "text/plain": [
              "(234, 34, 'sudh', 3.45, True)"
            ]
          },
          "execution_count": 25,
          "metadata": {},
          "output_type": "execute_result"
        }
      ],
      "source": [
        "t1"
      ]
    },
    {
      "cell_type": "code",
      "execution_count": null,
      "metadata": {
        "id": "X9lq3Jm7HAdJ",
        "outputId": "cc370d2a-0441-4636-e433-a2dbfa83b9e0"
      },
      "outputs": [
        {
          "ename": "TypeError",
          "evalue": "'>' not supported between instances of 'str' and 'int'",
          "output_type": "error",
          "traceback": [
            "\u001b[1;31m---------------------------------------------------------------------------\u001b[0m",
            "\u001b[1;31mTypeError\u001b[0m                                 Traceback (most recent call last)",
            "\u001b[1;32m<ipython-input-26-07c1bf72392e>\u001b[0m in \u001b[0;36m<module>\u001b[1;34m\u001b[0m\n\u001b[1;32m----> 1\u001b[1;33m \u001b[0mmax\u001b[0m\u001b[1;33m(\u001b[0m\u001b[0mt1\u001b[0m\u001b[1;33m)\u001b[0m\u001b[1;33m\u001b[0m\u001b[1;33m\u001b[0m\u001b[0m\n\u001b[0m",
            "\u001b[1;31mTypeError\u001b[0m: '>' not supported between instances of 'str' and 'int'"
          ]
        }
      ],
      "source": [
        "max(t1)"
      ]
    },
    {
      "cell_type": "code",
      "execution_count": null,
      "metadata": {
        "id": "iwzX6LaOHAdK"
      },
      "outputs": [],
      "source": [
        "t3 = (23,343,45,454,54)"
      ]
    },
    {
      "cell_type": "code",
      "execution_count": null,
      "metadata": {
        "id": "Ew7USckXHAdK",
        "outputId": "f1260254-3853-46c7-95f8-6e9e38542670"
      },
      "outputs": [
        {
          "data": {
            "text/plain": [
              "454"
            ]
          },
          "execution_count": 29,
          "metadata": {},
          "output_type": "execute_result"
        }
      ],
      "source": [
        "max(t3)"
      ]
    },
    {
      "cell_type": "code",
      "execution_count": null,
      "metadata": {
        "id": "dQtFOw5kHAdL"
      },
      "outputs": [],
      "source": [
        "t4 = (\"fsdf\",\"Fsdf\",\"fsd\")"
      ]
    },
    {
      "cell_type": "code",
      "execution_count": null,
      "metadata": {
        "id": "qEGlRcKKHAdN",
        "outputId": "e397d2a3-14f4-44d1-bb66-a061a78c3505"
      },
      "outputs": [
        {
          "data": {
            "text/plain": [
              "'fsdf'"
            ]
          },
          "execution_count": 31,
          "metadata": {},
          "output_type": "execute_result"
        }
      ],
      "source": [
        "max(t4)"
      ]
    },
    {
      "cell_type": "code",
      "execution_count": null,
      "metadata": {
        "id": "kui5MfGQHAdN"
      },
      "outputs": [],
      "source": [
        "t1 =(234, 34, 'sudh', 3.45,34,34,34, True)"
      ]
    },
    {
      "cell_type": "code",
      "execution_count": null,
      "metadata": {
        "id": "krmJ3E6xHAdO",
        "outputId": "bfcd3087-7d28-4d14-feba-c720d03546eb"
      },
      "outputs": [
        {
          "data": {
            "text/plain": [
              "1"
            ]
          },
          "execution_count": 38,
          "metadata": {},
          "output_type": "execute_result"
        }
      ],
      "source": [
        "t1.index(34)"
      ]
    },
    {
      "cell_type": "code",
      "execution_count": null,
      "metadata": {
        "id": "W9fnXXtwHAdO",
        "outputId": "913ca501-0589-42e2-ff0e-d2d0754d9df0"
      },
      "outputs": [
        {
          "data": {
            "text/plain": [
              "4"
            ]
          },
          "execution_count": 39,
          "metadata": {},
          "output_type": "execute_result"
        }
      ],
      "source": [
        "t1.count(34)"
      ]
    },
    {
      "cell_type": "code",
      "execution_count": null,
      "metadata": {
        "id": "H_DEehTxHAdP",
        "outputId": "5f2a6880-87dd-4094-afed-2865dd068c64"
      },
      "outputs": [
        {
          "data": {
            "text/plain": [
              "['kumar', 34, 'sudh', 3.45, True]"
            ]
          },
          "execution_count": 33,
          "metadata": {},
          "output_type": "execute_result"
        }
      ],
      "source": [
        "l1"
      ]
    },
    {
      "cell_type": "code",
      "execution_count": null,
      "metadata": {
        "id": "-ysT36_9HAdP",
        "outputId": "0c05fdc7-123d-475e-fb94-70bb769b385c"
      },
      "outputs": [
        {
          "ename": "ValueError",
          "evalue": "6 is not in list",
          "output_type": "error",
          "traceback": [
            "\u001b[1;31m---------------------------------------------------------------------------\u001b[0m",
            "\u001b[1;31mValueError\u001b[0m                                Traceback (most recent call last)",
            "\u001b[1;32m<ipython-input-36-6ca79050144f>\u001b[0m in \u001b[0;36m<module>\u001b[1;34m\u001b[0m\n\u001b[1;32m----> 1\u001b[1;33m \u001b[0ml1\u001b[0m\u001b[1;33m.\u001b[0m\u001b[0mindex\u001b[0m\u001b[1;33m(\u001b[0m\u001b[1;36m6\u001b[0m\u001b[1;33m)\u001b[0m\u001b[1;33m\u001b[0m\u001b[1;33m\u001b[0m\u001b[0m\n\u001b[0m",
            "\u001b[1;31mValueError\u001b[0m: 6 is not in list"
          ]
        }
      ],
      "source": [
        "l1.index(6)"
      ]
    },
    {
      "cell_type": "code",
      "execution_count": null,
      "metadata": {
        "id": "1xzu9lZRHAdQ",
        "outputId": "0751d8d4-8b8a-4fb2-9ae1-1fdad33a1aac"
      },
      "outputs": [
        {
          "data": {
            "text/plain": [
              "(234, 34, 'sudh', 3.45, 34, 34, 34, True)"
            ]
          },
          "execution_count": 40,
          "metadata": {},
          "output_type": "execute_result"
        }
      ],
      "source": [
        "t1"
      ]
    },
    {
      "cell_type": "code",
      "execution_count": null,
      "metadata": {
        "id": "61TDNFQMHAdQ",
        "outputId": "0a58a523-3931-417b-8d1a-1c9b47b052e6"
      },
      "outputs": [
        {
          "ename": "TypeError",
          "evalue": "'<' not supported between instances of 'str' and 'int'",
          "output_type": "error",
          "traceback": [
            "\u001b[1;31m---------------------------------------------------------------------------\u001b[0m",
            "\u001b[1;31mTypeError\u001b[0m                                 Traceback (most recent call last)",
            "\u001b[1;32m<ipython-input-41-e8166676ab5b>\u001b[0m in \u001b[0;36m<module>\u001b[1;34m\u001b[0m\n\u001b[1;32m----> 1\u001b[1;33m \u001b[0mmin\u001b[0m\u001b[1;33m(\u001b[0m\u001b[0mt1\u001b[0m\u001b[1;33m)\u001b[0m\u001b[1;33m\u001b[0m\u001b[1;33m\u001b[0m\u001b[0m\n\u001b[0m",
            "\u001b[1;31mTypeError\u001b[0m: '<' not supported between instances of 'str' and 'int'"
          ]
        }
      ],
      "source": [
        "min(t1)"
      ]
    },
    {
      "cell_type": "code",
      "execution_count": null,
      "metadata": {
        "id": "iT8PPP9uHAdR",
        "outputId": "0ff358c2-db3a-4d80-e03b-73e92e1e011b"
      },
      "outputs": [
        {
          "data": {
            "text/plain": [
              "(23, 343, 45, 454, 54)"
            ]
          },
          "execution_count": 42,
          "metadata": {},
          "output_type": "execute_result"
        }
      ],
      "source": [
        "t3"
      ]
    },
    {
      "cell_type": "code",
      "execution_count": null,
      "metadata": {
        "id": "DM3-v5o3HAdR",
        "outputId": "f5c6d8d2-843b-4248-da05-4bf407734b49"
      },
      "outputs": [
        {
          "data": {
            "text/plain": [
              "23"
            ]
          },
          "execution_count": 43,
          "metadata": {},
          "output_type": "execute_result"
        }
      ],
      "source": [
        "min(t3)"
      ]
    },
    {
      "cell_type": "code",
      "execution_count": null,
      "metadata": {
        "id": "sBLsYykHHAdS",
        "outputId": "08c59391-c40f-434c-8787-46ccae88d2a3"
      },
      "outputs": [
        {
          "data": {
            "text/plain": [
              "'Fsdf'"
            ]
          },
          "execution_count": 44,
          "metadata": {},
          "output_type": "execute_result"
        }
      ],
      "source": [
        "min(t4)"
      ]
    },
    {
      "cell_type": "code",
      "execution_count": null,
      "metadata": {
        "id": "qVnK6_ReHAdS",
        "outputId": "5d5d0170-c7b8-4ef0-da15-ded34a5420dd"
      },
      "outputs": [
        {
          "data": {
            "text/plain": [
              "()"
            ]
          },
          "execution_count": 45,
          "metadata": {},
          "output_type": "execute_result"
        }
      ],
      "source": [
        "t"
      ]
    },
    {
      "cell_type": "code",
      "execution_count": null,
      "metadata": {
        "id": "ogQUHj29HAdT",
        "outputId": "3a6ae8a2-8ae7-4a7c-bac9-b4fce4f75b70"
      },
      "outputs": [
        {
          "data": {
            "text/plain": [
              "(234, 34, 'sudh', 3.45, 34, 34, 34, True)"
            ]
          },
          "execution_count": 46,
          "metadata": {},
          "output_type": "execute_result"
        }
      ],
      "source": [
        "t1"
      ]
    },
    {
      "cell_type": "code",
      "execution_count": null,
      "metadata": {
        "id": "7x4PO5GBHAdU"
      },
      "outputs": [],
      "source": [
        "t5 =(90,45)"
      ]
    },
    {
      "cell_type": "code",
      "execution_count": null,
      "metadata": {
        "id": "zAh73ulPHAdV",
        "outputId": "3a975e68-ff9e-41b3-efa1-b449a4df5b88"
      },
      "outputs": [
        {
          "data": {
            "text/plain": [
              "(234, 34, 'sudh', 3.45, 34, 34, 34, True, 90, 45)"
            ]
          },
          "execution_count": 50,
          "metadata": {},
          "output_type": "execute_result"
        }
      ],
      "source": [
        "t1+t5"
      ]
    },
    {
      "cell_type": "code",
      "execution_count": null,
      "metadata": {
        "id": "qiWs4ArZHAdW"
      },
      "outputs": [],
      "source": [
        "t6= 56"
      ]
    },
    {
      "cell_type": "code",
      "execution_count": null,
      "metadata": {
        "id": "X8njWe3nHAdW"
      },
      "outputs": [],
      "source": [
        "l5 = list(t1)"
      ]
    },
    {
      "cell_type": "code",
      "execution_count": null,
      "metadata": {
        "id": "4O76d0ngHAdW"
      },
      "outputs": [],
      "source": [
        "l5.insert(3,t6)"
      ]
    },
    {
      "cell_type": "code",
      "execution_count": null,
      "metadata": {
        "id": "cQdp3uJ2HAdX",
        "outputId": "c9f7d1fc-54f2-492b-8327-0f022a8c1e0d"
      },
      "outputs": [
        {
          "data": {
            "text/plain": [
              "[234, 34, 'sudh', 56, 3.45, 34, 34, 34, True]"
            ]
          },
          "execution_count": 56,
          "metadata": {},
          "output_type": "execute_result"
        }
      ],
      "source": [
        "l5"
      ]
    },
    {
      "cell_type": "code",
      "execution_count": null,
      "metadata": {
        "id": "NZ0Sw195HAdX",
        "outputId": "599cef72-3f77-465b-d7d5-4ee160b8a143"
      },
      "outputs": [
        {
          "data": {
            "text/plain": [
              "(234, 34, 'sudh', 56, 3.45, 34, 34, 34, True)"
            ]
          },
          "execution_count": 57,
          "metadata": {},
          "output_type": "execute_result"
        }
      ],
      "source": [
        "tuple(l5)"
      ]
    },
    {
      "cell_type": "code",
      "execution_count": null,
      "metadata": {
        "id": "0RO1YXjhHAdY"
      },
      "outputs": [],
      "source": [
        "t = ((3,4,5,6,7) , (\"sdfsd\",45,45) , (\"454\",54) , 45,454,67 , [4,5,6,7,7])"
      ]
    },
    {
      "cell_type": "code",
      "execution_count": null,
      "metadata": {
        "id": "OfJm9XeZHAdY",
        "outputId": "34285854-5ce2-4b6f-c1a7-572a7fdf0e24"
      },
      "outputs": [
        {
          "data": {
            "text/plain": [
              "[5, 6, 7]"
            ]
          },
          "execution_count": 65,
          "metadata": {},
          "output_type": "execute_result"
        }
      ],
      "source": [
        "t[6][1:4]"
      ]
    },
    {
      "cell_type": "code",
      "execution_count": null,
      "metadata": {
        "id": "9jRkLvCUHAdZ",
        "outputId": "5cd04bf1-2467-4dc3-8b07-3ee7c5371e83"
      },
      "outputs": [
        {
          "data": {
            "text/plain": [
              "'sdfsd'"
            ]
          },
          "execution_count": 67,
          "metadata": {},
          "output_type": "execute_result"
        }
      ],
      "source": [
        "t[1][0]"
      ]
    },
    {
      "cell_type": "code",
      "execution_count": null,
      "metadata": {
        "id": "JXrCYV1rHAdZ",
        "outputId": "ad203677-50ac-4027-cebe-2e6bf7289d60"
      },
      "outputs": [
        {
          "name": "stdout",
          "output_type": "stream",
          "text": [
            "(3, 4, 5, 6, 7)\n",
            "('sdfsd', 45, 45)\n",
            "('454', 54)\n",
            "45\n",
            "454\n",
            "67\n",
            "[4, 5, 6, 7, 7]\n"
          ]
        }
      ],
      "source": [
        "for i in t :\n",
        "    print(i)"
      ]
    },
    {
      "cell_type": "code",
      "execution_count": null,
      "metadata": {
        "id": "cVYR2ozqHAda",
        "outputId": "5b07667d-e23b-4882-ec0e-7196dbff5a05"
      },
      "outputs": [
        {
          "name": "stdout",
          "output_type": "stream",
          "text": [
            "3\n",
            "sdfsd\n",
            "454\n"
          ]
        }
      ],
      "source": [
        "for i in t :\n",
        "    if type(i)==tuple :\n",
        "        print(i[0])"
      ]
    },
    {
      "cell_type": "code",
      "execution_count": null,
      "metadata": {
        "id": "N8b53pswHAdb",
        "outputId": "7c9dc474-7ce9-4797-eeb7-abeb51f95bc7"
      },
      "outputs": [
        {
          "data": {
            "text/plain": [
              "(234, 34, 'sudh', 3.45, 34, 34, 34, True)"
            ]
          },
          "execution_count": 70,
          "metadata": {},
          "output_type": "execute_result"
        }
      ],
      "source": [
        "t1 "
      ]
    },
    {
      "cell_type": "code",
      "execution_count": null,
      "metadata": {
        "id": "NTEDKSUgHAdb",
        "outputId": "3bc1821a-be09-4737-db8d-7bd4f2c7605a"
      },
      "outputs": [
        {
          "data": {
            "text/plain": [
              "(234, 54, 565)"
            ]
          },
          "execution_count": 71,
          "metadata": {},
          "output_type": "execute_result"
        }
      ],
      "source": [
        "t2"
      ]
    },
    {
      "cell_type": "code",
      "execution_count": null,
      "metadata": {
        "id": "ymymL-kHHAdc",
        "outputId": "e630986f-2bf0-4511-dd4b-969d843d5554"
      },
      "outputs": [
        {
          "name": "stdout",
          "output_type": "stream",
          "text": [
            "not same \n"
          ]
        }
      ],
      "source": [
        "if len(t1) == len(t2):\n",
        "    print(\"its same \")\n",
        "else :\n",
        "    print(\"not same \")"
      ]
    },
    {
      "cell_type": "code",
      "execution_count": null,
      "metadata": {
        "id": "TEFedotfHAdd"
      },
      "outputs": [],
      "source": [
        "t = (234, 34, 'sudh', 3.45, 34, 34, 34, True , \"kumar\")\n",
        "\n"
      ]
    },
    {
      "cell_type": "code",
      "execution_count": null,
      "metadata": {
        "id": "DTOyiw3IHAdd",
        "outputId": "9028324f-7e0c-4f9b-b313-23153ede279f"
      },
      "outputs": [
        {
          "name": "stdout",
          "output_type": "stream",
          "text": [
            "take a user input34\n",
            "your name is not available \n"
          ]
        }
      ],
      "source": [
        "i = input(\"take a user input\")\n",
        "\n",
        "if i in t :\n",
        "    print(\"yet s your name is available \")\n",
        "else :\n",
        "    print(\"your name is not available \")"
      ]
    },
    {
      "cell_type": "code",
      "execution_count": null,
      "metadata": {
        "id": "8VaTsyI0HAde",
        "outputId": "3d018b2b-2a3d-4ee0-f87d-89462e9ff0ce"
      },
      "outputs": [
        {
          "data": {
            "text/plain": [
              "(234, 34, 'sudh', 3.45, 34, 34, 34, True, 'kumar')"
            ]
          },
          "execution_count": 78,
          "metadata": {},
          "output_type": "execute_result"
        }
      ],
      "source": [
        "t"
      ]
    },
    {
      "cell_type": "code",
      "execution_count": null,
      "metadata": {
        "id": "Fne5cmwYHAde",
        "outputId": "aa6f33f5-c74c-42a7-9b6e-0c3b43194447"
      },
      "outputs": [
        {
          "data": {
            "text/plain": [
              "['kumar', 34, 'sudh', 3.45, True]"
            ]
          },
          "execution_count": 80,
          "metadata": {},
          "output_type": "execute_result"
        }
      ],
      "source": [
        "l1"
      ]
    },
    {
      "cell_type": "code",
      "execution_count": null,
      "metadata": {
        "id": "JQdZIlO1HAdf"
      },
      "outputs": [],
      "source": [
        "t1  = (34)"
      ]
    },
    {
      "cell_type": "code",
      "execution_count": null,
      "metadata": {
        "id": "yl7DBsIoHAdf"
      },
      "outputs": [],
      "source": [
        "del(t)"
      ]
    },
    {
      "cell_type": "code",
      "execution_count": null,
      "metadata": {
        "id": "Vv-rL9OWHAdg",
        "outputId": "26df1df0-4ae6-4ee2-d7b8-decbc737c631"
      },
      "outputs": [
        {
          "ename": "NameError",
          "evalue": "name 't' is not defined",
          "output_type": "error",
          "traceback": [
            "\u001b[1;31m---------------------------------------------------------------------------\u001b[0m",
            "\u001b[1;31mNameError\u001b[0m                                 Traceback (most recent call last)",
            "\u001b[1;32m<ipython-input-87-34fc7a11cb38>\u001b[0m in \u001b[0;36m<module>\u001b[1;34m\u001b[0m\n\u001b[1;32m----> 1\u001b[1;33m \u001b[0mt\u001b[0m\u001b[1;33m\u001b[0m\u001b[1;33m\u001b[0m\u001b[0m\n\u001b[0m",
            "\u001b[1;31mNameError\u001b[0m: name 't' is not defined"
          ]
        }
      ],
      "source": [
        "t"
      ]
    },
    {
      "cell_type": "code",
      "execution_count": null,
      "metadata": {
        "id": "PMMGyQ57HAdg"
      },
      "outputs": [],
      "source": [
        "del(l1)"
      ]
    },
    {
      "cell_type": "code",
      "execution_count": null,
      "metadata": {
        "id": "AmppxMqtHAdh",
        "outputId": "ce68e2d6-a7db-4444-ecfd-5a8450bd3cc9"
      },
      "outputs": [
        {
          "ename": "NameError",
          "evalue": "name 'l1' is not defined",
          "output_type": "error",
          "traceback": [
            "\u001b[1;31m---------------------------------------------------------------------------\u001b[0m",
            "\u001b[1;31mNameError\u001b[0m                                 Traceback (most recent call last)",
            "\u001b[1;32m<ipython-input-89-6cf485bc2797>\u001b[0m in \u001b[0;36m<module>\u001b[1;34m\u001b[0m\n\u001b[1;32m----> 1\u001b[1;33m \u001b[0ml1\u001b[0m\u001b[1;33m\u001b[0m\u001b[1;33m\u001b[0m\u001b[0m\n\u001b[0m",
            "\u001b[1;31mNameError\u001b[0m: name 'l1' is not defined"
          ]
        }
      ],
      "source": [
        "l1"
      ]
    },
    {
      "cell_type": "code",
      "execution_count": null,
      "metadata": {
        "id": "G8K_wP3wHAdh"
      },
      "outputs": [],
      "source": [
        "l = [324,343,343,34]"
      ]
    },
    {
      "cell_type": "code",
      "execution_count": null,
      "metadata": {
        "id": "o30olksfHAdi",
        "outputId": "677ad41c-182d-4d6f-83d4-28ecb54a5c03"
      },
      "outputs": [
        {
          "data": {
            "text/plain": [
              "(234, 54, 565)"
            ]
          },
          "execution_count": 92,
          "metadata": {},
          "output_type": "execute_result"
        }
      ],
      "source": [
        "t2"
      ]
    },
    {
      "cell_type": "code",
      "execution_count": null,
      "metadata": {
        "id": "u4V1Lj2ZHAdi"
      },
      "outputs": [],
      "source": [
        "x = set()"
      ]
    },
    {
      "cell_type": "code",
      "execution_count": null,
      "metadata": {
        "id": "-v5VZ4HjHAdj",
        "outputId": "7919916c-4900-4b55-c7fd-2b249fa300a1"
      },
      "outputs": [
        {
          "data": {
            "text/plain": [
              "set"
            ]
          },
          "execution_count": 94,
          "metadata": {},
          "output_type": "execute_result"
        }
      ],
      "source": [
        "type(x)"
      ]
    },
    {
      "cell_type": "code",
      "execution_count": null,
      "metadata": {
        "id": "vqYtm-vMHAdj"
      },
      "outputs": [],
      "source": [
        "l = [34,45,45,45,45,67,34,56,78,\"sudh\",\"sudh\",\"Sudh\",\"kumar\" ,45,454545454,545,4545,545 , [3,45,6]]"
      ]
    },
    {
      "cell_type": "code",
      "execution_count": null,
      "metadata": {
        "id": "eFcBGRmFHAdk",
        "outputId": "789928f0-a69c-475b-8585-9d33a214ea47"
      },
      "outputs": [
        {
          "ename": "TypeError",
          "evalue": "unhashable type: 'list'",
          "output_type": "error",
          "traceback": [
            "\u001b[1;31m---------------------------------------------------------------------------\u001b[0m",
            "\u001b[1;31mTypeError\u001b[0m                                 Traceback (most recent call last)",
            "\u001b[1;32m<ipython-input-124-3c7060e5ad20>\u001b[0m in \u001b[0;36m<module>\u001b[1;34m\u001b[0m\n\u001b[1;32m----> 1\u001b[1;33m \u001b[0ms\u001b[0m \u001b[1;33m=\u001b[0m \u001b[0mset\u001b[0m\u001b[1;33m(\u001b[0m\u001b[0ml\u001b[0m\u001b[1;33m)\u001b[0m\u001b[1;33m\u001b[0m\u001b[1;33m\u001b[0m\u001b[0m\n\u001b[0m",
            "\u001b[1;31mTypeError\u001b[0m: unhashable type: 'list'"
          ]
        }
      ],
      "source": [
        "s = set(l)"
      ]
    },
    {
      "cell_type": "code",
      "execution_count": null,
      "metadata": {
        "id": "TRcTroQpHAdl",
        "outputId": "4de6e91f-3117-4811-8830-6a75ac7d2bb8"
      },
      "outputs": [
        {
          "data": {
            "text/plain": [
              "{34, 45, 4545, 454545454, 545, 56, 67, 78, 'Sudh', 'kumar', 'sudh'}"
            ]
          },
          "execution_count": 115,
          "metadata": {},
          "output_type": "execute_result"
        }
      ],
      "source": [
        "s"
      ]
    },
    {
      "cell_type": "code",
      "execution_count": null,
      "metadata": {
        "id": "oUX1Nqg2HAdm",
        "outputId": "a6eae24c-7c39-4b16-b57d-5261b618d719"
      },
      "outputs": [
        {
          "name": "stdout",
          "output_type": "stream",
          "text": [
            "34\n",
            "67\n",
            "45\n",
            "78\n",
            "Sudh\n",
            "kumar\n",
            "56\n",
            "sudh\n"
          ]
        }
      ],
      "source": [
        "for i in s :\n",
        "    print(i)"
      ]
    },
    {
      "cell_type": "code",
      "execution_count": null,
      "metadata": {
        "id": "qfrMkIrfHAdm",
        "outputId": "d4dfd34b-b2cf-4a0f-c5fd-cfeded26b474"
      },
      "outputs": [
        {
          "data": {
            "text/plain": [
              "True"
            ]
          },
          "execution_count": 102,
          "metadata": {},
          "output_type": "execute_result"
        }
      ],
      "source": [
        "34 in s "
      ]
    },
    {
      "cell_type": "code",
      "execution_count": null,
      "metadata": {
        "id": "cTXNCFkWHAdn",
        "outputId": "2a08c28d-7525-4812-dcec-e25bb8942a17"
      },
      "outputs": [
        {
          "ename": "TypeError",
          "evalue": "'set' object is not subscriptable",
          "output_type": "error",
          "traceback": [
            "\u001b[1;31m---------------------------------------------------------------------------\u001b[0m",
            "\u001b[1;31mTypeError\u001b[0m                                 Traceback (most recent call last)",
            "\u001b[1;32m<ipython-input-106-c9c96910e542>\u001b[0m in \u001b[0;36m<module>\u001b[1;34m\u001b[0m\n\u001b[1;32m----> 1\u001b[1;33m \u001b[0ms\u001b[0m\u001b[1;33m[\u001b[0m\u001b[1;36m0\u001b[0m\u001b[1;33m]\u001b[0m\u001b[1;33m\u001b[0m\u001b[1;33m\u001b[0m\u001b[0m\n\u001b[0m",
            "\u001b[1;31mTypeError\u001b[0m: 'set' object is not subscriptable"
          ]
        }
      ],
      "source": [
        "s[0]"
      ]
    },
    {
      "cell_type": "code",
      "execution_count": null,
      "metadata": {
        "id": "zx5iq0-EHAdo",
        "outputId": "de1ae600-c0ee-4ce7-af29-031c8a8fce45"
      },
      "outputs": [
        {
          "data": {
            "text/plain": [
              "set()"
            ]
          },
          "execution_count": 117,
          "metadata": {},
          "output_type": "execute_result"
        }
      ],
      "source": [
        "s = set()\n",
        "s"
      ]
    },
    {
      "cell_type": "code",
      "execution_count": null,
      "metadata": {
        "id": "nnCQNfpkHAdo"
      },
      "outputs": [],
      "source": [
        "s.add(45)"
      ]
    },
    {
      "cell_type": "code",
      "execution_count": null,
      "metadata": {
        "id": "gRBUDjFWHAdq",
        "outputId": "911a9008-58d6-401e-ee9c-39193a182b0e"
      },
      "outputs": [
        {
          "data": {
            "text/plain": [
              "{45}"
            ]
          },
          "execution_count": 119,
          "metadata": {},
          "output_type": "execute_result"
        }
      ],
      "source": [
        "s"
      ]
    },
    {
      "cell_type": "code",
      "execution_count": null,
      "metadata": {
        "id": "SIaC4MunHAdt"
      },
      "outputs": [],
      "source": [
        "s.add(\"sudh\")"
      ]
    },
    {
      "cell_type": "code",
      "execution_count": null,
      "metadata": {
        "id": "yvuUXAsCHAdu"
      },
      "outputs": [],
      "source": [
        "s.add(\"fsdfsfs\")"
      ]
    },
    {
      "cell_type": "code",
      "execution_count": null,
      "metadata": {
        "id": "9Ing-mBtHAdv",
        "outputId": "a68d3397-15bc-4308-ccbd-8fa976c60bb4"
      },
      "outputs": [
        {
          "ename": "TypeError",
          "evalue": "unhashable type: 'list'",
          "output_type": "error",
          "traceback": [
            "\u001b[1;31m---------------------------------------------------------------------------\u001b[0m",
            "\u001b[1;31mTypeError\u001b[0m                                 Traceback (most recent call last)",
            "\u001b[1;32m<ipython-input-122-27fd4cc9406d>\u001b[0m in \u001b[0;36m<module>\u001b[1;34m\u001b[0m\n\u001b[1;32m----> 1\u001b[1;33m \u001b[0ms\u001b[0m\u001b[1;33m.\u001b[0m\u001b[0madd\u001b[0m\u001b[1;33m(\u001b[0m\u001b[1;33m[\u001b[0m\u001b[1;36m2344455\u001b[0m\u001b[1;33m,\u001b[0m\u001b[1;36m454\u001b[0m\u001b[1;33m]\u001b[0m\u001b[1;33m)\u001b[0m\u001b[1;33m\u001b[0m\u001b[1;33m\u001b[0m\u001b[0m\n\u001b[0m",
            "\u001b[1;31mTypeError\u001b[0m: unhashable type: 'list'"
          ]
        }
      ],
      "source": [
        "s.add([2344455,454])"
      ]
    },
    {
      "cell_type": "code",
      "execution_count": null,
      "metadata": {
        "id": "7afDS4q7HAdw",
        "outputId": "93033a3e-ec54-411f-ca08-d7fef92dad70"
      },
      "outputs": [
        {
          "data": {
            "text/plain": [
              "{45, 'fsdfsfs', 'sudh'}"
            ]
          },
          "execution_count": 125,
          "metadata": {},
          "output_type": "execute_result"
        }
      ],
      "source": [
        "s"
      ]
    },
    {
      "cell_type": "code",
      "execution_count": null,
      "metadata": {
        "id": "pRvNcggMHAdx"
      },
      "outputs": [],
      "source": [
        "s.add(45)"
      ]
    },
    {
      "cell_type": "code",
      "execution_count": null,
      "metadata": {
        "id": "88emQOqxHAdz",
        "outputId": "71da40d5-4436-45ec-f2aa-042569cc17a0"
      },
      "outputs": [
        {
          "data": {
            "text/plain": [
              "{45, 'fsdfsfs', 'sudh'}"
            ]
          },
          "execution_count": 127,
          "metadata": {},
          "output_type": "execute_result"
        }
      ],
      "source": [
        "s"
      ]
    },
    {
      "cell_type": "code",
      "execution_count": null,
      "metadata": {
        "id": "WVaGITroHAd1",
        "outputId": "a863dbb0-c0eb-4917-a2a8-8ba71f8675b3"
      },
      "outputs": [
        {
          "data": {
            "text/plain": [
              "{45, 'fsdfsfs', 'sudh'}"
            ]
          },
          "execution_count": 128,
          "metadata": {},
          "output_type": "execute_result"
        }
      ],
      "source": [
        "s"
      ]
    },
    {
      "cell_type": "code",
      "execution_count": null,
      "metadata": {
        "id": "1uQVSIkDHAd2",
        "outputId": "33e24d68-2aca-498b-d8db-eb85eaf29983"
      },
      "outputs": [
        {
          "ename": "KeyError",
          "evalue": "45",
          "output_type": "error",
          "traceback": [
            "\u001b[1;31m---------------------------------------------------------------------------\u001b[0m",
            "\u001b[1;31mKeyError\u001b[0m                                  Traceback (most recent call last)",
            "\u001b[1;32m<ipython-input-131-30b5ee21a9a0>\u001b[0m in \u001b[0;36m<module>\u001b[1;34m\u001b[0m\n\u001b[1;32m----> 1\u001b[1;33m \u001b[0ms\u001b[0m\u001b[1;33m.\u001b[0m\u001b[0mremove\u001b[0m\u001b[1;33m(\u001b[0m\u001b[1;36m45\u001b[0m\u001b[1;33m)\u001b[0m\u001b[1;33m\u001b[0m\u001b[1;33m\u001b[0m\u001b[0m\n\u001b[0m",
            "\u001b[1;31mKeyError\u001b[0m: 45"
          ]
        }
      ],
      "source": [
        "s.remove(45)"
      ]
    },
    {
      "cell_type": "code",
      "execution_count": null,
      "metadata": {
        "id": "sqUbPILsHAd3",
        "outputId": "5dd0d6af-2f7c-4dc3-a166-6fbd313acec3"
      },
      "outputs": [
        {
          "data": {
            "text/plain": [
              "{'fsdfsfs', 'sudh'}"
            ]
          },
          "execution_count": 130,
          "metadata": {},
          "output_type": "execute_result"
        }
      ],
      "source": [
        "s"
      ]
    },
    {
      "cell_type": "code",
      "execution_count": null,
      "metadata": {
        "id": "03ovYvp2HAd4",
        "outputId": "871d1bef-c302-4747-cb72-e4d2411c29af"
      },
      "outputs": [
        {
          "data": {
            "text/plain": [
              "False"
            ]
          },
          "execution_count": 132,
          "metadata": {},
          "output_type": "execute_result"
        }
      ],
      "source": [
        "45 in s"
      ]
    },
    {
      "cell_type": "code",
      "execution_count": null,
      "metadata": {
        "id": "zzzealaZHAd6"
      },
      "outputs": [],
      "source": [
        "s.clear()"
      ]
    },
    {
      "cell_type": "code",
      "execution_count": null,
      "metadata": {
        "id": "d3zocXAlHAd6",
        "outputId": "a06ee6bf-a258-4db5-8968-09f4176d34cf"
      },
      "outputs": [
        {
          "data": {
            "text/plain": [
              "set()"
            ]
          },
          "execution_count": 134,
          "metadata": {},
          "output_type": "execute_result"
        }
      ],
      "source": [
        "s"
      ]
    },
    {
      "cell_type": "code",
      "execution_count": null,
      "metadata": {
        "id": "ODo-MUKhHAd8",
        "outputId": "f17874cc-fdc2-4d09-ac56-f8d6279f197d"
      },
      "outputs": [
        {
          "data": {
            "text/plain": [
              "set()"
            ]
          },
          "execution_count": 135,
          "metadata": {},
          "output_type": "execute_result"
        }
      ],
      "source": [
        "s "
      ]
    },
    {
      "cell_type": "code",
      "execution_count": null,
      "metadata": {
        "id": "cW8g2nm9HAd9",
        "outputId": "5d45e51c-c380-489a-a2f8-97bab81baff8"
      },
      "outputs": [
        {
          "data": {
            "text/plain": [
              "set()"
            ]
          },
          "execution_count": 137,
          "metadata": {},
          "output_type": "execute_result"
        }
      ],
      "source": [
        "s "
      ]
    },
    {
      "cell_type": "code",
      "execution_count": null,
      "metadata": {
        "id": "4fPL757zHAd-"
      },
      "outputs": [],
      "source": [
        "s.add(\"sdfsd\")"
      ]
    },
    {
      "cell_type": "code",
      "execution_count": null,
      "metadata": {
        "id": "sDlMf0RGHAd_"
      },
      "outputs": [],
      "source": [
        "s.add(234)"
      ]
    },
    {
      "cell_type": "code",
      "execution_count": null,
      "metadata": {
        "id": "udQ01EioHAeA"
      },
      "outputs": [],
      "source": [
        "s.add(345)"
      ]
    },
    {
      "cell_type": "code",
      "execution_count": null,
      "metadata": {
        "id": "4AQgbx5FHAeB"
      },
      "outputs": [],
      "source": [
        "s.add(\"wer\")"
      ]
    },
    {
      "cell_type": "code",
      "execution_count": null,
      "metadata": {
        "id": "hFLI-iFxHAeC",
        "outputId": "a04e2616-d1aa-466d-8547-1d77be951a1e"
      },
      "outputs": [
        {
          "data": {
            "text/plain": [
              "{234, 345, 'sdfsd', 'wer'}"
            ]
          },
          "execution_count": 142,
          "metadata": {},
          "output_type": "execute_result"
        }
      ],
      "source": [
        "s"
      ]
    },
    {
      "cell_type": "code",
      "execution_count": null,
      "metadata": {
        "id": "HCHCQEsjHAeD"
      },
      "outputs": [],
      "source": [
        "s1 = set(l)"
      ]
    },
    {
      "cell_type": "code",
      "execution_count": null,
      "metadata": {
        "id": "fXUT3KP3HAeG"
      },
      "outputs": [],
      "source": [
        "l = [345,5464566,54645,6546,4654,654,6]"
      ]
    },
    {
      "cell_type": "code",
      "execution_count": null,
      "metadata": {
        "id": "maRe0bE2HAeH",
        "outputId": "ff680c03-8993-46ef-d097-52b8fc0fba8c"
      },
      "outputs": [
        {
          "data": {
            "text/plain": [
              "{6, 345, 654, 4654, 6546, 54645, 5464566}"
            ]
          },
          "execution_count": 147,
          "metadata": {},
          "output_type": "execute_result"
        }
      ],
      "source": [
        "s1"
      ]
    },
    {
      "cell_type": "code",
      "execution_count": null,
      "metadata": {
        "id": "9rFEWpEqHAeI",
        "outputId": "6889c0c8-7201-4230-bed0-8ec23d7452f5"
      },
      "outputs": [
        {
          "ename": "TypeError",
          "evalue": "unsupported operand type(s) for +: 'set' and 'set'",
          "output_type": "error",
          "traceback": [
            "\u001b[1;31m---------------------------------------------------------------------------\u001b[0m",
            "\u001b[1;31mTypeError\u001b[0m                                 Traceback (most recent call last)",
            "\u001b[1;32m<ipython-input-148-e53cb767b11d>\u001b[0m in \u001b[0;36m<module>\u001b[1;34m\u001b[0m\n\u001b[1;32m----> 1\u001b[1;33m \u001b[0ms\u001b[0m \u001b[1;33m+\u001b[0m \u001b[0ms1\u001b[0m\u001b[1;33m\u001b[0m\u001b[1;33m\u001b[0m\u001b[0m\n\u001b[0m",
            "\u001b[1;31mTypeError\u001b[0m: unsupported operand type(s) for +: 'set' and 'set'"
          ]
        }
      ],
      "source": [
        "s + s1"
      ]
    },
    {
      "cell_type": "code",
      "execution_count": null,
      "metadata": {
        "id": "HEC9qO11HAeJ",
        "outputId": "92578613-4493-4365-a4f6-a7f86f4e2a3f"
      },
      "outputs": [
        {
          "ename": "TypeError",
          "evalue": "unsupported operand type(s) for *: 'set' and 'int'",
          "output_type": "error",
          "traceback": [
            "\u001b[1;31m---------------------------------------------------------------------------\u001b[0m",
            "\u001b[1;31mTypeError\u001b[0m                                 Traceback (most recent call last)",
            "\u001b[1;32m<ipython-input-149-bfe08a66835a>\u001b[0m in \u001b[0;36m<module>\u001b[1;34m\u001b[0m\n\u001b[1;32m----> 1\u001b[1;33m \u001b[0ms\u001b[0m \u001b[1;33m*\u001b[0m \u001b[1;36m4\u001b[0m\u001b[1;33m\u001b[0m\u001b[1;33m\u001b[0m\u001b[0m\n\u001b[0m",
            "\u001b[1;31mTypeError\u001b[0m: unsupported operand type(s) for *: 'set' and 'int'"
          ]
        }
      ],
      "source": [
        "s * 4"
      ]
    },
    {
      "cell_type": "code",
      "execution_count": null,
      "metadata": {
        "id": "gkNl9ZHHHAeK",
        "outputId": "74f09f9a-7221-4370-8b22-41890c3861e5"
      },
      "outputs": [
        {
          "data": {
            "text/plain": [
              "{234, 345, 'sdfsd', 'wer'}"
            ]
          },
          "execution_count": 150,
          "metadata": {},
          "output_type": "execute_result"
        }
      ],
      "source": [
        "s "
      ]
    },
    {
      "cell_type": "code",
      "execution_count": null,
      "metadata": {
        "id": "HRMkdLjWHAeT"
      },
      "outputs": [],
      "source": [
        "l4 = list(s)"
      ]
    },
    {
      "cell_type": "code",
      "execution_count": null,
      "metadata": {
        "id": "bGRX6V1HHAeU"
      },
      "outputs": [],
      "source": [
        "l4.append(345)"
      ]
    },
    {
      "cell_type": "markdown",
      "metadata": {
        "id": "9ni11LzpHAeV"
      },
      "source": [
        "#### "
      ]
    },
    {
      "cell_type": "code",
      "execution_count": null,
      "metadata": {
        "id": "E-kdcD56HAeY",
        "outputId": "d744eca6-bb4e-4ee6-c8d4-765d89ca78c3"
      },
      "outputs": [
        {
          "data": {
            "text/plain": [
              "['sdfsd', 345, 234, 'wer', 454, 345]"
            ]
          },
          "execution_count": 156,
          "metadata": {},
          "output_type": "execute_result"
        }
      ],
      "source": [
        "l4"
      ]
    },
    {
      "cell_type": "code",
      "execution_count": null,
      "metadata": {
        "id": "ep66DRh6HAeZ"
      },
      "outputs": [],
      "source": [
        " t4 = tuple(s)"
      ]
    },
    {
      "cell_type": "code",
      "execution_count": null,
      "metadata": {
        "id": "cuF0O5U0HAea",
        "outputId": "0f782aaf-c271-406c-e279-68b5f96e58f6"
      },
      "outputs": [
        {
          "data": {
            "text/plain": [
              "{234, 345, 'sdfsd', 'wer'}"
            ]
          },
          "execution_count": 159,
          "metadata": {},
          "output_type": "execute_result"
        }
      ],
      "source": [
        "set(t4)"
      ]
    },
    {
      "cell_type": "code",
      "execution_count": null,
      "metadata": {
        "id": "tjX4LXfTHAeb",
        "outputId": "11bed5e3-e56e-4246-d058-d319d06562ff"
      },
      "outputs": [
        {
          "data": {
            "text/plain": [
              "{234, 345, 'sdfsd', 'wer'}"
            ]
          },
          "execution_count": 160,
          "metadata": {},
          "output_type": "execute_result"
        }
      ],
      "source": [
        "s "
      ]
    },
    {
      "cell_type": "code",
      "execution_count": null,
      "metadata": {
        "id": "HKDBLZb6HAeb",
        "outputId": "77d05bbe-1c98-4719-b9b6-019b3d7d78fb"
      },
      "outputs": [
        {
          "ename": "TypeError",
          "evalue": "'set' object does not support item assignment",
          "output_type": "error",
          "traceback": [
            "\u001b[1;31m---------------------------------------------------------------------------\u001b[0m",
            "\u001b[1;31mTypeError\u001b[0m                                 Traceback (most recent call last)",
            "\u001b[1;32m<ipython-input-162-0b3feb6a5a72>\u001b[0m in \u001b[0;36m<module>\u001b[1;34m\u001b[0m\n\u001b[1;32m----> 1\u001b[1;33m \u001b[0ms\u001b[0m\u001b[1;33m[\u001b[0m\u001b[1;36m0\u001b[0m\u001b[1;33m]\u001b[0m \u001b[1;33m=\u001b[0m \u001b[1;34m\"fsdfs\"\u001b[0m\u001b[1;33m\u001b[0m\u001b[1;33m\u001b[0m\u001b[0m\n\u001b[0m",
            "\u001b[1;31mTypeError\u001b[0m: 'set' object does not support item assignment"
          ]
        }
      ],
      "source": [
        "s[0] = \"fsdfs\""
      ]
    },
    {
      "cell_type": "code",
      "execution_count": null,
      "metadata": {
        "id": "j6pS5h5-HAec"
      },
      "outputs": [],
      "source": [
        "x = {}"
      ]
    },
    {
      "cell_type": "code",
      "execution_count": null,
      "metadata": {
        "id": "kp2aeDhnHAed",
        "outputId": "fa900b57-9104-4f83-8c46-da75dfefd19c"
      },
      "outputs": [
        {
          "data": {
            "text/plain": [
              "dict"
            ]
          },
          "execution_count": 164,
          "metadata": {},
          "output_type": "execute_result"
        }
      ],
      "source": [
        "type(x)"
      ]
    },
    {
      "cell_type": "code",
      "execution_count": null,
      "metadata": {
        "id": "hLy55-sQHAed"
      },
      "outputs": [],
      "source": [
        "x1 = {34,56}"
      ]
    },
    {
      "cell_type": "code",
      "execution_count": null,
      "metadata": {
        "id": "rIDnybAhHAed",
        "outputId": "f7697b82-9e67-4480-d1d2-4c7b1e01e3c5"
      },
      "outputs": [
        {
          "data": {
            "text/plain": [
              "set"
            ]
          },
          "execution_count": 166,
          "metadata": {},
          "output_type": "execute_result"
        }
      ],
      "source": [
        "type(x1)"
      ]
    },
    {
      "cell_type": "code",
      "execution_count": null,
      "metadata": {
        "id": "KXgTYDe5HAef"
      },
      "outputs": [],
      "source": [
        "x = {\"name \" :\"sudh\"  , \"age\": 3455}"
      ]
    },
    {
      "cell_type": "code",
      "execution_count": null,
      "metadata": {
        "id": "RZhp8Y9CHAef",
        "outputId": "01f586c3-9c1f-49ec-f7e7-26988d180e4b"
      },
      "outputs": [
        {
          "data": {
            "text/plain": [
              "dict"
            ]
          },
          "execution_count": 168,
          "metadata": {},
          "output_type": "execute_result"
        }
      ],
      "source": [
        "type(x)"
      ]
    },
    {
      "cell_type": "code",
      "execution_count": null,
      "metadata": {
        "id": "_vZ7fvpMHAeg"
      },
      "outputs": [],
      "source": [
        "x1 = {\"name \" :\"sudh\"  , \"age\": 3455 ,True : {45,34545,454,54}, \"key\" : False , 34554:(45,45,45,45) , \"_sfsdf\" : [34,45,454,54,545]}"
      ]
    },
    {
      "cell_type": "code",
      "execution_count": null,
      "metadata": {
        "id": "qVXGlIUbHAeg",
        "outputId": "f8ed355f-d8e2-4bae-bb05-c8135b440368"
      },
      "outputs": [
        {
          "data": {
            "text/plain": [
              "{'name ': 'sudh',\n",
              " 'age': 3455,\n",
              " True: {45, 54, 454, 34545},\n",
              " 'key': False,\n",
              " 34554: (45, 45, 45, 45),\n",
              " '_sfsdf': [34, 45, 454, 54, 545]}"
            ]
          },
          "execution_count": 184,
          "metadata": {},
          "output_type": "execute_result"
        }
      ],
      "source": [
        "x1"
      ]
    },
    {
      "cell_type": "code",
      "execution_count": null,
      "metadata": {
        "id": "KSWkuNliHAeh"
      },
      "outputs": [],
      "source": [
        "x2 = {\"name \" :{\"k1\":\"wer\",'k4' :[345,534535,534,]} , \"age\": 3455 ,True : {45,34545,454,54}, \"key\" : False , 34554:(45,45,45,45) , \"_sfsdf\" : [34,45,454,54,545]}"
      ]
    },
    {
      "cell_type": "code",
      "execution_count": null,
      "metadata": {
        "id": "dt8D_tfAHAeh",
        "outputId": "f29ec5e2-0f78-485b-a52f-79ee64b0cc24"
      },
      "outputs": [
        {
          "data": {
            "text/plain": [
              "{'name ': {'k1': 'wer', 'k4': [345, 534535, 534]},\n",
              " 'age': 3455,\n",
              " True: {45, 54, 454, 34545},\n",
              " 'key': False,\n",
              " 34554: (45, 45, 45, 45),\n",
              " '_sfsdf': [34, 45, 454, 54, 545]}"
            ]
          },
          "execution_count": 186,
          "metadata": {},
          "output_type": "execute_result"
        }
      ],
      "source": [
        "x2"
      ]
    },
    {
      "cell_type": "code",
      "execution_count": null,
      "metadata": {
        "id": "Y3Ih-T6JHAei"
      },
      "outputs": [],
      "source": [
        "x3 = {5:\"wer\",'k4' :[345,534535,534,]} "
      ]
    },
    {
      "cell_type": "code",
      "execution_count": null,
      "metadata": {
        "id": "IT5520QeHAei",
        "outputId": "445c3cea-10e4-417a-c849-3d235b538fbf"
      },
      "outputs": [
        {
          "data": {
            "text/plain": [
              "4"
            ]
          },
          "execution_count": 194,
          "metadata": {},
          "output_type": "execute_result"
        }
      ],
      "source": [
        "l = [34,45,4,54]\n",
        "l[2]"
      ]
    },
    {
      "cell_type": "code",
      "execution_count": null,
      "metadata": {
        "id": "0mu8BXLRHAej",
        "outputId": "56d1aaee-47d7-4b7e-e287-91601e3e46de"
      },
      "outputs": [
        {
          "data": {
            "text/plain": [
              "False"
            ]
          },
          "execution_count": 195,
          "metadata": {},
          "output_type": "execute_result"
        }
      ],
      "source": [
        "x2[\"key\"]"
      ]
    },
    {
      "cell_type": "code",
      "execution_count": null,
      "metadata": {
        "id": "UtQZsFOdHAej",
        "outputId": "2e0c578a-37c1-4eb7-b3d2-eb5b68bc877b"
      },
      "outputs": [
        {
          "data": {
            "text/plain": [
              "(45, 45, 45, 45)"
            ]
          },
          "execution_count": 196,
          "metadata": {},
          "output_type": "execute_result"
        }
      ],
      "source": [
        "x2[34554]"
      ]
    },
    {
      "cell_type": "code",
      "execution_count": null,
      "metadata": {
        "id": "pmBm-vdsHAek",
        "outputId": "d311aab8-ec66-45e1-b37a-889c3cf9f682"
      },
      "outputs": [
        {
          "data": {
            "text/plain": [
              "54"
            ]
          },
          "execution_count": 200,
          "metadata": {},
          "output_type": "execute_result"
        }
      ],
      "source": [
        "x2[\"_sfsdf\"][3]"
      ]
    },
    {
      "cell_type": "code",
      "execution_count": null,
      "metadata": {
        "id": "mrt5Cl4LHAel",
        "outputId": "fb379775-f45c-4a1c-8717-e65bad879d22"
      },
      "outputs": [
        {
          "data": {
            "text/plain": [
              "534"
            ]
          },
          "execution_count": 205,
          "metadata": {},
          "output_type": "execute_result"
        }
      ],
      "source": [
        "x2[\"name \"]['k4'][2]"
      ]
    },
    {
      "cell_type": "code",
      "execution_count": null,
      "metadata": {
        "id": "n20Fc0X7HAem"
      },
      "outputs": [],
      "source": [
        "x3 = {5:\"wer\",'k4' :[345,534535,534,]} "
      ]
    },
    {
      "cell_type": "code",
      "execution_count": null,
      "metadata": {
        "id": "pkbVXpN0HAem"
      },
      "outputs": [],
      "source": [
        "x4 = {\"k4\" :\"Fsdfs\"}"
      ]
    },
    {
      "cell_type": "code",
      "execution_count": null,
      "metadata": {
        "id": "bJmBivuAHAen",
        "outputId": "ab4e652d-917a-4470-d7b2-848c1c88b2bd"
      },
      "outputs": [
        {
          "ename": "TypeError",
          "evalue": "unsupported operand type(s) for +: 'dict' and 'dict'",
          "output_type": "error",
          "traceback": [
            "\u001b[1;31m---------------------------------------------------------------------------\u001b[0m",
            "\u001b[1;31mTypeError\u001b[0m                                 Traceback (most recent call last)",
            "\u001b[1;32m<ipython-input-208-6b27f76da613>\u001b[0m in \u001b[0;36m<module>\u001b[1;34m\u001b[0m\n\u001b[1;32m----> 1\u001b[1;33m \u001b[0mx3\u001b[0m\u001b[1;33m+\u001b[0m\u001b[0mx4\u001b[0m\u001b[1;33m\u001b[0m\u001b[1;33m\u001b[0m\u001b[0m\n\u001b[0m",
            "\u001b[1;31mTypeError\u001b[0m: unsupported operand type(s) for +: 'dict' and 'dict'"
          ]
        }
      ],
      "source": [
        "x3+x4"
      ]
    },
    {
      "cell_type": "code",
      "execution_count": null,
      "metadata": {
        "id": "-FU6bE72HAen",
        "outputId": "2aec37cf-4e92-41ec-b222-4ce1f19c1957"
      },
      "outputs": [
        {
          "ename": "TypeError",
          "evalue": "unsupported operand type(s) for *: 'dict' and 'int'",
          "output_type": "error",
          "traceback": [
            "\u001b[1;31m---------------------------------------------------------------------------\u001b[0m",
            "\u001b[1;31mTypeError\u001b[0m                                 Traceback (most recent call last)",
            "\u001b[1;32m<ipython-input-211-25847429fcd3>\u001b[0m in \u001b[0;36m<module>\u001b[1;34m\u001b[0m\n\u001b[1;32m----> 1\u001b[1;33m \u001b[0mx3\u001b[0m \u001b[1;33m*\u001b[0m \u001b[1;36m3\u001b[0m\u001b[1;33m\u001b[0m\u001b[1;33m\u001b[0m\u001b[0m\n\u001b[0m",
            "\u001b[1;31mTypeError\u001b[0m: unsupported operand type(s) for *: 'dict' and 'int'"
          ]
        }
      ],
      "source": [
        "x3 * 3"
      ]
    },
    {
      "cell_type": "code",
      "execution_count": null,
      "metadata": {
        "id": "uvORnF88HAen",
        "outputId": "0c95afc9-1e2d-455a-8704-b65fbf4ca5ba"
      },
      "outputs": [
        {
          "data": {
            "text/plain": [
              "{5: 'wer', 'k4': [345, 534535, 534]}"
            ]
          },
          "execution_count": 212,
          "metadata": {},
          "output_type": "execute_result"
        }
      ],
      "source": [
        "x3 "
      ]
    },
    {
      "cell_type": "code",
      "execution_count": null,
      "metadata": {
        "id": "D9qWFNSSHAeo"
      },
      "outputs": [],
      "source": [
        "x3['k4'] = 456"
      ]
    },
    {
      "cell_type": "code",
      "execution_count": null,
      "metadata": {
        "id": "CS3gUM_uHAeo",
        "outputId": "b3319bc2-89a1-4601-f256-eb788ccf84fd"
      },
      "outputs": [
        {
          "data": {
            "text/plain": [
              "{5: 'wer', 'k4': 456}"
            ]
          },
          "execution_count": 217,
          "metadata": {},
          "output_type": "execute_result"
        }
      ],
      "source": [
        "x3"
      ]
    },
    {
      "cell_type": "code",
      "execution_count": null,
      "metadata": {
        "id": "yGShDJaGHAep"
      },
      "outputs": [],
      "source": [
        "x3['k4'] -= 10"
      ]
    },
    {
      "cell_type": "code",
      "execution_count": null,
      "metadata": {
        "id": "1ggA0f51HAep"
      },
      "outputs": [],
      "source": [
        "x3['k4'] = x3['k4'] -10"
      ]
    },
    {
      "cell_type": "code",
      "execution_count": null,
      "metadata": {
        "id": "g0nLAT2dHAeq",
        "outputId": "abaeeb42-f460-4796-f77c-92719b533193"
      },
      "outputs": [
        {
          "data": {
            "text/plain": [
              "{5: 'wer', 'k4': 446}"
            ]
          },
          "execution_count": 219,
          "metadata": {},
          "output_type": "execute_result"
        }
      ],
      "source": [
        "x3"
      ]
    },
    {
      "cell_type": "code",
      "execution_count": null,
      "metadata": {
        "id": "032XxNZtHAeq",
        "outputId": "23bcd48b-dd14-4652-9654-3405a142febe"
      },
      "outputs": [
        {
          "data": {
            "text/plain": [
              "True"
            ]
          },
          "execution_count": 222,
          "metadata": {},
          "output_type": "execute_result"
        }
      ],
      "source": [
        "'k4' in x3.keys()"
      ]
    },
    {
      "cell_type": "code",
      "execution_count": null,
      "metadata": {
        "id": "BSW1yn8tHAer",
        "outputId": "bb6cfa1c-0fb9-41fc-bc45-08511c05eb76"
      },
      "outputs": [
        {
          "data": {
            "text/plain": [
              "dict_keys([5, 'k4'])"
            ]
          },
          "execution_count": 223,
          "metadata": {},
          "output_type": "execute_result"
        }
      ],
      "source": [
        "x3.keys()"
      ]
    },
    {
      "cell_type": "code",
      "execution_count": null,
      "metadata": {
        "id": "H6tIaqP7HAes",
        "outputId": "b726b5a9-d08e-40b7-9338-f26bfc43e1ed"
      },
      "outputs": [
        {
          "name": "stdout",
          "output_type": "stream",
          "text": [
            "wer\n",
            "446\n"
          ]
        }
      ],
      "source": [
        "for i in x3.keys() :\n",
        "    print(x3[i])"
      ]
    },
    {
      "cell_type": "code",
      "execution_count": null,
      "metadata": {
        "id": "YFXbiJ-nHAes",
        "outputId": "2851c1a1-82ce-4697-d0e1-de668d1537d7"
      },
      "outputs": [
        {
          "data": {
            "text/plain": [
              "{5: 'wer', 'k4': 446}"
            ]
          },
          "execution_count": 225,
          "metadata": {},
          "output_type": "execute_result"
        }
      ],
      "source": [
        "x3"
      ]
    },
    {
      "cell_type": "code",
      "execution_count": null,
      "metadata": {
        "id": "-GbYM3skHAet",
        "outputId": "a1f09164-c958-4de6-93ec-a9f653d718d5"
      },
      "outputs": [
        {
          "data": {
            "text/plain": [
              "{'name ': {'k1': 'wer', 'k4': [345, 534535, 534]},\n",
              " 'age': 3455,\n",
              " True: {45, 54, 454, 34545},\n",
              " 'key': False,\n",
              " 34554: (45, 45, 45, 45),\n",
              " '_sfsdf': [34, 45, 454, 54, 545]}"
            ]
          },
          "execution_count": 227,
          "metadata": {},
          "output_type": "execute_result"
        }
      ],
      "source": [
        "x2 "
      ]
    },
    {
      "cell_type": "code",
      "execution_count": null,
      "metadata": {
        "id": "-BK10F6uHAet",
        "outputId": "6c15af0a-63e6-43f3-c038-078cedd93bac"
      },
      "outputs": [
        {
          "data": {
            "text/plain": [
              "dict_keys(['name ', 'age', True, 'key', 34554, '_sfsdf'])"
            ]
          },
          "execution_count": 228,
          "metadata": {},
          "output_type": "execute_result"
        }
      ],
      "source": [
        "x2.keys()"
      ]
    },
    {
      "cell_type": "code",
      "execution_count": null,
      "metadata": {
        "id": "LovsBGp3HAeu",
        "outputId": "2e674760-3235-4098-a1e5-8063ad0e9ee8"
      },
      "outputs": [
        {
          "name": "stdout",
          "output_type": "stream",
          "text": [
            "<class 'dict'>\n",
            "<class 'int'>\n",
            "<class 'set'>\n",
            "<class 'bool'>\n",
            "<class 'tuple'>\n",
            "<class 'list'>\n"
          ]
        }
      ],
      "source": [
        "for i in x2.keys():\n",
        "    print(type(x2[i]))"
      ]
    },
    {
      "cell_type": "code",
      "execution_count": null,
      "metadata": {
        "id": "V08DLsgVHAeu",
        "outputId": "a8da4645-23d6-4d1b-aacf-d69d3f182b04"
      },
      "outputs": [
        {
          "data": {
            "text/plain": [
              "dict_items([('name ', {'k1': 'wer', 'k4': [345, 534535, 534]}), ('age', 3455), (True, {54, 34545, 45, 454}), ('key', False), (34554, (45, 45, 45, 45)), ('_sfsdf', [34, 45, 454, 54, 545])])"
            ]
          },
          "execution_count": 232,
          "metadata": {},
          "output_type": "execute_result"
        }
      ],
      "source": [
        "x2.items()"
      ]
    },
    {
      "cell_type": "code",
      "execution_count": null,
      "metadata": {
        "scrolled": true,
        "id": "iQgF0LAmHAev",
        "outputId": "911b842e-33f6-4999-9d8f-dce381e2186b"
      },
      "outputs": [
        {
          "name": "stdout",
          "output_type": "stream",
          "text": [
            "{'k1': 'wer', 'k4': [345, 534535, 534]}\n",
            "3455\n",
            "{54, 34545, 45, 454}\n",
            "False\n",
            "(45, 45, 45, 45)\n",
            "[34, 45, 454, 54, 545]\n"
          ]
        }
      ],
      "source": [
        "for i in x2.items():\n",
        "    print(i[1])"
      ]
    },
    {
      "cell_type": "code",
      "execution_count": null,
      "metadata": {
        "id": "kYk8aXNSHAew"
      },
      "outputs": [],
      "source": [
        "x5 = {(34,56,56) : \"Fsdfsfsd\"}"
      ]
    },
    {
      "cell_type": "code",
      "execution_count": null,
      "metadata": {
        "id": "M-U8kK9GHAew",
        "outputId": "57ab57ff-d9d5-4e8d-fba8-1ca24d78c17b"
      },
      "outputs": [
        {
          "data": {
            "text/plain": [
              "'Fsdfsfsd'"
            ]
          },
          "execution_count": 239,
          "metadata": {},
          "output_type": "execute_result"
        }
      ],
      "source": [
        "x5[(34,56,56) ]"
      ]
    },
    {
      "cell_type": "code",
      "execution_count": null,
      "metadata": {
        "id": "8D6q3wsVHAew",
        "outputId": "375f2be5-1c29-4f93-b9b2-b4d59cef9627"
      },
      "outputs": [
        {
          "data": {
            "text/plain": [
              "{'name ': {'k1': 'wer', 'k4': [345, 534535, 534]},\n",
              " 'age': 3455,\n",
              " True: {45, 54, 454, 34545},\n",
              " 'key': False,\n",
              " 34554: (45, 45, 45, 45),\n",
              " '_sfsdf': [34, 45, 454, 54, 545]}"
            ]
          },
          "execution_count": 240,
          "metadata": {},
          "output_type": "execute_result"
        }
      ],
      "source": [
        "x2"
      ]
    },
    {
      "cell_type": "code",
      "execution_count": null,
      "metadata": {
        "id": "TO2yyIuIHAex",
        "outputId": "5bff1109-6716-4d90-efb2-c89f7974a03a"
      },
      "outputs": [
        {
          "data": {
            "text/plain": [
              "6"
            ]
          },
          "execution_count": 241,
          "metadata": {},
          "output_type": "execute_result"
        }
      ],
      "source": [
        "len(x2)"
      ]
    },
    {
      "cell_type": "code",
      "execution_count": null,
      "metadata": {
        "id": "SsfdGXs1HAex",
        "outputId": "d4452f35-628d-4089-a104-4f2a7c996235"
      },
      "outputs": [
        {
          "data": {
            "text/plain": [
              "{45, 78, 89}"
            ]
          },
          "execution_count": 242,
          "metadata": {},
          "output_type": "execute_result"
        }
      ],
      "source": [
        "e = {56: {45, 78, 89}}\n",
        "e[56]\n"
      ]
    },
    {
      "cell_type": "code",
      "execution_count": null,
      "metadata": {
        "id": "lbpDrC7YHAey",
        "outputId": "80fb978b-c528-4d74-ada3-f798af02b055"
      },
      "outputs": [
        {
          "data": {
            "text/plain": [
              "89"
            ]
          },
          "execution_count": 243,
          "metadata": {},
          "output_type": "execute_result"
        }
      ],
      "source": [
        "list(e[56])[0]\n"
      ]
    },
    {
      "cell_type": "code",
      "execution_count": null,
      "metadata": {
        "id": "MrkYpagoHAey"
      },
      "outputs": [],
      "source": [
        "data=input(\"Enter the paragraph-->> \")\n",
        "\n",
        "# Q1\n",
        "data_list= data.split(\" \")\n",
        "\n",
        "# Q2\n",
        "no_duplicate=set(data_list)\n",
        "\n",
        "# Q3\n",
        "my_dict={}\n",
        "for i in no_duplicate:\n",
        "    my_dict[i]=\"akshat\"\n",
        "# my_dict\n",
        "\n",
        "# Q4\n",
        "tup_list=[]\n",
        "for i in my_dict.keys():\n",
        "    tup_list.append(my_dict[i])\n",
        "\n",
        "print(\"Tuple List-->> \",tuple(tup_list))\n",
        "\n",
        "\n",
        "    \n",
        "# Q5\n",
        "list_keys=[]\n",
        "for i in my_dict.keys():\n",
        "    list_keys.append(i)\n",
        "\n",
        "print(\"List Keys-->> \",list_keys)\n"
      ]
    },
    {
      "cell_type": "code",
      "execution_count": null,
      "metadata": {
        "id": "GGCiuLxTHAez",
        "outputId": "ac6c8ae2-1df3-4be6-9133-5a53a473c2cf"
      },
      "outputs": [
        {
          "name": "stdout",
          "output_type": "stream",
          "text": [
            "Enter the para:dfsafs fds adfas fsdfas dfasfd asdfdsfsa sfa\n"
          ]
        }
      ],
      "source": [
        "paragph = input(\"Enter the para:\")\n",
        "lst1=paragph.split(\" \")\n",
        "s1=set(lst1)\n",
        "dic1=dict.fromkeys(s1,'db')\n",
        "t1=tuple(dic1.keys())\n",
        "l2=list(dic1.values())\n"
      ]
    },
    {
      "cell_type": "code",
      "execution_count": null,
      "metadata": {
        "id": "aVHZQkBnHAe_",
        "outputId": "4dfc884f-19a3-4ec8-9113-a5bbf66ced1e"
      },
      "outputs": [
        {
          "data": {
            "text/plain": [
              "{'adfas', 'asdfdsfsa', 'dfasfd', 'dfsafs', 'fds', 'fsdfas', 'sfa'}"
            ]
          },
          "execution_count": 245,
          "metadata": {},
          "output_type": "execute_result"
        }
      ],
      "source": [
        "s1"
      ]
    },
    {
      "cell_type": "code",
      "execution_count": null,
      "metadata": {
        "id": "nqNreoBFHAfA",
        "outputId": "43c2891b-d32c-436e-a454-20b851d6b3ac"
      },
      "outputs": [
        {
          "data": {
            "text/plain": [
              "{'sfa': 'db',\n",
              " 'dfsafs': 'db',\n",
              " 'adfas': 'db',\n",
              " 'dfasfd': 'db',\n",
              " 'fsdfas': 'db',\n",
              " 'asdfdsfsa': 'db',\n",
              " 'fds': 'db'}"
            ]
          },
          "execution_count": 246,
          "metadata": {},
          "output_type": "execute_result"
        }
      ],
      "source": [
        "dic1"
      ]
    },
    {
      "cell_type": "code",
      "execution_count": null,
      "metadata": {
        "id": "alAO9TsrHAfB",
        "outputId": "3ab0df74-04ba-4f2c-b9c1-9c34ffd8827e"
      },
      "outputs": [
        {
          "data": {
            "text/plain": [
              "('sfa', 'dfsafs', 'adfas', 'dfasfd', 'fsdfas', 'asdfdsfsa', 'fds')"
            ]
          },
          "execution_count": 247,
          "metadata": {},
          "output_type": "execute_result"
        }
      ],
      "source": [
        "t1"
      ]
    },
    {
      "cell_type": "code",
      "execution_count": null,
      "metadata": {
        "id": "qGBuHewdHAfB",
        "outputId": "2b4085ad-9660-4ec1-81e8-1db4f820a980"
      },
      "outputs": [
        {
          "data": {
            "text/plain": [
              "['db', 'db', 'db', 'db', 'db', 'db', 'db']"
            ]
          },
          "execution_count": 248,
          "metadata": {},
          "output_type": "execute_result"
        }
      ],
      "source": [
        "l2"
      ]
    },
    {
      "cell_type": "code",
      "execution_count": null,
      "metadata": {
        "id": "fXTEIiuHHAfB"
      },
      "outputs": [],
      "source": [
        "d = {\"company\":\"ineuron\" ,\"course\": \"full stack data science\" , \"year\" : 2021}"
      ]
    },
    {
      "cell_type": "code",
      "execution_count": null,
      "metadata": {
        "id": "6ef4sFblHAfC",
        "outputId": "6fd5f514-d8f1-4191-cc4f-fb9e537e4b66"
      },
      "outputs": [
        {
          "name": "stdout",
          "output_type": "stream",
          "text": [
            " print a key  :  company  ;  value wise :   ineuron\n",
            " print a key  :  course  ;  value wise :   full stack data science\n",
            " print a key  :  year  ;  value wise :   2021\n"
          ]
        }
      ],
      "source": [
        "for i in d :\n",
        "    print(\" print a key  : \" ,i  , \" ; \", \"value wise :  \" , d[i])"
      ]
    },
    {
      "cell_type": "code",
      "execution_count": null,
      "metadata": {
        "id": "irA4LX4gHAfC",
        "outputId": "09593af5-10fc-4aea-d8d7-71d693f74b75"
      },
      "outputs": [
        {
          "data": {
            "text/plain": [
              "True"
            ]
          },
          "execution_count": 254,
          "metadata": {},
          "output_type": "execute_result"
        }
      ],
      "source": [
        "\"course\" in d "
      ]
    },
    {
      "cell_type": "code",
      "execution_count": null,
      "metadata": {
        "id": "bEJ6QRhxHAfD",
        "outputId": "01519c1d-40bd-49e4-b93f-e73d8060bb09"
      },
      "outputs": [
        {
          "name": "stdout",
          "output_type": "stream",
          "text": [
            "year is fine \n"
          ]
        }
      ],
      "source": [
        "for i in d :\n",
        "    if i == 'year':\n",
        "        if d[i] > 2021:\n",
        "            print(\"year is fine \")\n",
        "        else :\n",
        "            d[i] = 2022"
      ]
    },
    {
      "cell_type": "code",
      "execution_count": null,
      "metadata": {
        "id": "WUsawHA3HAfE",
        "outputId": "7d964313-3d5e-428e-f3ab-51bd7905c439"
      },
      "outputs": [
        {
          "data": {
            "text/plain": [
              "{'company': 'ineuron', 'course': 'full stack data science', 'year': 2022}"
            ]
          },
          "execution_count": 259,
          "metadata": {},
          "output_type": "execute_result"
        }
      ],
      "source": [
        "d"
      ]
    },
    {
      "cell_type": "code",
      "execution_count": null,
      "metadata": {
        "id": "FQWTclfUHAfE"
      },
      "outputs": [],
      "source": [
        "my_dict = {}\n",
        "for i in range(10):\n",
        "    my_dict[i] = i *i"
      ]
    },
    {
      "cell_type": "code",
      "execution_count": null,
      "metadata": {
        "id": "KmEIwRQ9HAfE",
        "outputId": "eeabea67-144d-4df5-f4ee-180f794fa200"
      },
      "outputs": [
        {
          "data": {
            "text/plain": [
              "{0: 0, 1: 1, 2: 4, 3: 9, 4: 16, 5: 25, 6: 36, 7: 49, 8: 64, 9: 81}"
            ]
          },
          "execution_count": 261,
          "metadata": {},
          "output_type": "execute_result"
        }
      ],
      "source": [
        "my_dict"
      ]
    },
    {
      "cell_type": "code",
      "execution_count": null,
      "metadata": {
        "id": "7aPrSFEnHAfF",
        "outputId": "63530103-8245-4e3c-d6cc-72bdf4e8f2ae"
      },
      "outputs": [
        {
          "data": {
            "text/plain": [
              "{0: 0, 3: 9, 6: 36, 9: 81}"
            ]
          },
          "execution_count": 264,
          "metadata": {},
          "output_type": "execute_result"
        }
      ],
      "source": [
        "{i:i*i for i in range(0,10,3)}"
      ]
    },
    {
      "cell_type": "code",
      "execution_count": null,
      "metadata": {
        "id": "Hz_ii1ZOHAfF"
      },
      "outputs": [],
      "source": []
    }
  ],
  "metadata": {
    "kernelspec": {
      "display_name": "Python 3",
      "language": "python",
      "name": "python3"
    },
    "language_info": {
      "codemirror_mode": {
        "name": "ipython",
        "version": 3
      },
      "file_extension": ".py",
      "mimetype": "text/x-python",
      "name": "python",
      "nbconvert_exporter": "python",
      "pygments_lexer": "ipython3",
      "version": "3.8.3"
    },
    "colab": {
      "provenance": [],
      "include_colab_link": true
    }
  },
  "nbformat": 4,
  "nbformat_minor": 0
}